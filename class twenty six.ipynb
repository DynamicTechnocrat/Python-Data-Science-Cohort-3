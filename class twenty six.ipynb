{
 "cells": [
  {
   "cell_type": "code",
   "execution_count": 11,
   "id": "85e67ccc-6a05-44af-aa8b-60bbebe022f4",
   "metadata": {},
   "outputs": [],
   "source": [
    "### data analysis\n",
    "### from HOD (how many girls are in csc)"
   ]
  },
  {
   "cell_type": "code",
   "execution_count": 2,
   "id": "8b3d1fd9-8def-49a9-b3b8-f7ddd717b22e",
   "metadata": {},
   "outputs": [],
   "source": [
    "department = [\"csc\",\"csc\",\"eng\",\"csc\"]\n",
    "names = [\"bola\",\"daniel\",\"shade\",\"dupe\"]\n",
    "gender = [\"female\",\"male\",\"female\",\"female\"]"
   ]
  },
  {
   "cell_type": "code",
   "execution_count": 3,
   "id": "6cb0514c-eff3-479a-ae51-02a86b1f19cc",
   "metadata": {},
   "outputs": [],
   "source": [
    "import pandas as pd"
   ]
  },
  {
   "cell_type": "code",
   "execution_count": 8,
   "id": "744068c5-54da-46cc-9d4f-fb44f313e6a6",
   "metadata": {},
   "outputs": [],
   "source": [
    "df = pd.DataFrame({\"school department\":department,\"student name\":names,\"student gender\":gender})"
   ]
  },
  {
   "cell_type": "code",
   "execution_count": 9,
   "id": "b181211b-de79-4d60-9618-e46d69dcaa44",
   "metadata": {},
   "outputs": [
    {
     "data": {
      "text/html": [
       "<div>\n",
       "<style scoped>\n",
       "    .dataframe tbody tr th:only-of-type {\n",
       "        vertical-align: middle;\n",
       "    }\n",
       "\n",
       "    .dataframe tbody tr th {\n",
       "        vertical-align: top;\n",
       "    }\n",
       "\n",
       "    .dataframe thead th {\n",
       "        text-align: right;\n",
       "    }\n",
       "</style>\n",
       "<table border=\"1\" class=\"dataframe\">\n",
       "  <thead>\n",
       "    <tr style=\"text-align: right;\">\n",
       "      <th></th>\n",
       "      <th>school department</th>\n",
       "      <th>student name</th>\n",
       "      <th>student gender</th>\n",
       "    </tr>\n",
       "  </thead>\n",
       "  <tbody>\n",
       "    <tr>\n",
       "      <th>0</th>\n",
       "      <td>csc</td>\n",
       "      <td>bola</td>\n",
       "      <td>female</td>\n",
       "    </tr>\n",
       "    <tr>\n",
       "      <th>1</th>\n",
       "      <td>csc</td>\n",
       "      <td>daniel</td>\n",
       "      <td>male</td>\n",
       "    </tr>\n",
       "    <tr>\n",
       "      <th>2</th>\n",
       "      <td>eng</td>\n",
       "      <td>shade</td>\n",
       "      <td>female</td>\n",
       "    </tr>\n",
       "    <tr>\n",
       "      <th>3</th>\n",
       "      <td>csc</td>\n",
       "      <td>dupe</td>\n",
       "      <td>female</td>\n",
       "    </tr>\n",
       "  </tbody>\n",
       "</table>\n",
       "</div>"
      ],
      "text/plain": [
       "  school department student name student gender\n",
       "0               csc         bola         female\n",
       "1               csc       daniel           male\n",
       "2               eng        shade         female\n",
       "3               csc         dupe         female"
      ]
     },
     "execution_count": 9,
     "metadata": {},
     "output_type": "execute_result"
    }
   ],
   "source": [
    "df"
   ]
  },
  {
   "cell_type": "code",
   "execution_count": 10,
   "id": "40879f40-b9c4-44cc-a2b5-c60c865b91b7",
   "metadata": {},
   "outputs": [],
   "source": [
    "### first step get only csc student(BOOLEAN INDEXING)\n",
    "### second get only female in csc student"
   ]
  },
  {
   "cell_type": "code",
   "execution_count": 16,
   "id": "90d47ddc-74bc-4503-9098-cab201dc7065",
   "metadata": {},
   "outputs": [
    {
     "data": {
      "text/html": [
       "<div>\n",
       "<style scoped>\n",
       "    .dataframe tbody tr th:only-of-type {\n",
       "        vertical-align: middle;\n",
       "    }\n",
       "\n",
       "    .dataframe tbody tr th {\n",
       "        vertical-align: top;\n",
       "    }\n",
       "\n",
       "    .dataframe thead th {\n",
       "        text-align: right;\n",
       "    }\n",
       "</style>\n",
       "<table border=\"1\" class=\"dataframe\">\n",
       "  <thead>\n",
       "    <tr style=\"text-align: right;\">\n",
       "      <th></th>\n",
       "      <th>school department</th>\n",
       "      <th>student name</th>\n",
       "      <th>student gender</th>\n",
       "    </tr>\n",
       "  </thead>\n",
       "  <tbody>\n",
       "    <tr>\n",
       "      <th>0</th>\n",
       "      <td>csc</td>\n",
       "      <td>bola</td>\n",
       "      <td>female</td>\n",
       "    </tr>\n",
       "    <tr>\n",
       "      <th>1</th>\n",
       "      <td>csc</td>\n",
       "      <td>daniel</td>\n",
       "      <td>male</td>\n",
       "    </tr>\n",
       "    <tr>\n",
       "      <th>3</th>\n",
       "      <td>csc</td>\n",
       "      <td>dupe</td>\n",
       "      <td>female</td>\n",
       "    </tr>\n",
       "  </tbody>\n",
       "</table>\n",
       "</div>"
      ],
      "text/plain": [
       "  school department student name student gender\n",
       "0               csc         bola         female\n",
       "1               csc       daniel           male\n",
       "3               csc         dupe         female"
      ]
     },
     "execution_count": 16,
     "metadata": {},
     "output_type": "execute_result"
    }
   ],
   "source": [
    "computer_science = df[df[\"school department\"]==\"csc\"]\n",
    "computer_science"
   ]
  },
  {
   "cell_type": "code",
   "execution_count": 21,
   "id": "1fac1e3a-0884-4fd4-9413-67eb5bbf1137",
   "metadata": {},
   "outputs": [],
   "source": [
    "csc_girls = computer_science[computer_science[\"student gender\"] == \"female\"]"
   ]
  },
  {
   "cell_type": "code",
   "execution_count": 25,
   "id": "db7e5160-c0b0-4a12-800c-2c35a5a0f6ac",
   "metadata": {},
   "outputs": [
    {
     "data": {
      "text/plain": [
       "student gender\n",
       "female    2\n",
       "Name: count, dtype: int64"
      ]
     },
     "execution_count": 25,
     "metadata": {},
     "output_type": "execute_result"
    }
   ],
   "source": [
    "csc_girls['student gender'].value_counts()"
   ]
  },
  {
   "cell_type": "code",
   "execution_count": null,
   "id": "f39b7403-e3f7-49fb-89a8-742f30b58726",
   "metadata": {},
   "outputs": [],
   "source": []
  }
 ],
 "metadata": {
  "kernelspec": {
   "display_name": "Python 3 (ipykernel)",
   "language": "python",
   "name": "python3"
  },
  "language_info": {
   "codemirror_mode": {
    "name": "ipython",
    "version": 3
   },
   "file_extension": ".py",
   "mimetype": "text/x-python",
   "name": "python",
   "nbconvert_exporter": "python",
   "pygments_lexer": "ipython3",
   "version": "3.12.7"
  }
 },
 "nbformat": 4,
 "nbformat_minor": 5
}
