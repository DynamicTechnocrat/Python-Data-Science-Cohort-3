{
 "cells": [
  {
   "cell_type": "code",
   "execution_count": 1,
   "id": "8e938e39-471a-4cc5-8c7b-4bdf1ae6d1d6",
   "metadata": {},
   "outputs": [],
   "source": [
    "### tuple , set , dictionary"
   ]
  },
  {
   "cell_type": "code",
   "execution_count": 14,
   "id": "febe7678-f18e-4c28-aa46-df9dd10f78d2",
   "metadata": {},
   "outputs": [],
   "source": [
    "bag = (\"mayomi\",\"bayomi\",\"ayomi\",\"deji\")"
   ]
  },
  {
   "cell_type": "code",
   "execution_count": 15,
   "id": "15963e35-05cd-4a41-a097-8441e7e74393",
   "metadata": {},
   "outputs": [
    {
     "data": {
      "text/plain": [
       "('mayomi', 'bayomi', 'ayomi', 'deji')"
      ]
     },
     "execution_count": 15,
     "metadata": {},
     "output_type": "execute_result"
    }
   ],
   "source": [
    "bag"
   ]
  },
  {
   "cell_type": "code",
   "execution_count": 16,
   "id": "86a96d5b-aeca-4dec-9273-1c29e2035365",
   "metadata": {},
   "outputs": [
    {
     "data": {
      "text/plain": [
       "tuple"
      ]
     },
     "execution_count": 16,
     "metadata": {},
     "output_type": "execute_result"
    }
   ],
   "source": [
    "type(bag)"
   ]
  },
  {
   "cell_type": "code",
   "execution_count": 17,
   "id": "d1a3edca-1598-4bd9-aa05-cc9c6dc5a48d",
   "metadata": {},
   "outputs": [],
   "source": [
    "## accesing through index and slicing"
   ]
  },
  {
   "cell_type": "code",
   "execution_count": 18,
   "id": "d95949aa-c023-4e5c-b565-3f99e1ab0125",
   "metadata": {},
   "outputs": [
    {
     "data": {
      "text/plain": [
       "'mayomi'"
      ]
     },
     "execution_count": 18,
     "metadata": {},
     "output_type": "execute_result"
    }
   ],
   "source": [
    "bag[0]"
   ]
  },
  {
   "cell_type": "code",
   "execution_count": 19,
   "id": "2df9fdc7-89eb-424c-9096-fccd373bfc7f",
   "metadata": {},
   "outputs": [
    {
     "data": {
      "text/plain": [
       "'bayomi'"
      ]
     },
     "execution_count": 19,
     "metadata": {},
     "output_type": "execute_result"
    }
   ],
   "source": [
    "bag[1]"
   ]
  },
  {
   "cell_type": "code",
   "execution_count": 20,
   "id": "5b7eb6d6-1e6a-4726-a613-302f3a684249",
   "metadata": {},
   "outputs": [
    {
     "data": {
      "text/plain": [
       "('mayomi', 'bayomi')"
      ]
     },
     "execution_count": 20,
     "metadata": {},
     "output_type": "execute_result"
    }
   ],
   "source": [
    "bag[0:2]"
   ]
  },
  {
   "cell_type": "code",
   "execution_count": 21,
   "id": "04353f1b-3fda-4c0f-b9d3-c58d8cee08a7",
   "metadata": {},
   "outputs": [
    {
     "data": {
      "text/plain": [
       "('bayomi', 'ayomi')"
      ]
     },
     "execution_count": 21,
     "metadata": {},
     "output_type": "execute_result"
    }
   ],
   "source": [
    "bag[1:3]"
   ]
  },
  {
   "cell_type": "code",
   "execution_count": 22,
   "id": "c71ebc9f-d5ac-4544-967a-2cfec42d4bd2",
   "metadata": {},
   "outputs": [],
   "source": [
    "### method associated with tuple"
   ]
  },
  {
   "cell_type": "code",
   "execution_count": 25,
   "id": "f7a0e408-9e0c-48f8-868a-4f794f91ff27",
   "metadata": {},
   "outputs": [],
   "source": [
    "box = (\"candle\",1,2.3,4,\"dayo\",\"candle\")"
   ]
  },
  {
   "cell_type": "code",
   "execution_count": 26,
   "id": "4c84996e-b505-4975-9c93-4ff58cea5b84",
   "metadata": {},
   "outputs": [
    {
     "data": {
      "text/plain": [
       "('candle', 1, 2.3, 4, 'dayo', 'candle')"
      ]
     },
     "execution_count": 26,
     "metadata": {},
     "output_type": "execute_result"
    }
   ],
   "source": [
    "box"
   ]
  },
  {
   "cell_type": "code",
   "execution_count": 28,
   "id": "f59bcc79-a098-498c-97de-848d2f3766f4",
   "metadata": {},
   "outputs": [
    {
     "data": {
      "text/plain": [
       "6"
      ]
     },
     "execution_count": 28,
     "metadata": {},
     "output_type": "execute_result"
    }
   ],
   "source": [
    "len(box) "
   ]
  },
  {
   "cell_type": "code",
   "execution_count": 29,
   "id": "bde54fe4-dc8b-4c38-85a3-615b035ef939",
   "metadata": {},
   "outputs": [
    {
     "data": {
      "text/plain": [
       "['__add__',\n",
       " '__class__',\n",
       " '__class_getitem__',\n",
       " '__contains__',\n",
       " '__delattr__',\n",
       " '__dir__',\n",
       " '__doc__',\n",
       " '__eq__',\n",
       " '__format__',\n",
       " '__ge__',\n",
       " '__getattribute__',\n",
       " '__getitem__',\n",
       " '__getnewargs__',\n",
       " '__getstate__',\n",
       " '__gt__',\n",
       " '__hash__',\n",
       " '__init__',\n",
       " '__init_subclass__',\n",
       " '__iter__',\n",
       " '__le__',\n",
       " '__len__',\n",
       " '__lt__',\n",
       " '__mul__',\n",
       " '__ne__',\n",
       " '__new__',\n",
       " '__reduce__',\n",
       " '__reduce_ex__',\n",
       " '__repr__',\n",
       " '__rmul__',\n",
       " '__setattr__',\n",
       " '__sizeof__',\n",
       " '__str__',\n",
       " '__subclasshook__',\n",
       " 'count',\n",
       " 'index']"
      ]
     },
     "execution_count": 29,
     "metadata": {},
     "output_type": "execute_result"
    }
   ],
   "source": [
    "dir(box)"
   ]
  },
  {
   "cell_type": "code",
   "execution_count": 30,
   "id": "00f7a890-6879-4d60-916f-e70ede40bd8f",
   "metadata": {},
   "outputs": [
    {
     "data": {
      "text/plain": [
       "('candle', 1, 2.3, 4, 'dayo', 'candle')"
      ]
     },
     "execution_count": 30,
     "metadata": {},
     "output_type": "execute_result"
    }
   ],
   "source": [
    "box"
   ]
  },
  {
   "cell_type": "code",
   "execution_count": 31,
   "id": "88adc7c6-d8fb-4c82-afcd-2d1a718037a3",
   "metadata": {},
   "outputs": [
    {
     "data": {
      "text/plain": [
       "2"
      ]
     },
     "execution_count": 31,
     "metadata": {},
     "output_type": "execute_result"
    }
   ],
   "source": [
    "box.count(\"candle\")"
   ]
  },
  {
   "cell_type": "code",
   "execution_count": 32,
   "id": "86d7c625-9ad6-4aef-b5fc-dc0cd4fbb212",
   "metadata": {},
   "outputs": [
    {
     "data": {
      "text/plain": [
       "2"
      ]
     },
     "execution_count": 32,
     "metadata": {},
     "output_type": "execute_result"
    }
   ],
   "source": [
    "box.index(2.3)"
   ]
  },
  {
   "cell_type": "code",
   "execution_count": 33,
   "id": "9d3a0252-f977-4086-a4ce-acfd131cdaed",
   "metadata": {},
   "outputs": [
    {
     "data": {
      "text/plain": [
       "0"
      ]
     },
     "execution_count": 33,
     "metadata": {},
     "output_type": "execute_result"
    }
   ],
   "source": [
    "box.index(\"candle\")"
   ]
  },
  {
   "cell_type": "code",
   "execution_count": 34,
   "id": "241bffa0-d05f-46a1-8507-d3ea15fecdd4",
   "metadata": {},
   "outputs": [],
   "source": [
    "### set "
   ]
  },
  {
   "cell_type": "code",
   "execution_count": 35,
   "id": "82595921-df76-4b1e-a9f7-edd82aa77355",
   "metadata": {},
   "outputs": [],
   "source": [
    "bag = {1,1,2,3}"
   ]
  },
  {
   "cell_type": "code",
   "execution_count": 36,
   "id": "b5ddabb5-cab6-4cd8-9e2e-9b36786e609a",
   "metadata": {},
   "outputs": [
    {
     "data": {
      "text/plain": [
       "{1, 2, 3}"
      ]
     },
     "execution_count": 36,
     "metadata": {},
     "output_type": "execute_result"
    }
   ],
   "source": [
    "bag"
   ]
  },
  {
   "cell_type": "code",
   "execution_count": 37,
   "id": "60224ae1-c831-42d2-9754-765430af1f6b",
   "metadata": {},
   "outputs": [],
   "source": [
    "box = {5,2,1,3,5,5,5}"
   ]
  },
  {
   "cell_type": "code",
   "execution_count": 38,
   "id": "9e4f3669-de70-4e6b-99b7-ded975ad0d6c",
   "metadata": {},
   "outputs": [
    {
     "data": {
      "text/plain": [
       "{1, 2, 3, 5}"
      ]
     },
     "execution_count": 38,
     "metadata": {},
     "output_type": "execute_result"
    }
   ],
   "source": [
    "box"
   ]
  },
  {
   "cell_type": "code",
   "execution_count": 40,
   "id": "0524894b-14bc-41ce-b188-42a4e51c8ff1",
   "metadata": {},
   "outputs": [],
   "source": [
    "### operation of a set"
   ]
  },
  {
   "cell_type": "code",
   "execution_count": 41,
   "id": "c892bd62-d148-4fcf-acbc-190646491eb5",
   "metadata": {},
   "outputs": [
    {
     "data": {
      "text/plain": [
       "['__and__',\n",
       " '__class__',\n",
       " '__class_getitem__',\n",
       " '__contains__',\n",
       " '__delattr__',\n",
       " '__dir__',\n",
       " '__doc__',\n",
       " '__eq__',\n",
       " '__format__',\n",
       " '__ge__',\n",
       " '__getattribute__',\n",
       " '__getstate__',\n",
       " '__gt__',\n",
       " '__hash__',\n",
       " '__iand__',\n",
       " '__init__',\n",
       " '__init_subclass__',\n",
       " '__ior__',\n",
       " '__isub__',\n",
       " '__iter__',\n",
       " '__ixor__',\n",
       " '__le__',\n",
       " '__len__',\n",
       " '__lt__',\n",
       " '__ne__',\n",
       " '__new__',\n",
       " '__or__',\n",
       " '__rand__',\n",
       " '__reduce__',\n",
       " '__reduce_ex__',\n",
       " '__repr__',\n",
       " '__ror__',\n",
       " '__rsub__',\n",
       " '__rxor__',\n",
       " '__setattr__',\n",
       " '__sizeof__',\n",
       " '__str__',\n",
       " '__sub__',\n",
       " '__subclasshook__',\n",
       " '__xor__',\n",
       " 'add',\n",
       " 'clear',\n",
       " 'copy',\n",
       " 'difference',\n",
       " 'difference_update',\n",
       " 'discard',\n",
       " 'intersection',\n",
       " 'intersection_update',\n",
       " 'isdisjoint',\n",
       " 'issubset',\n",
       " 'issuperset',\n",
       " 'pop',\n",
       " 'remove',\n",
       " 'symmetric_difference',\n",
       " 'symmetric_difference_update',\n",
       " 'union',\n",
       " 'update']"
      ]
     },
     "execution_count": 41,
     "metadata": {},
     "output_type": "execute_result"
    }
   ],
   "source": [
    "dir(box)"
   ]
  },
  {
   "cell_type": "code",
   "execution_count": 43,
   "id": "7dc5e7ec-e96d-4d5d-b29f-344bf5370064",
   "metadata": {},
   "outputs": [],
   "source": [
    "box.add(7)"
   ]
  },
  {
   "cell_type": "code",
   "execution_count": 44,
   "id": "daf4dd91-6005-4175-9f4e-b2bbb34c8bdd",
   "metadata": {},
   "outputs": [
    {
     "data": {
      "text/plain": [
       "{1, 2, 3, 5, 7}"
      ]
     },
     "execution_count": 44,
     "metadata": {},
     "output_type": "execute_result"
    }
   ],
   "source": [
    "box"
   ]
  },
  {
   "cell_type": "code",
   "execution_count": 45,
   "id": "27caf2e3-89c4-44c9-ba13-81b20f1f13f2",
   "metadata": {},
   "outputs": [],
   "source": [
    "box.clear()"
   ]
  },
  {
   "cell_type": "code",
   "execution_count": 46,
   "id": "a72a32e9-3ec0-4e69-91fb-ec2547e2630a",
   "metadata": {},
   "outputs": [
    {
     "data": {
      "text/plain": [
       "set()"
      ]
     },
     "execution_count": 46,
     "metadata": {},
     "output_type": "execute_result"
    }
   ],
   "source": [
    "box"
   ]
  },
  {
   "cell_type": "code",
   "execution_count": 48,
   "id": "da2165cb-bf07-4fce-80d7-f0a6827ab8f7",
   "metadata": {},
   "outputs": [],
   "source": [
    "x = {1,2,3}\n",
    "\n",
    "y = {1,3,4}"
   ]
  },
  {
   "cell_type": "code",
   "execution_count": 49,
   "id": "7778f641-f46f-4827-b722-bca6f74b0706",
   "metadata": {},
   "outputs": [
    {
     "data": {
      "text/plain": [
       "{1, 2, 3}"
      ]
     },
     "execution_count": 49,
     "metadata": {},
     "output_type": "execute_result"
    }
   ],
   "source": [
    "x"
   ]
  },
  {
   "cell_type": "code",
   "execution_count": 50,
   "id": "e7797e1e-eef4-48dd-8a37-7fcbf0b5184b",
   "metadata": {},
   "outputs": [
    {
     "data": {
      "text/plain": [
       "{1, 3, 4}"
      ]
     },
     "execution_count": 50,
     "metadata": {},
     "output_type": "execute_result"
    }
   ],
   "source": [
    "y"
   ]
  },
  {
   "cell_type": "code",
   "execution_count": 51,
   "id": "f161e902-a10f-47aa-9b41-41371767b4b6",
   "metadata": {},
   "outputs": [
    {
     "data": {
      "text/plain": [
       "{2}"
      ]
     },
     "execution_count": 51,
     "metadata": {},
     "output_type": "execute_result"
    }
   ],
   "source": [
    "x.difference(y)"
   ]
  },
  {
   "cell_type": "code",
   "execution_count": 52,
   "id": "6f3bf697-2794-48af-9a14-37578d94a005",
   "metadata": {},
   "outputs": [
    {
     "data": {
      "text/plain": [
       "{4}"
      ]
     },
     "execution_count": 52,
     "metadata": {},
     "output_type": "execute_result"
    }
   ],
   "source": [
    "y.difference(x)"
   ]
  },
  {
   "cell_type": "code",
   "execution_count": 54,
   "id": "1851a78f-c372-42be-a1d8-20223da831c6",
   "metadata": {},
   "outputs": [
    {
     "data": {
      "text/plain": [
       "{1, 3}"
      ]
     },
     "execution_count": 54,
     "metadata": {},
     "output_type": "execute_result"
    }
   ],
   "source": [
    "x.intersection(y)"
   ]
  },
  {
   "cell_type": "code",
   "execution_count": 64,
   "id": "4e929267-d55f-4092-8620-048e16429041",
   "metadata": {},
   "outputs": [
    {
     "data": {
      "text/plain": [
       "{1, 2, 3}"
      ]
     },
     "execution_count": 64,
     "metadata": {},
     "output_type": "execute_result"
    }
   ],
   "source": [
    "x"
   ]
  },
  {
   "cell_type": "code",
   "execution_count": 65,
   "id": "70d2ef8e-8617-407c-aead-3fcdeae2f642",
   "metadata": {},
   "outputs": [
    {
     "data": {
      "text/plain": [
       "{1, 3, 4}"
      ]
     },
     "execution_count": 65,
     "metadata": {},
     "output_type": "execute_result"
    }
   ],
   "source": [
    "y"
   ]
  },
  {
   "cell_type": "code",
   "execution_count": 69,
   "id": "53cfff37-4d2f-4c82-83cb-cc3bbbb02219",
   "metadata": {},
   "outputs": [
    {
     "data": {
      "text/plain": [
       "{1, 2, 3, 4}"
      ]
     },
     "execution_count": 69,
     "metadata": {},
     "output_type": "execute_result"
    }
   ],
   "source": [
    "z = x.union(y)\n",
    "z"
   ]
  },
  {
   "cell_type": "code",
   "execution_count": 67,
   "id": "b42e1328-48fa-4403-a04e-dbdbfeebef71",
   "metadata": {},
   "outputs": [
    {
     "data": {
      "text/plain": [
       "{1, 2, 3}"
      ]
     },
     "execution_count": 67,
     "metadata": {},
     "output_type": "execute_result"
    }
   ],
   "source": [
    "x"
   ]
  },
  {
   "cell_type": "code",
   "execution_count": 68,
   "id": "34d28b9b-f96a-4e60-91e0-97cdbefae7cd",
   "metadata": {},
   "outputs": [
    {
     "data": {
      "text/plain": [
       "{1, 3, 4}"
      ]
     },
     "execution_count": 68,
     "metadata": {},
     "output_type": "execute_result"
    }
   ],
   "source": [
    "y"
   ]
  },
  {
   "cell_type": "code",
   "execution_count": 71,
   "id": "fd767349-63a2-4c01-9895-e00fee73c123",
   "metadata": {},
   "outputs": [],
   "source": [
    "x.update(y)"
   ]
  },
  {
   "cell_type": "code",
   "execution_count": 72,
   "id": "f1133c0f-5d8b-45dc-8137-c26436244eb5",
   "metadata": {},
   "outputs": [
    {
     "data": {
      "text/plain": [
       "{1, 2, 3, 4}"
      ]
     },
     "execution_count": 72,
     "metadata": {},
     "output_type": "execute_result"
    }
   ],
   "source": [
    "x"
   ]
  },
  {
   "cell_type": "code",
   "execution_count": 73,
   "id": "4e67773b-ea5a-4b1a-afac-a7bd71df6870",
   "metadata": {},
   "outputs": [
    {
     "ename": "IndentationError",
     "evalue": "unexpected indent (1820729202.py, line 2)",
     "output_type": "error",
     "traceback": [
      "\u001b[1;36m  Cell \u001b[1;32mIn[73], line 2\u001b[1;36m\u001b[0m\n\u001b[1;33m    'issubset',\u001b[0m\n\u001b[1;37m    ^\u001b[0m\n\u001b[1;31mIndentationError\u001b[0m\u001b[1;31m:\u001b[0m unexpected indent\n"
     ]
    }
   ],
   "source": [
    "'isdisjoint',\n",
    " 'issubset',#\n",
    " 'issuperset',#\n",
    " 'pop',\n",
    " 'remove'"
   ]
  },
  {
   "cell_type": "code",
   "execution_count": 75,
   "id": "c32dd80e-f019-4514-a14e-5139d61a2ae7",
   "metadata": {},
   "outputs": [],
   "source": [
    "q = {1,2,3,4,5,6,7}\n",
    "p = {1,3,4}"
   ]
  },
  {
   "cell_type": "code",
   "execution_count": 76,
   "id": "d9cf09d3-b3c5-4e11-8247-0a909eded55a",
   "metadata": {},
   "outputs": [
    {
     "data": {
      "text/plain": [
       "True"
      ]
     },
     "execution_count": 76,
     "metadata": {},
     "output_type": "execute_result"
    }
   ],
   "source": [
    "p.issubset(q)"
   ]
  },
  {
   "cell_type": "code",
   "execution_count": 77,
   "id": "7fbf0ed1-d64f-4628-837b-ac9166e46422",
   "metadata": {},
   "outputs": [
    {
     "data": {
      "text/plain": [
       "False"
      ]
     },
     "execution_count": 77,
     "metadata": {},
     "output_type": "execute_result"
    }
   ],
   "source": [
    "q.issubset(p)"
   ]
  },
  {
   "cell_type": "code",
   "execution_count": 78,
   "id": "30ab2eea-e990-458c-8743-414204bf1afe",
   "metadata": {},
   "outputs": [
    {
     "data": {
      "text/plain": [
       "True"
      ]
     },
     "execution_count": 78,
     "metadata": {},
     "output_type": "execute_result"
    }
   ],
   "source": [
    "q.issuperset(p)"
   ]
  },
  {
   "cell_type": "code",
   "execution_count": 79,
   "id": "fb5fdc47-72e6-4205-88cf-0f4353ead8fa",
   "metadata": {},
   "outputs": [],
   "source": [
    "### dictionary "
   ]
  },
  {
   "cell_type": "code",
   "execution_count": null,
   "id": "617529d3-0dc1-45be-9cf8-68e7b85d8dfe",
   "metadata": {},
   "outputs": [],
   "source": []
  }
 ],
 "metadata": {
  "kernelspec": {
   "display_name": "Python 3 (ipykernel)",
   "language": "python",
   "name": "python3"
  },
  "language_info": {
   "codemirror_mode": {
    "name": "ipython",
    "version": 3
   },
   "file_extension": ".py",
   "mimetype": "text/x-python",
   "name": "python",
   "nbconvert_exporter": "python",
   "pygments_lexer": "ipython3",
   "version": "3.12.7"
  }
 },
 "nbformat": 4,
 "nbformat_minor": 5
}
