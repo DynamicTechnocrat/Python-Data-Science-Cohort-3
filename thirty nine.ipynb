{
 "cells": [
  {
   "cell_type": "code",
   "execution_count": null,
   "id": "c827a574-0617-436c-9434-6e5579c18a8c",
   "metadata": {},
   "outputs": [],
   "source": [
    "hyper paramter gridsearch\n",
    "oversampling , undersampling on the training dataset alone (classification problem)\n",
    "feature selection correlation , recursive feature elimination method , mutual information \n",
    "cross validation method (kfold)\n",
    "\n",
    "\n",
    "## deep learning (lstm)"
   ]
  },
  {
   "cell_type": "code",
   "execution_count": null,
   "id": "dc32bbf1-cb31-470b-9426-1954dccc3bf7",
   "metadata": {},
   "outputs": [],
   "source": [
    "## upwork , fiverr , guru ,linkedln (cv) "
   ]
  }
 ],
 "metadata": {
  "kernelspec": {
   "display_name": "Python 3 (ipykernel)",
   "language": "python",
   "name": "python3"
  },
  "language_info": {
   "codemirror_mode": {
    "name": "ipython",
    "version": 3
   },
   "file_extension": ".py",
   "mimetype": "text/x-python",
   "name": "python",
   "nbconvert_exporter": "python",
   "pygments_lexer": "ipython3",
   "version": "3.12.7"
  }
 },
 "nbformat": 4,
 "nbformat_minor": 5
}
