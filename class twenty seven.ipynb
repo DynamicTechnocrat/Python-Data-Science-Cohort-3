{
 "cells": [
  {
   "cell_type": "code",
   "execution_count": 1,
   "id": "093d1d15-1bba-46cf-a32e-962366141bc2",
   "metadata": {},
   "outputs": [],
   "source": [
    "name = [\"shade\",\"dele\",\"dayo\",\"daniel\",\"raphael\",\"bola\"]\n",
    "grade = [\"A\",\"B\",\"A\",\"B\",\"A\",\"A\"]\n",
    "gender = [\"FEMALE\",\"MALE\",\"MALE\",\"MALE\",\"MALE\",\"FEMALE\"]"
   ]
  },
  {
   "cell_type": "code",
   "execution_count": 2,
   "id": "0e8cda05-6020-45f7-b34e-ee8500c9a943",
   "metadata": {},
   "outputs": [
    {
     "data": {
      "text/plain": [
       "['shade', 'dele', 'dayo', 'daniel', 'raphael', 'bola']"
      ]
     },
     "execution_count": 2,
     "metadata": {},
     "output_type": "execute_result"
    }
   ],
   "source": [
    "name"
   ]
  },
  {
   "cell_type": "code",
   "execution_count": 3,
   "id": "6ec31257-786e-47b4-9f86-2ace70688e92",
   "metadata": {},
   "outputs": [
    {
     "data": {
      "text/plain": [
       "['A', 'B', 'A', 'B', 'A', 'A']"
      ]
     },
     "execution_count": 3,
     "metadata": {},
     "output_type": "execute_result"
    }
   ],
   "source": [
    "grade"
   ]
  },
  {
   "cell_type": "code",
   "execution_count": 4,
   "id": "f4cd1ae8-1e29-4909-be96-766aefd3e478",
   "metadata": {},
   "outputs": [
    {
     "data": {
      "text/plain": [
       "['FEMALE', 'MALE', 'MALE', 'MALE', 'MALE', 'FEMALE']"
      ]
     },
     "execution_count": 4,
     "metadata": {},
     "output_type": "execute_result"
    }
   ],
   "source": [
    "gender"
   ]
  },
  {
   "cell_type": "code",
   "execution_count": 11,
   "id": "abc02768-86fb-47b3-9634-3020d3247924",
   "metadata": {},
   "outputs": [],
   "source": [
    "all_data = {\"names\":name,\"grades\":grade,\"genders\":gender}"
   ]
  },
  {
   "cell_type": "code",
   "execution_count": 12,
   "id": "d8f8ea80-804d-46ea-9a82-5a67e619cdb1",
   "metadata": {},
   "outputs": [
    {
     "data": {
      "text/plain": [
       "{'names': ['shade', 'dele', 'dayo', 'daniel', 'raphael', 'bola'],\n",
       " 'grades': ['A', 'B', 'A', 'B', 'A', 'A'],\n",
       " 'genders': ['FEMALE', 'MALE', 'MALE', 'MALE', 'MALE', 'FEMALE']}"
      ]
     },
     "execution_count": 12,
     "metadata": {},
     "output_type": "execute_result"
    }
   ],
   "source": [
    "all_data"
   ]
  },
  {
   "cell_type": "code",
   "execution_count": 13,
   "id": "052bd54b-9414-475a-b907-ca7f9a2bb14c",
   "metadata": {},
   "outputs": [],
   "source": [
    "import pandas as pd"
   ]
  },
  {
   "cell_type": "code",
   "execution_count": 15,
   "id": "a962f6e2-c630-4232-aeee-181747340951",
   "metadata": {},
   "outputs": [],
   "source": [
    "df = pd.DataFrame(all_data)"
   ]
  },
  {
   "cell_type": "code",
   "execution_count": 16,
   "id": "119b8d9f-1c55-4c81-b744-13678094ff5a",
   "metadata": {},
   "outputs": [
    {
     "data": {
      "text/html": [
       "<div>\n",
       "<style scoped>\n",
       "    .dataframe tbody tr th:only-of-type {\n",
       "        vertical-align: middle;\n",
       "    }\n",
       "\n",
       "    .dataframe tbody tr th {\n",
       "        vertical-align: top;\n",
       "    }\n",
       "\n",
       "    .dataframe thead th {\n",
       "        text-align: right;\n",
       "    }\n",
       "</style>\n",
       "<table border=\"1\" class=\"dataframe\">\n",
       "  <thead>\n",
       "    <tr style=\"text-align: right;\">\n",
       "      <th></th>\n",
       "      <th>names</th>\n",
       "      <th>grades</th>\n",
       "      <th>genders</th>\n",
       "    </tr>\n",
       "  </thead>\n",
       "  <tbody>\n",
       "    <tr>\n",
       "      <th>0</th>\n",
       "      <td>shade</td>\n",
       "      <td>A</td>\n",
       "      <td>FEMALE</td>\n",
       "    </tr>\n",
       "    <tr>\n",
       "      <th>1</th>\n",
       "      <td>dele</td>\n",
       "      <td>B</td>\n",
       "      <td>MALE</td>\n",
       "    </tr>\n",
       "    <tr>\n",
       "      <th>2</th>\n",
       "      <td>dayo</td>\n",
       "      <td>A</td>\n",
       "      <td>MALE</td>\n",
       "    </tr>\n",
       "    <tr>\n",
       "      <th>3</th>\n",
       "      <td>daniel</td>\n",
       "      <td>B</td>\n",
       "      <td>MALE</td>\n",
       "    </tr>\n",
       "    <tr>\n",
       "      <th>4</th>\n",
       "      <td>raphael</td>\n",
       "      <td>A</td>\n",
       "      <td>MALE</td>\n",
       "    </tr>\n",
       "    <tr>\n",
       "      <th>5</th>\n",
       "      <td>bola</td>\n",
       "      <td>A</td>\n",
       "      <td>FEMALE</td>\n",
       "    </tr>\n",
       "  </tbody>\n",
       "</table>\n",
       "</div>"
      ],
      "text/plain": [
       "     names grades genders\n",
       "0    shade      A  FEMALE\n",
       "1     dele      B    MALE\n",
       "2     dayo      A    MALE\n",
       "3   daniel      B    MALE\n",
       "4  raphael      A    MALE\n",
       "5     bola      A  FEMALE"
      ]
     },
     "execution_count": 16,
     "metadata": {},
     "output_type": "execute_result"
    }
   ],
   "source": [
    "df"
   ]
  },
  {
   "cell_type": "code",
   "execution_count": 18,
   "id": "f357ee6a-9a5e-4dae-9bef-192224fe32c5",
   "metadata": {},
   "outputs": [
    {
     "data": {
      "text/plain": [
       "0    FEMALE\n",
       "1      MALE\n",
       "2      MALE\n",
       "3      MALE\n",
       "4      MALE\n",
       "5    FEMALE\n",
       "Name: genders, dtype: object"
      ]
     },
     "execution_count": 18,
     "metadata": {},
     "output_type": "execute_result"
    }
   ],
   "source": [
    "df[\"genders\"]"
   ]
  },
  {
   "cell_type": "code",
   "execution_count": 19,
   "id": "b17f3b17-a9f8-408c-8a37-bcc686e0cdee",
   "metadata": {},
   "outputs": [
    {
     "data": {
      "text/plain": [
       "0    False\n",
       "1     True\n",
       "2     True\n",
       "3     True\n",
       "4     True\n",
       "5    False\n",
       "Name: genders, dtype: bool"
      ]
     },
     "execution_count": 19,
     "metadata": {},
     "output_type": "execute_result"
    }
   ],
   "source": [
    "df[\"genders\"] == \"MALE\""
   ]
  },
  {
   "cell_type": "code",
   "execution_count": 34,
   "id": "1d671748-7cf3-41eb-8da5-9fac9af94822",
   "metadata": {},
   "outputs": [],
   "source": [
    "boys = df[df[\"genders\"] == \"MALE\"][\"grades\"].to_list()"
   ]
  },
  {
   "cell_type": "code",
   "execution_count": 36,
   "id": "072dd6f9-a0d3-49be-8594-71b895eebef0",
   "metadata": {},
   "outputs": [
    {
     "data": {
      "text/plain": [
       "['B', 'A', 'B', 'A']"
      ]
     },
     "execution_count": 36,
     "metadata": {},
     "output_type": "execute_result"
    }
   ],
   "source": [
    "boys"
   ]
  },
  {
   "cell_type": "code",
   "execution_count": 46,
   "id": "3ad107ee-1e97-4d3d-a9e8-06527442f8c1",
   "metadata": {},
   "outputs": [
    {
     "data": {
      "text/html": [
       "<div>\n",
       "<style scoped>\n",
       "    .dataframe tbody tr th:only-of-type {\n",
       "        vertical-align: middle;\n",
       "    }\n",
       "\n",
       "    .dataframe tbody tr th {\n",
       "        vertical-align: top;\n",
       "    }\n",
       "\n",
       "    .dataframe thead th {\n",
       "        text-align: right;\n",
       "    }\n",
       "</style>\n",
       "<table border=\"1\" class=\"dataframe\">\n",
       "  <thead>\n",
       "    <tr style=\"text-align: right;\">\n",
       "      <th></th>\n",
       "      <th>names</th>\n",
       "      <th>grades</th>\n",
       "      <th>genders</th>\n",
       "    </tr>\n",
       "  </thead>\n",
       "  <tbody>\n",
       "    <tr>\n",
       "      <th>0</th>\n",
       "      <td>shade</td>\n",
       "      <td>A</td>\n",
       "      <td>FEMALE</td>\n",
       "    </tr>\n",
       "    <tr>\n",
       "      <th>1</th>\n",
       "      <td>dele</td>\n",
       "      <td>B</td>\n",
       "      <td>MALE</td>\n",
       "    </tr>\n",
       "    <tr>\n",
       "      <th>2</th>\n",
       "      <td>dayo</td>\n",
       "      <td>A</td>\n",
       "      <td>MALE</td>\n",
       "    </tr>\n",
       "    <tr>\n",
       "      <th>3</th>\n",
       "      <td>daniel</td>\n",
       "      <td>B</td>\n",
       "      <td>MALE</td>\n",
       "    </tr>\n",
       "    <tr>\n",
       "      <th>4</th>\n",
       "      <td>raphael</td>\n",
       "      <td>A</td>\n",
       "      <td>MALE</td>\n",
       "    </tr>\n",
       "    <tr>\n",
       "      <th>5</th>\n",
       "      <td>bola</td>\n",
       "      <td>A</td>\n",
       "      <td>FEMALE</td>\n",
       "    </tr>\n",
       "  </tbody>\n",
       "</table>\n",
       "</div>"
      ],
      "text/plain": [
       "     names grades genders\n",
       "0    shade      A  FEMALE\n",
       "1     dele      B    MALE\n",
       "2     dayo      A    MALE\n",
       "3   daniel      B    MALE\n",
       "4  raphael      A    MALE\n",
       "5     bola      A  FEMALE"
      ]
     },
     "execution_count": 46,
     "metadata": {},
     "output_type": "execute_result"
    }
   ],
   "source": [
    "df"
   ]
  },
  {
   "cell_type": "code",
   "execution_count": null,
   "id": "2bec63b4-1ad1-4460-9c0a-abdfdaeefcf2",
   "metadata": {},
   "outputs": [],
   "source": [
    "df[\"genders\"]==\"FEMALE\"[\"grades\"]"
   ]
  },
  {
   "cell_type": "code",
   "execution_count": 49,
   "id": "4e08f1a5-1c9c-4fd1-bae7-d8e6142ca674",
   "metadata": {},
   "outputs": [
    {
     "data": {
      "text/plain": [
       "['A', 'A']"
      ]
     },
     "execution_count": 49,
     "metadata": {},
     "output_type": "execute_result"
    }
   ],
   "source": [
    "df[df['genders']==\"FEMALE\"][\"grades\"].to_list()"
   ]
  },
  {
   "cell_type": "code",
   "execution_count": null,
   "id": "1fd11008-59d0-4149-9fcd-5c2f63153b58",
   "metadata": {},
   "outputs": [],
   "source": []
  }
 ],
 "metadata": {
  "kernelspec": {
   "display_name": "Python 3 (ipykernel)",
   "language": "python",
   "name": "python3"
  },
  "language_info": {
   "codemirror_mode": {
    "name": "ipython",
    "version": 3
   },
   "file_extension": ".py",
   "mimetype": "text/x-python",
   "name": "python",
   "nbconvert_exporter": "python",
   "pygments_lexer": "ipython3",
   "version": "3.12.7"
  }
 },
 "nbformat": 4,
 "nbformat_minor": 5
}
