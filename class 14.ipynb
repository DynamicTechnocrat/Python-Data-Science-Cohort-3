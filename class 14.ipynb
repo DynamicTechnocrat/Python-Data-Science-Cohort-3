{
 "cells": [
  {
   "cell_type": "code",
   "execution_count": 1,
   "id": "cd01bbf8-063c-402b-81d3-ecf226bc0d34",
   "metadata": {},
   "outputs": [],
   "source": [
    "### for loop (range,enumerate)\n",
    "### while loop "
   ]
  },
  {
   "cell_type": "code",
   "execution_count": 2,
   "id": "1b39aefd-7029-438e-82ee-60068deea176",
   "metadata": {},
   "outputs": [],
   "source": [
    "student_name = [\"deji\",\"ayo\",\"raphael\",\"daniel\"]"
   ]
  },
  {
   "cell_type": "code",
   "execution_count": 3,
   "id": "719a8703-0d39-4209-a078-0d64c0ff85f0",
   "metadata": {},
   "outputs": [
    {
     "data": {
      "text/plain": [
       "['deji', 'ayo', 'raphael', 'daniel']"
      ]
     },
     "execution_count": 3,
     "metadata": {},
     "output_type": "execute_result"
    }
   ],
   "source": [
    "student_name"
   ]
  },
  {
   "cell_type": "code",
   "execution_count": 26,
   "id": "10c7f325-8dff-42f9-8732-2e39b6e1c4b3",
   "metadata": {},
   "outputs": [
    {
     "name": "stdout",
     "output_type": "stream",
     "text": [
      "0 deji\n",
      "1 ayo\n",
      "2 raphael\n",
      "3 daniel\n"
     ]
    }
   ],
   "source": [
    "import time\n",
    "for index,username in enumerate(student_name):\n",
    "    print(index ,username)\n",
    "    time.sleep(1)"
   ]
  },
  {
   "cell_type": "code",
   "execution_count": 23,
   "id": "47931855-b124-48ce-9f56-3a60fb61ac07",
   "metadata": {},
   "outputs": [
    {
     "data": {
      "text/plain": [
       "'deji'"
      ]
     },
     "execution_count": 23,
     "metadata": {},
     "output_type": "execute_result"
    }
   ],
   "source": [
    "### tuple unpacking\n",
    "name = (0, 'deji')\n",
    "index,firstname = (0, 'deji')\n",
    "firstname"
   ]
  },
  {
   "cell_type": "code",
   "execution_count": 19,
   "id": "45d75fb8-a102-4ce3-a545-af56f4fe4f6b",
   "metadata": {},
   "outputs": [],
   "source": [
    "### list unpacking\n",
    "\n",
    "\n",
    "name = [\"deji\",\"ayo\"]"
   ]
  },
  {
   "cell_type": "code",
   "execution_count": 20,
   "id": "dc3eac3b-cc20-4457-ab39-8b9b047f738d",
   "metadata": {},
   "outputs": [
    {
     "data": {
      "text/plain": [
       "['deji', 'ayo']"
      ]
     },
     "execution_count": 20,
     "metadata": {},
     "output_type": "execute_result"
    }
   ],
   "source": [
    "name"
   ]
  },
  {
   "cell_type": "code",
   "execution_count": 8,
   "id": "8c259d6f-76b4-4b77-ac1b-8da197f0218d",
   "metadata": {},
   "outputs": [],
   "source": [
    "firstname,secondname = [\"deji\",\"ayo\"]"
   ]
  },
  {
   "cell_type": "code",
   "execution_count": 9,
   "id": "159b70c9-8708-412f-a449-05ba0e44725d",
   "metadata": {},
   "outputs": [
    {
     "data": {
      "text/plain": [
       "'deji'"
      ]
     },
     "execution_count": 9,
     "metadata": {},
     "output_type": "execute_result"
    }
   ],
   "source": [
    "firstname"
   ]
  },
  {
   "cell_type": "code",
   "execution_count": 10,
   "id": "578957fb-95f4-4119-a626-79a8e30c8258",
   "metadata": {},
   "outputs": [
    {
     "data": {
      "text/plain": [
       "'ayo'"
      ]
     },
     "execution_count": 10,
     "metadata": {},
     "output_type": "execute_result"
    }
   ],
   "source": [
    "secondname"
   ]
  },
  {
   "cell_type": "code",
   "execution_count": 15,
   "id": "1944b828-1c81-4975-8c5f-2478c7a3a62e",
   "metadata": {},
   "outputs": [],
   "source": [
    "first,second,third = (\"raphael\",\"daniel\",\"bashy\")"
   ]
  },
  {
   "cell_type": "code",
   "execution_count": 16,
   "id": "e48c07b6-6e84-45ff-9921-1e65d9f31568",
   "metadata": {},
   "outputs": [
    {
     "data": {
      "text/plain": [
       "'raphael'"
      ]
     },
     "execution_count": 16,
     "metadata": {},
     "output_type": "execute_result"
    }
   ],
   "source": [
    "first"
   ]
  },
  {
   "cell_type": "code",
   "execution_count": 17,
   "id": "78d9f9ad-d191-4abb-b941-a339c4f7697c",
   "metadata": {},
   "outputs": [
    {
     "data": {
      "text/plain": [
       "'daniel'"
      ]
     },
     "execution_count": 17,
     "metadata": {},
     "output_type": "execute_result"
    }
   ],
   "source": [
    "second"
   ]
  },
  {
   "cell_type": "code",
   "execution_count": 18,
   "id": "1a3dc079-a698-45ab-bebd-b3371640058e",
   "metadata": {},
   "outputs": [
    {
     "data": {
      "text/plain": [
       "'bashy'"
      ]
     },
     "execution_count": 18,
     "metadata": {},
     "output_type": "execute_result"
    }
   ],
   "source": [
    "third"
   ]
  },
  {
   "cell_type": "code",
   "execution_count": 34,
   "id": "9722cd71-0621-44df-83e2-213ba1e9cbe8",
   "metadata": {},
   "outputs": [
    {
     "name": "stdout",
     "output_type": "stream",
     "text": [
      "2\n",
      "4\n",
      "6\n",
      "8\n",
      "10\n",
      "12\n",
      "14\n",
      "16\n",
      "18\n"
     ]
    }
   ],
   "source": [
    "### range\n",
    "\n",
    "for num in range(1,10):\n",
    "    compute = num * 2\n",
    "    print(compute)"
   ]
  },
  {
   "cell_type": "code",
   "execution_count": 35,
   "id": "56967e3f-9f33-4e2f-84d9-f2306ee801be",
   "metadata": {},
   "outputs": [
    {
     "name": "stdout",
     "output_type": "stream",
     "text": [
      "6\n"
     ]
    }
   ],
   "source": [
    "num = 3\n",
    "compute = num * 2\n",
    "print(compute)"
   ]
  },
  {
   "cell_type": "code",
   "execution_count": 36,
   "id": "eabab8b5-3768-45d5-bb73-76665c609464",
   "metadata": {},
   "outputs": [],
   "source": [
    "#### while loop"
   ]
  },
  {
   "cell_type": "code",
   "execution_count": 37,
   "id": "47942847-c47f-4bc0-b6da-0b7b81e2fd6e",
   "metadata": {},
   "outputs": [
    {
     "name": "stdin",
     "output_type": "stream",
     "text": [
      "what is your name :  bashy\n"
     ]
    },
    {
     "name": "stdout",
     "output_type": "stream",
     "text": [
      "bashy you are employed\n"
     ]
    },
    {
     "name": "stdin",
     "output_type": "stream",
     "text": [
      "what is your name !!! :  raphael\n"
     ]
    },
    {
     "name": "stdout",
     "output_type": "stream",
     "text": [
      "raphael you are employed\n"
     ]
    },
    {
     "name": "stdin",
     "output_type": "stream",
     "text": [
      "what is your name !!! :  Dapo\n"
     ]
    }
   ],
   "source": [
    "name = input(\"what is your name : \") # deji\n",
    "\n",
    "while name != \"Dapo\":\n",
    "    print(name,\"you are employed\")\n",
    "    name = input(\"what is your name !!! : \")\n",
    "\n"
   ]
  },
  {
   "cell_type": "code",
   "execution_count": 39,
   "id": "884f3b5f-cdc5-4b91-a56c-46b56522426f",
   "metadata": {},
   "outputs": [
    {
     "name": "stdin",
     "output_type": "stream",
     "text": [
      "what is your gender :  male\n"
     ]
    },
    {
     "name": "stdout",
     "output_type": "stream",
     "text": [
      "male\n"
     ]
    },
    {
     "name": "stdin",
     "output_type": "stream",
     "text": [
      "what is your gender sir/ma :  male\n"
     ]
    },
    {
     "name": "stdout",
     "output_type": "stream",
     "text": [
      "male\n"
     ]
    },
    {
     "name": "stdin",
     "output_type": "stream",
     "text": [
      "what is your gender sir/ma :  female\n"
     ]
    }
   ],
   "source": [
    "import time\n",
    "gender = input(\"what is your gender : \") ## male\n",
    "\n",
    "\n",
    "while gender != \"female\": #True #false\n",
    "    print(gender)\n",
    "    gender = input(\"what is your gender sir/ma : \") ## female\n",
    "    time.sleep(2)"
   ]
  },
  {
   "cell_type": "code",
   "execution_count": 44,
   "id": "27681110-3ef7-4225-be97-c66f72bd99f2",
   "metadata": {},
   "outputs": [
    {
     "data": {
      "text/plain": [
       "True"
      ]
     },
     "execution_count": 44,
     "metadata": {},
     "output_type": "execute_result"
    }
   ],
   "source": [
    "(\"male\" != \"female\") = True"
   ]
  },
  {
   "cell_type": "code",
   "execution_count": 45,
   "id": "23874bb6-b35e-46a8-8c80-95b81f6126a8",
   "metadata": {},
   "outputs": [
    {
     "data": {
      "text/plain": [
       "True"
      ]
     },
     "execution_count": 45,
     "metadata": {},
     "output_type": "execute_result"
    }
   ],
   "source": [
    "switch = True\n",
    "\n",
    "switch"
   ]
  },
  {
   "cell_type": "code",
   "execution_count": 46,
   "id": "a314095f-3f9a-42e9-ba18-d204d60cc060",
   "metadata": {},
   "outputs": [
    {
     "name": "stdout",
     "output_type": "stream",
     "text": [
      "the light is on\n"
     ]
    }
   ],
   "source": [
    "switch = True\n",
    "\n",
    "\n",
    "while switch:\n",
    "    print(\"the light is on\")\n",
    "    switch = False"
   ]
  },
  {
   "cell_type": "code",
   "execution_count": 1,
   "id": "5fcda519-955e-4eb5-886f-2bec7cc57a5f",
   "metadata": {},
   "outputs": [
    {
     "name": "stdout",
     "output_type": "stream",
     "text": [
      "hello raphael\n"
     ]
    },
    {
     "name": "stdin",
     "output_type": "stream",
     "text": [
      "what is your name  :  gbenga\n"
     ]
    },
    {
     "name": "stdout",
     "output_type": "stream",
     "text": [
      "gbenga\n"
     ]
    }
   ],
   "source": [
    "while True:\n",
    "    print(\"hello raphael\")\n",
    "    name = input(\"what is your name  : \")\n",
    "    if name == \"gbenga\":\n",
    "        print(name)\n",
    "        break"
   ]
  },
  {
   "cell_type": "code",
   "execution_count": 2,
   "id": "e2d066de-0283-43de-ada4-9c76c75123cf",
   "metadata": {},
   "outputs": [],
   "source": [
    "### list comprehension"
   ]
  },
  {
   "cell_type": "code",
   "execution_count": 1,
   "id": "41113797-b136-419f-9a07-c0160088e237",
   "metadata": {},
   "outputs": [
    {
     "name": "stdout",
     "output_type": "stream",
     "text": [
      "['DEJI']\n",
      "['DEJI', 'AYO']\n",
      "['DEJI', 'AYO', 'BOLA']\n"
     ]
    }
   ],
   "source": [
    "import time\n",
    "student_names = [\"deji\",\"ayo\",\"bola\"]\n",
    "\n",
    "upper_student_names = []\n",
    "\n",
    "for name in student_names:\n",
    "    upper_student_names.append(name.upper())\n",
    "    print(upper_student_names)\n",
    "    time.sleep(1)"
   ]
  },
  {
   "cell_type": "code",
   "execution_count": 8,
   "id": "b89d1dad-9bee-45a4-83c1-14b17af51274",
   "metadata": {},
   "outputs": [
    {
     "data": {
      "text/plain": [
       "['DEJI', 'AYO', 'BOLA']"
      ]
     },
     "execution_count": 8,
     "metadata": {},
     "output_type": "execute_result"
    }
   ],
   "source": [
    "upper_student_names"
   ]
  },
  {
   "cell_type": "code",
   "execution_count": 5,
   "id": "816b0dbb-23c4-464e-97e2-32c50c8a11fc",
   "metadata": {},
   "outputs": [],
   "source": [
    "x = []\n",
    "\n",
    "x.append(\"deji\")"
   ]
  },
  {
   "cell_type": "code",
   "execution_count": 6,
   "id": "1f200840-3b51-48cb-8be5-54cf40ff6f27",
   "metadata": {},
   "outputs": [
    {
     "data": {
      "text/plain": [
       "['deji']"
      ]
     },
     "execution_count": 6,
     "metadata": {},
     "output_type": "execute_result"
    }
   ],
   "source": [
    "x"
   ]
  },
  {
   "cell_type": "code",
   "execution_count": null,
   "id": "c8443a1a-ea83-4cdc-8a2d-547cb7d72e91",
   "metadata": {},
   "outputs": [],
   "source": []
  }
 ],
 "metadata": {
  "kernelspec": {
   "display_name": "Python 3 (ipykernel)",
   "language": "python",
   "name": "python3"
  },
  "language_info": {
   "codemirror_mode": {
    "name": "ipython",
    "version": 3
   },
   "file_extension": ".py",
   "mimetype": "text/x-python",
   "name": "python",
   "nbconvert_exporter": "python",
   "pygments_lexer": "ipython3",
   "version": "3.12.7"
  }
 },
 "nbformat": 4,
 "nbformat_minor": 5
}
