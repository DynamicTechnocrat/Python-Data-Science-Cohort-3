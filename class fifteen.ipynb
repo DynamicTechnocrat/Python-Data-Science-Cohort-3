{
 "cells": [
  {
   "cell_type": "code",
   "execution_count": 2,
   "id": "fc561eeb-5028-49bb-85e7-6ea916434ec4",
   "metadata": {},
   "outputs": [],
   "source": [
    "import time\n",
    "student_names = [\"deji\",\"ayo\",\"bola\"]\n",
    "\n",
    "upper_student_names = []\n",
    "\n",
    "for name in student_names:\n",
    "    upper_student_names.append(name.upper())\n"
   ]
  },
  {
   "cell_type": "code",
   "execution_count": 3,
   "id": "002196a4-6ca0-49f6-91cd-466e38d5c7da",
   "metadata": {},
   "outputs": [
    {
     "data": {
      "text/plain": [
       "['DEJI', 'AYO', 'BOLA']"
      ]
     },
     "execution_count": 3,
     "metadata": {},
     "output_type": "execute_result"
    }
   ],
   "source": [
    "upper_student_names"
   ]
  },
  {
   "cell_type": "code",
   "execution_count": 24,
   "id": "a6ee81c4-2d2f-417a-9cac-fab7ec974361",
   "metadata": {},
   "outputs": [
    {
     "name": "stdout",
     "output_type": "stream",
     "text": [
      "RAPHAEL\n",
      "['RAPHAEL']\n",
      "BASHY\n",
      "['RAPHAEL', 'BASHY']\n",
      "DANIEL\n",
      "['RAPHAEL', 'BASHY', 'DANIEL']\n"
     ]
    }
   ],
   "source": [
    "#### \n",
    "\n",
    "name_of_student = [\"raphael\",\"bashy\",\"daniel\"]\n",
    "\n",
    "uppercase_name = []\n",
    "\n",
    "for name in name_of_student:\n",
    "    print(name.upper())\n",
    "    uppercase_name.append(name.upper())\n",
    "    print(uppercase_name)\n",
    "    time.sleep(8)"
   ]
  },
  {
   "cell_type": "code",
   "execution_count": 25,
   "id": "66d0137f-9657-486a-b73a-10f09f210af5",
   "metadata": {},
   "outputs": [
    {
     "data": {
      "text/plain": [
       "['RAPHAEL', 'BASHY', 'DANIEL']"
      ]
     },
     "execution_count": 25,
     "metadata": {},
     "output_type": "execute_result"
    }
   ],
   "source": [
    "uppercase_name"
   ]
  },
  {
   "cell_type": "code",
   "execution_count": 22,
   "id": "1e4db10e-7ef9-4598-92ac-03c3799abf16",
   "metadata": {},
   "outputs": [
    {
     "name": "stdout",
     "output_type": "stream",
     "text": [
      "RAPHAEL\n",
      "['RAPHAEL']\n",
      "BASHY\n",
      "['RAPHAEL', 'BASHY']\n",
      "DANIEL\n",
      "['RAPHAEL', 'BASHY', 'DANIEL']\n"
     ]
    }
   ],
   "source": [
    "uppercase_name = []\n",
    "name = name_of_student[0]\n",
    "print(name.upper())\n",
    "uppercase_name.append(name.upper()) ###name = raphael name.upper() = RAPHAEL uppercase_name.append(\"RAPHAEL\") uppercase_name = [\"RAPHAEL\"]\n",
    "print(uppercase_name) #[\"RAPAHEL\"]\n",
    "time.sleep(2)\n",
    "\n",
    "\n",
    "name = name_of_student[1] #bashy\n",
    "print(name.upper()) #BASHY\n",
    "uppercase_name.append(name.upper()) #[\"RAPHAEL\",\"BASHY\"]\n",
    "print(uppercase_name)\n",
    "time.sleep(2)\n",
    "\n",
    "\n",
    "name = name_of_student[2]\n",
    "print(name.upper())\n",
    "uppercase_name.append(name.upper()) #[\"RAPHAEL\",\"BASHY\",\"DANIEL\"]\n",
    "print(uppercase_name)\n",
    "time.sleep(2)"
   ]
  },
  {
   "cell_type": "code",
   "execution_count": null,
   "id": "cc198fcb-cd71-4d03-a9a3-9228fed4e9d2",
   "metadata": {},
   "outputs": [],
   "source": []
  },
  {
   "cell_type": "code",
   "execution_count": 23,
   "id": "f19fc017-43dd-4684-bcb9-4ef1a47fcd70",
   "metadata": {},
   "outputs": [
    {
     "data": {
      "text/plain": [
       "['RAPHAEL', 'BASHY', 'DANIEL']"
      ]
     },
     "execution_count": 23,
     "metadata": {},
     "output_type": "execute_result"
    }
   ],
   "source": [
    "uppercase_name"
   ]
  },
  {
   "cell_type": "code",
   "execution_count": 30,
   "id": "48d31084-82b3-4342-af80-e1749bd53c12",
   "metadata": {},
   "outputs": [],
   "source": [
    "#### list comprehension\n",
    "\n",
    "name_of_student = [\"raphael\",\"bashy\",\"daniel\"]\n",
    "\n",
    "uppercase_name = [name.upper() for name in name_of_student]\n"
   ]
  },
  {
   "cell_type": "code",
   "execution_count": 33,
   "id": "05e65be4-7042-4e21-b3da-42b0f6eac12f",
   "metadata": {},
   "outputs": [],
   "source": [
    "names = [\"ade\",\"ojo\",\"betty\"]\n",
    "\n",
    "uppercasename = [thename.upper() for thename in names]"
   ]
  },
  {
   "cell_type": "code",
   "execution_count": 34,
   "id": "a11f0d3c-9976-4033-88f1-161f356c223f",
   "metadata": {},
   "outputs": [
    {
     "data": {
      "text/plain": [
       "['ADE', 'OJO', 'BETTY']"
      ]
     },
     "execution_count": 34,
     "metadata": {},
     "output_type": "execute_result"
    }
   ],
   "source": [
    "uppercasename"
   ]
  },
  {
   "cell_type": "code",
   "execution_count": 35,
   "id": "7c5f28b4-3284-474f-966d-43d48ab840d9",
   "metadata": {},
   "outputs": [],
   "source": [
    "name3 = [\"BIMPE\",\"BADU\",\"BOLA\"]\n",
    "\n",
    "name4 = [names.lower() for names in name3]"
   ]
  },
  {
   "cell_type": "code",
   "execution_count": 36,
   "id": "bf16e216-ecbb-444c-afbf-9c4168c8c51b",
   "metadata": {},
   "outputs": [
    {
     "data": {
      "text/plain": [
       "['bimpe', 'badu', 'bola']"
      ]
     },
     "execution_count": 36,
     "metadata": {},
     "output_type": "execute_result"
    }
   ],
   "source": [
    "name4"
   ]
  },
  {
   "cell_type": "code",
   "execution_count": 37,
   "id": "78ffc6e9-f67f-4af3-acf6-a44317f73b8a",
   "metadata": {},
   "outputs": [],
   "source": [
    "x = [1,2,3,4]\n",
    "\n",
    "y = [num * 2 for num in x]"
   ]
  },
  {
   "cell_type": "code",
   "execution_count": 38,
   "id": "0cabc0a1-91ea-4d20-8180-9f6207a820e8",
   "metadata": {},
   "outputs": [
    {
     "data": {
      "text/plain": [
       "[2, 4, 6, 8]"
      ]
     },
     "execution_count": 38,
     "metadata": {},
     "output_type": "execute_result"
    }
   ],
   "source": [
    "y"
   ]
  },
  {
   "cell_type": "code",
   "execution_count": null,
   "id": "bfb8052b-5095-48a7-ac4a-b65fa1606b62",
   "metadata": {},
   "outputs": [],
   "source": []
  },
  {
   "cell_type": "code",
   "execution_count": 58,
   "id": "ae4559d1-de96-47e3-b51c-e852ee094dc3",
   "metadata": {},
   "outputs": [],
   "source": [
    "website = [\"https://www.premierleague.com/en/tables?competition=8&season=2025&matchweek=1&ha=-1\",\"https://www.skysports.com/la-liga-table\",\"https://www.sportybet.com/ng/\",\"https://punchng.com/\"]"
   ]
  },
  {
   "cell_type": "code",
   "execution_count": 59,
   "id": "a544f072-276b-4c7d-8ec1-b2093fe0394a",
   "metadata": {},
   "outputs": [],
   "source": [
    "import requests "
   ]
  },
  {
   "cell_type": "code",
   "execution_count": 60,
   "id": "3f8e1e73-decc-4081-b720-d1ca142da2af",
   "metadata": {},
   "outputs": [
    {
     "name": "stdout",
     "output_type": "stream",
     "text": [
      "<Response [200]> https://www.premierleague.com/en/tables?competition=8&season=2025&matchweek=1&ha=-1\n",
      "<Response [200]> https://www.skysports.com/la-liga-table\n",
      "<Response [403]> https://www.sportybet.com/ng/\n",
      "<Response [200]> https://punchng.com/\n"
     ]
    }
   ],
   "source": [
    "for link in website:\n",
    "   print(requests.get(link),link)"
   ]
  },
  {
   "cell_type": "code",
   "execution_count": null,
   "id": "a8f6cce7-0883-4a36-bcca-455bc15759cb",
   "metadata": {},
   "outputs": [],
   "source": [
    "news = request.get(\"https://punchng.com/\""
   ]
  },
  {
   "cell_type": "code",
   "execution_count": 61,
   "id": "22e1becd-84ac-4223-a102-3c2fc03ae686",
   "metadata": {},
   "outputs": [],
   "source": [
    "from bs4 import BeautifulSoup"
   ]
  },
  {
   "cell_type": "code",
   "execution_count": null,
   "id": "0b604e93-8efb-4342-b57b-5e6480f24986",
   "metadata": {},
   "outputs": [],
   "source": [
    "soup = BeautifulSoup("
   ]
  },
  {
   "cell_type": "code",
   "execution_count": null,
   "id": "e75a9b34-ec79-4b1a-b262-5f2e44271ea4",
   "metadata": {},
   "outputs": [],
   "source": []
  }
 ],
 "metadata": {
  "kernelspec": {
   "display_name": "Python 3 (ipykernel)",
   "language": "python",
   "name": "python3"
  },
  "language_info": {
   "codemirror_mode": {
    "name": "ipython",
    "version": 3
   },
   "file_extension": ".py",
   "mimetype": "text/x-python",
   "name": "python",
   "nbconvert_exporter": "python",
   "pygments_lexer": "ipython3",
   "version": "3.12.7"
  }
 },
 "nbformat": 4,
 "nbformat_minor": 5
}
