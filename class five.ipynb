{
 "cells": [
  {
   "cell_type": "code",
   "execution_count": 1,
   "id": "06b2f1b1-bc17-49d3-910a-3acf44d85083",
   "metadata": {},
   "outputs": [],
   "source": [
    "### more methods in string , input , int, float"
   ]
  },
  {
   "cell_type": "code",
   "execution_count": 8,
   "id": "feddad27-d319-4165-999b-a3f6c59688f2",
   "metadata": {},
   "outputs": [],
   "source": [
    "name = \"bada\""
   ]
  },
  {
   "cell_type": "code",
   "execution_count": 9,
   "id": "fa2ee003-b5a3-4129-8a58-2342747328d2",
   "metadata": {},
   "outputs": [
    {
     "data": {
      "text/plain": [
       "'bada'"
      ]
     },
     "execution_count": 9,
     "metadata": {},
     "output_type": "execute_result"
    }
   ],
   "source": [
    "name"
   ]
  },
  {
   "cell_type": "code",
   "execution_count": 5,
   "id": "474190eb-9096-4bd7-a48c-ac111d6e2bc9",
   "metadata": {},
   "outputs": [
    {
     "data": {
      "text/plain": [
       "['__add__',\n",
       " '__class__',\n",
       " '__contains__',\n",
       " '__delattr__',\n",
       " '__dir__',\n",
       " '__doc__',\n",
       " '__eq__',\n",
       " '__format__',\n",
       " '__ge__',\n",
       " '__getattribute__',\n",
       " '__getitem__',\n",
       " '__getnewargs__',\n",
       " '__getstate__',\n",
       " '__gt__',\n",
       " '__hash__',\n",
       " '__init__',\n",
       " '__init_subclass__',\n",
       " '__iter__',\n",
       " '__le__',\n",
       " '__len__',\n",
       " '__lt__',\n",
       " '__mod__',\n",
       " '__mul__',\n",
       " '__ne__',\n",
       " '__new__',\n",
       " '__reduce__',\n",
       " '__reduce_ex__',\n",
       " '__repr__',\n",
       " '__rmod__',\n",
       " '__rmul__',\n",
       " '__setattr__',\n",
       " '__sizeof__',\n",
       " '__str__',\n",
       " '__subclasshook__',\n",
       " 'capitalize',\n",
       " 'casefold',\n",
       " 'center',\n",
       " 'count',\n",
       " 'encode',\n",
       " 'endswith',\n",
       " 'expandtabs',\n",
       " 'find',\n",
       " 'format',\n",
       " 'format_map',\n",
       " 'index',\n",
       " 'isalnum',\n",
       " 'isalpha',\n",
       " 'isascii',\n",
       " 'isdecimal',\n",
       " 'isdigit',\n",
       " 'isidentifier',\n",
       " 'islower',\n",
       " 'isnumeric',\n",
       " 'isprintable',\n",
       " 'isspace',\n",
       " 'istitle',\n",
       " 'isupper',\n",
       " 'join',\n",
       " 'ljust',\n",
       " 'lower',\n",
       " 'lstrip',\n",
       " 'maketrans',\n",
       " 'partition',\n",
       " 'removeprefix',\n",
       " 'removesuffix',\n",
       " 'replace',\n",
       " 'rfind',\n",
       " 'rindex',\n",
       " 'rjust',\n",
       " 'rpartition',\n",
       " 'rsplit',\n",
       " 'rstrip',\n",
       " 'split',\n",
       " 'splitlines',\n",
       " 'startswith',\n",
       " 'strip',\n",
       " 'swapcase',\n",
       " 'title',\n",
       " 'translate',\n",
       " 'upper',\n",
       " 'zfill']"
      ]
     },
     "execution_count": 5,
     "metadata": {},
     "output_type": "execute_result"
    }
   ],
   "source": [
    "dir(name)"
   ]
  },
  {
   "cell_type": "code",
   "execution_count": 6,
   "id": "d25f498a-5c71-434b-9eff-d707c4aa66e1",
   "metadata": {},
   "outputs": [],
   "source": [
    "### count, title , replace ,index, isalpha , isnumeric , islower"
   ]
  },
  {
   "cell_type": "markdown",
   "id": "a786fac9-6b2c-4193-a3cc-b93c24e1bf96",
   "metadata": {},
   "source": [
    "## Count"
   ]
  },
  {
   "cell_type": "code",
   "execution_count": 10,
   "id": "89affcd4-da73-40d2-875f-4e31417c0e53",
   "metadata": {},
   "outputs": [
    {
     "data": {
      "text/plain": [
       "'bada'"
      ]
     },
     "execution_count": 10,
     "metadata": {},
     "output_type": "execute_result"
    }
   ],
   "source": [
    "name"
   ]
  },
  {
   "cell_type": "code",
   "execution_count": 12,
   "id": "a0eeb1e5-053d-4ac8-8e3a-120d6ce480ed",
   "metadata": {},
   "outputs": [
    {
     "data": {
      "text/plain": [
       "2"
      ]
     },
     "execution_count": 12,
     "metadata": {},
     "output_type": "execute_result"
    }
   ],
   "source": [
    "name.count(\"a\")"
   ]
  },
  {
   "cell_type": "code",
   "execution_count": 13,
   "id": "5714469b-d717-4fe8-bf54-b73351f39fd6",
   "metadata": {},
   "outputs": [
    {
     "data": {
      "text/plain": [
       "1"
      ]
     },
     "execution_count": 13,
     "metadata": {},
     "output_type": "execute_result"
    }
   ],
   "source": [
    "name.count(\"b\")"
   ]
  },
  {
   "cell_type": "code",
   "execution_count": 14,
   "id": "82d81a28-2748-48a7-bb1b-d40dd6e9c026",
   "metadata": {},
   "outputs": [
    {
     "data": {
      "text/plain": [
       "1"
      ]
     },
     "execution_count": 14,
     "metadata": {},
     "output_type": "execute_result"
    }
   ],
   "source": [
    "name.count(\"d\")"
   ]
  },
  {
   "cell_type": "code",
   "execution_count": 15,
   "id": "c7c3dad2-f5f4-43bd-8def-7168ecb57ca6",
   "metadata": {},
   "outputs": [
    {
     "data": {
      "text/plain": [
       "0"
      ]
     },
     "execution_count": 15,
     "metadata": {},
     "output_type": "execute_result"
    }
   ],
   "source": [
    "name.count(\"w\")"
   ]
  },
  {
   "cell_type": "markdown",
   "id": "d31321bc-472f-41a1-a823-69131e55e0fb",
   "metadata": {},
   "source": [
    "## title"
   ]
  },
  {
   "cell_type": "code",
   "execution_count": 18,
   "id": "80becc6c-ab45-4fa0-bead-3c53dae95bfc",
   "metadata": {},
   "outputs": [
    {
     "data": {
      "text/plain": [
       "'Bada'"
      ]
     },
     "execution_count": 18,
     "metadata": {},
     "output_type": "execute_result"
    }
   ],
   "source": [
    "name.title()"
   ]
  },
  {
   "cell_type": "markdown",
   "id": "2a822edd-35aa-405a-b2e5-0d6b496085ef",
   "metadata": {},
   "source": [
    "### replace"
   ]
  },
  {
   "cell_type": "code",
   "execution_count": 20,
   "id": "e3abd900-9939-45d1-a99b-9694f04c1061",
   "metadata": {},
   "outputs": [
    {
     "data": {
      "text/plain": [
       "'bada'"
      ]
     },
     "execution_count": 20,
     "metadata": {},
     "output_type": "execute_result"
    }
   ],
   "source": [
    "name"
   ]
  },
  {
   "cell_type": "code",
   "execution_count": 22,
   "id": "06068b6e-0e1c-4533-a095-1116118e7c2e",
   "metadata": {},
   "outputs": [
    {
     "data": {
      "text/plain": [
       "'jada'"
      ]
     },
     "execution_count": 22,
     "metadata": {},
     "output_type": "execute_result"
    }
   ],
   "source": [
    "name.replace(\"b\",\"j\")"
   ]
  },
  {
   "cell_type": "markdown",
   "id": "94f96586-95ed-44bd-a1a4-7435496f44bc",
   "metadata": {},
   "source": [
    "### isalpha"
   ]
  },
  {
   "cell_type": "code",
   "execution_count": 30,
   "id": "aea90000-51af-48eb-a4d3-b1431d92b38e",
   "metadata": {},
   "outputs": [
    {
     "data": {
      "text/plain": [
       "True"
      ]
     },
     "execution_count": 30,
     "metadata": {},
     "output_type": "execute_result"
    }
   ],
   "source": [
    "name.isalpha()"
   ]
  },
  {
   "cell_type": "markdown",
   "id": "f80cfd16-83f2-43ff-bdb9-ca81dd7c437e",
   "metadata": {},
   "source": [
    "### isnumeric"
   ]
  },
  {
   "cell_type": "code",
   "execution_count": 32,
   "id": "d5e95b15-debb-4b4c-861a-53d26dde4010",
   "metadata": {},
   "outputs": [
    {
     "data": {
      "text/plain": [
       "False"
      ]
     },
     "execution_count": 32,
     "metadata": {},
     "output_type": "execute_result"
    }
   ],
   "source": [
    "name.isnumeric()"
   ]
  },
  {
   "cell_type": "code",
   "execution_count": 33,
   "id": "dfbd1a13-9b5b-47f1-90c1-d07ec7f0f4dc",
   "metadata": {},
   "outputs": [],
   "source": [
    "age = \"3\""
   ]
  },
  {
   "cell_type": "code",
   "execution_count": 34,
   "id": "a8d699b9-a2c6-4352-aad5-c62609505dad",
   "metadata": {},
   "outputs": [
    {
     "data": {
      "text/plain": [
       "'3'"
      ]
     },
     "execution_count": 34,
     "metadata": {},
     "output_type": "execute_result"
    }
   ],
   "source": [
    "age"
   ]
  },
  {
   "cell_type": "code",
   "execution_count": 35,
   "id": "ae0d4f21-3840-4690-a775-503e221009d3",
   "metadata": {},
   "outputs": [
    {
     "data": {
      "text/plain": [
       "True"
      ]
     },
     "execution_count": 35,
     "metadata": {},
     "output_type": "execute_result"
    }
   ],
   "source": [
    "age.isnumeric()"
   ]
  },
  {
   "cell_type": "code",
   "execution_count": 36,
   "id": "ded317b4-499f-4056-bde3-58752493e504",
   "metadata": {},
   "outputs": [],
   "source": [
    "name1 = \"raphael\""
   ]
  },
  {
   "cell_type": "code",
   "execution_count": 37,
   "id": "38540951-4360-47e2-924f-fc01ba520fe8",
   "metadata": {},
   "outputs": [
    {
     "data": {
      "text/plain": [
       "'raphael'"
      ]
     },
     "execution_count": 37,
     "metadata": {},
     "output_type": "execute_result"
    }
   ],
   "source": [
    "name1"
   ]
  },
  {
   "cell_type": "markdown",
   "id": "01b0b40b-c856-4494-84b8-4f34ee998b64",
   "metadata": {},
   "source": [
    "### islower"
   ]
  },
  {
   "cell_type": "code",
   "execution_count": 38,
   "id": "d9ee0506-0c9f-4dd9-aac7-5c41baf68db9",
   "metadata": {},
   "outputs": [
    {
     "data": {
      "text/plain": [
       "True"
      ]
     },
     "execution_count": 38,
     "metadata": {},
     "output_type": "execute_result"
    }
   ],
   "source": [
    "name1.islower()"
   ]
  },
  {
   "cell_type": "markdown",
   "id": "5606677b-ad20-4e50-9f1a-9c933c178c9b",
   "metadata": {},
   "source": [
    "## isupper()"
   ]
  },
  {
   "cell_type": "code",
   "execution_count": 40,
   "id": "d8ad0027-5861-4103-a91d-ef267e42b262",
   "metadata": {},
   "outputs": [
    {
     "data": {
      "text/plain": [
       "False"
      ]
     },
     "execution_count": 40,
     "metadata": {},
     "output_type": "execute_result"
    }
   ],
   "source": [
    "name1.isupper()"
   ]
  },
  {
   "cell_type": "code",
   "execution_count": 48,
   "id": "2d2d1fba-c814-4801-8683-5dd5f8d64607",
   "metadata": {},
   "outputs": [
    {
     "data": {
      "text/plain": [
       "'DANIEL'"
      ]
     },
     "execution_count": 48,
     "metadata": {},
     "output_type": "execute_result"
    }
   ],
   "source": [
    "name4 = \"DANIEL\"\n",
    "name4"
   ]
  },
  {
   "cell_type": "code",
   "execution_count": 49,
   "id": "0e62c7cc-ef99-4f21-9960-de00e27f78a4",
   "metadata": {},
   "outputs": [
    {
     "data": {
      "text/plain": [
       "True"
      ]
     },
     "execution_count": 49,
     "metadata": {},
     "output_type": "execute_result"
    }
   ],
   "source": [
    "name4.isupper()"
   ]
  },
  {
   "cell_type": "code",
   "execution_count": 41,
   "id": "81790c21-cfdd-404a-b45f-2758c2425048",
   "metadata": {},
   "outputs": [],
   "source": [
    "### index"
   ]
  },
  {
   "cell_type": "code",
   "execution_count": 42,
   "id": "07cc4efc-0844-4d3c-bcbc-911bce738122",
   "metadata": {},
   "outputs": [],
   "source": [
    "name2 = \"adeposi\""
   ]
  },
  {
   "cell_type": "code",
   "execution_count": 43,
   "id": "f8df73e7-8f3b-43de-aa2c-3c2fdacdc3d7",
   "metadata": {},
   "outputs": [
    {
     "data": {
      "text/plain": [
       "'adeposi'"
      ]
     },
     "execution_count": 43,
     "metadata": {},
     "output_type": "execute_result"
    }
   ],
   "source": [
    "name2"
   ]
  },
  {
   "cell_type": "code",
   "execution_count": 44,
   "id": "70d9d259-1544-4bac-9357-a32bce4a5639",
   "metadata": {},
   "outputs": [
    {
     "data": {
      "text/plain": [
       "0"
      ]
     },
     "execution_count": 44,
     "metadata": {},
     "output_type": "execute_result"
    }
   ],
   "source": [
    "name2.index(\"a\")"
   ]
  },
  {
   "cell_type": "code",
   "execution_count": 45,
   "id": "4cc36529-cf5f-4a57-9f53-c6a305732e47",
   "metadata": {},
   "outputs": [
    {
     "data": {
      "text/plain": [
       "3"
      ]
     },
     "execution_count": 45,
     "metadata": {},
     "output_type": "execute_result"
    }
   ],
   "source": [
    "name2.index(\"p\")"
   ]
  },
  {
   "cell_type": "code",
   "execution_count": null,
   "id": "9f101a1b-be3c-4cfc-949a-462d103d9c0d",
   "metadata": {},
   "outputs": [],
   "source": [
    "HAVE A TEXT \"GABRIEL\" i want to convert it in lower then store it in a variable name, check if its in a lower . islower()"
   ]
  },
  {
   "cell_type": "markdown",
   "id": "9819bfd5-48dd-4b53-8e6f-918a20b06f0d",
   "metadata": {},
   "source": [
    "### Input"
   ]
  },
  {
   "cell_type": "code",
   "execution_count": 52,
   "id": "7c0d1e09-b915-4f96-a947-589129dfbf8a",
   "metadata": {},
   "outputs": [
    {
     "name": "stdin",
     "output_type": "stream",
     "text": [
      "what is your name :  gabriel\n"
     ]
    },
    {
     "data": {
      "text/plain": [
       "'gabriel'"
      ]
     },
     "execution_count": 52,
     "metadata": {},
     "output_type": "execute_result"
    }
   ],
   "source": [
    "name5 = input(\"what is your name : \")\n",
    "\n",
    "name5"
   ]
  },
  {
   "cell_type": "code",
   "execution_count": 55,
   "id": "154aef33-7a67-4fd7-833d-897296f0c711",
   "metadata": {},
   "outputs": [],
   "source": [
    "new_name5 = name5.upper()"
   ]
  },
  {
   "cell_type": "code",
   "execution_count": 56,
   "id": "f5f2ed66-1d30-4348-847e-93300ddf6fdb",
   "metadata": {},
   "outputs": [
    {
     "data": {
      "text/plain": [
       "'GABRIEL'"
      ]
     },
     "execution_count": 56,
     "metadata": {},
     "output_type": "execute_result"
    }
   ],
   "source": [
    "new_name5"
   ]
  },
  {
   "cell_type": "code",
   "execution_count": 61,
   "id": "c2060998-18c5-4e93-ae23-2e5825b245c2",
   "metadata": {},
   "outputs": [
    {
     "data": {
      "text/plain": [
       "str"
      ]
     },
     "execution_count": 61,
     "metadata": {},
     "output_type": "execute_result"
    }
   ],
   "source": [
    "type(new_name5)"
   ]
  },
  {
   "cell_type": "markdown",
   "id": "0a90919c-ac4a-4d5e-ba1c-583c74ba3998",
   "metadata": {},
   "source": [
    "### Int and float"
   ]
  },
  {
   "cell_type": "code",
   "execution_count": 57,
   "id": "61809905-c16c-4afb-b6ea-bab8ca96e816",
   "metadata": {},
   "outputs": [],
   "source": [
    "x = 5"
   ]
  },
  {
   "cell_type": "code",
   "execution_count": 58,
   "id": "2b3591eb-242d-4899-b967-28ae89cc7b46",
   "metadata": {},
   "outputs": [
    {
     "data": {
      "text/plain": [
       "5"
      ]
     },
     "execution_count": 58,
     "metadata": {},
     "output_type": "execute_result"
    }
   ],
   "source": [
    "x"
   ]
  },
  {
   "cell_type": "code",
   "execution_count": 60,
   "id": "7d258a5d-e035-4224-9b9b-16d1cad24ba3",
   "metadata": {},
   "outputs": [
    {
     "data": {
      "text/plain": [
       "int"
      ]
     },
     "execution_count": 60,
     "metadata": {},
     "output_type": "execute_result"
    }
   ],
   "source": [
    "type(x)"
   ]
  },
  {
   "cell_type": "code",
   "execution_count": 62,
   "id": "f9d5d1e7-bb9f-4216-ab86-3f5a7c2e2d06",
   "metadata": {},
   "outputs": [],
   "source": [
    "y = 6.7"
   ]
  },
  {
   "cell_type": "code",
   "execution_count": 63,
   "id": "49d7e736-7749-4c1a-94b0-c082d9b05645",
   "metadata": {},
   "outputs": [
    {
     "data": {
      "text/plain": [
       "6.7"
      ]
     },
     "execution_count": 63,
     "metadata": {},
     "output_type": "execute_result"
    }
   ],
   "source": [
    "y"
   ]
  },
  {
   "cell_type": "code",
   "execution_count": 64,
   "id": "fd278d96-0876-434e-bea4-33ab46449f75",
   "metadata": {},
   "outputs": [
    {
     "data": {
      "text/plain": [
       "float"
      ]
     },
     "execution_count": 64,
     "metadata": {},
     "output_type": "execute_result"
    }
   ],
   "source": [
    "type(y)"
   ]
  },
  {
   "cell_type": "markdown",
   "id": "ca23f590-300b-46d5-8034-66d84f12e233",
   "metadata": {},
   "source": [
    "### operation on numbers"
   ]
  },
  {
   "cell_type": "code",
   "execution_count": 65,
   "id": "95b239fd-eab3-4c71-8f51-be2669e173d9",
   "metadata": {},
   "outputs": [],
   "source": [
    "### addition(+) subtraction(-) division(/) multiplication(*) modulus(%) "
   ]
  },
  {
   "cell_type": "code",
   "execution_count": 77,
   "id": "7d0bcd6a-55da-4bbb-a557-76468dfa0bcb",
   "metadata": {},
   "outputs": [],
   "source": [
    "x = 6\n",
    "y = 3"
   ]
  },
  {
   "cell_type": "code",
   "execution_count": 78,
   "id": "b8df68d2-1209-4b23-b5a6-064adb9aabe3",
   "metadata": {},
   "outputs": [],
   "source": [
    "adding_x_y = x + y"
   ]
  },
  {
   "cell_type": "code",
   "execution_count": 79,
   "id": "e4495741-8587-468c-a3a4-7b5002aa528d",
   "metadata": {},
   "outputs": [
    {
     "data": {
      "text/plain": [
       "9"
      ]
     },
     "execution_count": 79,
     "metadata": {},
     "output_type": "execute_result"
    }
   ],
   "source": [
    "adding_x_y"
   ]
  },
  {
   "cell_type": "code",
   "execution_count": 71,
   "id": "a03372a3-ed2e-4618-baf3-f2bbf950aca1",
   "metadata": {},
   "outputs": [
    {
     "data": {
      "text/plain": [
       "3"
      ]
     },
     "execution_count": 71,
     "metadata": {},
     "output_type": "execute_result"
    }
   ],
   "source": [
    "subtraction_x_y = x - y\n",
    "subtraction_x_y"
   ]
  },
  {
   "cell_type": "code",
   "execution_count": 80,
   "id": "21d29116-90d3-4700-bb17-8d43d1437758",
   "metadata": {},
   "outputs": [
    {
     "data": {
      "text/plain": [
       "2.0"
      ]
     },
     "execution_count": 80,
     "metadata": {},
     "output_type": "execute_result"
    }
   ],
   "source": [
    "division_x_y  = x / y\n",
    "division_x_y"
   ]
  },
  {
   "cell_type": "code",
   "execution_count": 81,
   "id": "da6cf8c2-eb8c-49c4-ab94-d06098dadd9f",
   "metadata": {},
   "outputs": [],
   "source": [
    "multiplication_x_y = x * y"
   ]
  },
  {
   "cell_type": "code",
   "execution_count": 82,
   "id": "4809ef63-df9f-4d2d-8340-522d4e5995c9",
   "metadata": {},
   "outputs": [
    {
     "data": {
      "text/plain": [
       "18"
      ]
     },
     "execution_count": 82,
     "metadata": {},
     "output_type": "execute_result"
    }
   ],
   "source": [
    "multiplication_x_y"
   ]
  },
  {
   "cell_type": "code",
   "execution_count": 83,
   "id": "ad47f092-8bc8-4e63-9ace-c2d409a66be8",
   "metadata": {},
   "outputs": [],
   "source": [
    "modulus_x_y = x % y"
   ]
  },
  {
   "cell_type": "code",
   "execution_count": 84,
   "id": "8b59ce20-e0d1-41ef-93a2-45fb8675ad06",
   "metadata": {},
   "outputs": [
    {
     "data": {
      "text/plain": [
       "0"
      ]
     },
     "execution_count": 84,
     "metadata": {},
     "output_type": "execute_result"
    }
   ],
   "source": [
    "modulus_x_y"
   ]
  },
  {
   "cell_type": "code",
   "execution_count": 85,
   "id": "23b14c87-0468-4796-a22c-a03e21974745",
   "metadata": {},
   "outputs": [
    {
     "data": {
      "text/plain": [
       "1"
      ]
     },
     "execution_count": 85,
     "metadata": {},
     "output_type": "execute_result"
    }
   ],
   "source": [
    "7 % 3"
   ]
  },
  {
   "cell_type": "code",
   "execution_count": 86,
   "id": "5d14a1d0-ee61-4ff3-bc61-b50d3ed61ae4",
   "metadata": {},
   "outputs": [
    {
     "data": {
      "text/plain": [
       "4"
      ]
     },
     "execution_count": 86,
     "metadata": {},
     "output_type": "execute_result"
    }
   ],
   "source": [
    "9 % 5"
   ]
  },
  {
   "cell_type": "code",
   "execution_count": null,
   "id": "fd7b4cf8-6e01-41d3-97a8-befaf43311b4",
   "metadata": {},
   "outputs": [],
   "source": []
  },
  {
   "cell_type": "markdown",
   "id": "d55acec8-545a-4008-8c44-243e80d4bdc3",
   "metadata": {},
   "source": [
    "### casting , logical operator , relationer operator , conditioner statement"
   ]
  },
  {
   "cell_type": "code",
   "execution_count": null,
   "id": "f1a7dfe1-a8d1-4cbc-8670-da7ba7d0fef8",
   "metadata": {},
   "outputs": [],
   "source": []
  }
 ],
 "metadata": {
  "kernelspec": {
   "display_name": "Python 3 (ipykernel)",
   "language": "python",
   "name": "python3"
  },
  "language_info": {
   "codemirror_mode": {
    "name": "ipython",
    "version": 3
   },
   "file_extension": ".py",
   "mimetype": "text/x-python",
   "name": "python",
   "nbconvert_exporter": "python",
   "pygments_lexer": "ipython3",
   "version": "3.12.7"
  }
 },
 "nbformat": 4,
 "nbformat_minor": 5
}
