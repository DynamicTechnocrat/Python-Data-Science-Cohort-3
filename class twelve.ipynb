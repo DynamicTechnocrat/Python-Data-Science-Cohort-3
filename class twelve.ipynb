{
 "cells": [
  {
   "cell_type": "markdown",
   "id": "fa532289-3d9d-48a2-aa3d-5e0621c78a41",
   "metadata": {},
   "source": [
    "### Dictionary "
   ]
  },
  {
   "cell_type": "code",
   "execution_count": 13,
   "id": "8c5675c2-13f8-4641-8ff3-8b5466ca91fa",
   "metadata": {},
   "outputs": [],
   "source": [
    "names = {\"daniel\":709,\"raphael\":805,\"bashy\":903}"
   ]
  },
  {
   "cell_type": "code",
   "execution_count": 14,
   "id": "00b0755e-f93e-45cc-8b42-7c830007b892",
   "metadata": {},
   "outputs": [
    {
     "data": {
      "text/plain": [
       "{'daniel': 709, 'raphael': 805, 'bashy': 903}"
      ]
     },
     "execution_count": 14,
     "metadata": {},
     "output_type": "execute_result"
    }
   ],
   "source": [
    "names"
   ]
  },
  {
   "cell_type": "code",
   "execution_count": 15,
   "id": "5a68c176-8071-421e-af38-dca269b3878e",
   "metadata": {},
   "outputs": [
    {
     "data": {
      "text/plain": [
       "dict"
      ]
     },
     "execution_count": 15,
     "metadata": {},
     "output_type": "execute_result"
    }
   ],
   "source": [
    "type(names)"
   ]
  },
  {
   "cell_type": "code",
   "execution_count": 16,
   "id": "8f261335-ff9e-41d4-8d97-14aeb2dabf45",
   "metadata": {},
   "outputs": [
    {
     "data": {
      "text/plain": [
       "{'key': 'value'}"
      ]
     },
     "execution_count": 16,
     "metadata": {},
     "output_type": "execute_result"
    }
   ],
   "source": [
    "{\"key\":\"value\",\"key\":\"value\"}"
   ]
  },
  {
   "cell_type": "code",
   "execution_count": 23,
   "id": "3fc81c72-62d4-49cb-be5a-8ab4170311e0",
   "metadata": {},
   "outputs": [],
   "source": [
    "### accessing value of a dictionary using key"
   ]
  },
  {
   "cell_type": "code",
   "execution_count": 20,
   "id": "1178115c-21bf-4afa-a27a-3910238e2a23",
   "metadata": {},
   "outputs": [
    {
     "data": {
      "text/plain": [
       "805"
      ]
     },
     "execution_count": 20,
     "metadata": {},
     "output_type": "execute_result"
    }
   ],
   "source": [
    "names[\"raphael\"]"
   ]
  },
  {
   "cell_type": "code",
   "execution_count": 21,
   "id": "f65258d0-cf37-4f44-a4c6-8de30fcb00f1",
   "metadata": {},
   "outputs": [
    {
     "data": {
      "text/plain": [
       "903"
      ]
     },
     "execution_count": 21,
     "metadata": {},
     "output_type": "execute_result"
    }
   ],
   "source": [
    "names['bashy']"
   ]
  },
  {
   "cell_type": "code",
   "execution_count": 22,
   "id": "e9f46752-e6c1-4513-a947-8094deb48093",
   "metadata": {},
   "outputs": [
    {
     "data": {
      "text/plain": [
       "709"
      ]
     },
     "execution_count": 22,
     "metadata": {},
     "output_type": "execute_result"
    }
   ],
   "source": [
    "names['daniel']"
   ]
  },
  {
   "cell_type": "code",
   "execution_count": 24,
   "id": "850f0881-1916-4764-b178-31eccccc72a9",
   "metadata": {},
   "outputs": [],
   "source": [
    "### modifying a dictionary"
   ]
  },
  {
   "cell_type": "code",
   "execution_count": 25,
   "id": "47c09039-5d96-4d90-858c-f6d09ed46c78",
   "metadata": {},
   "outputs": [],
   "source": [
    "names['raphael'] = 304"
   ]
  },
  {
   "cell_type": "code",
   "execution_count": 26,
   "id": "4d768a48-bb23-40e2-bf01-4a3199ef51d2",
   "metadata": {},
   "outputs": [
    {
     "data": {
      "text/plain": [
       "304"
      ]
     },
     "execution_count": 26,
     "metadata": {},
     "output_type": "execute_result"
    }
   ],
   "source": [
    "names['raphael']"
   ]
  },
  {
   "cell_type": "code",
   "execution_count": 27,
   "id": "195eb5c8-d0bf-4d29-819b-d9aa6dc50847",
   "metadata": {},
   "outputs": [],
   "source": [
    "names['bashy'] = 201"
   ]
  },
  {
   "cell_type": "code",
   "execution_count": 28,
   "id": "9d4dc45d-244f-46d6-9a6a-0495d9627d1b",
   "metadata": {},
   "outputs": [
    {
     "data": {
      "text/plain": [
       "201"
      ]
     },
     "execution_count": 28,
     "metadata": {},
     "output_type": "execute_result"
    }
   ],
   "source": [
    "names['bashy']"
   ]
  },
  {
   "cell_type": "code",
   "execution_count": 29,
   "id": "7f67fccd-f948-4d3a-85a0-f341d6c07b28",
   "metadata": {},
   "outputs": [
    {
     "data": {
      "text/plain": [
       "{'daniel': 709, 'raphael': 304, 'bashy': 201}"
      ]
     },
     "execution_count": 29,
     "metadata": {},
     "output_type": "execute_result"
    }
   ],
   "source": [
    "names"
   ]
  },
  {
   "cell_type": "code",
   "execution_count": 30,
   "id": "f5a6dfbd-edf2-4849-a4ca-8b308f707c94",
   "metadata": {},
   "outputs": [],
   "source": [
    "### method associated with dictionary"
   ]
  },
  {
   "cell_type": "code",
   "execution_count": 31,
   "id": "4d7a9730-932c-4cdb-918f-be52c61ecf97",
   "metadata": {},
   "outputs": [
    {
     "data": {
      "text/plain": [
       "['__class__',\n",
       " '__class_getitem__',\n",
       " '__contains__',\n",
       " '__delattr__',\n",
       " '__delitem__',\n",
       " '__dir__',\n",
       " '__doc__',\n",
       " '__eq__',\n",
       " '__format__',\n",
       " '__ge__',\n",
       " '__getattribute__',\n",
       " '__getitem__',\n",
       " '__getstate__',\n",
       " '__gt__',\n",
       " '__hash__',\n",
       " '__init__',\n",
       " '__init_subclass__',\n",
       " '__ior__',\n",
       " '__iter__',\n",
       " '__le__',\n",
       " '__len__',\n",
       " '__lt__',\n",
       " '__ne__',\n",
       " '__new__',\n",
       " '__or__',\n",
       " '__reduce__',\n",
       " '__reduce_ex__',\n",
       " '__repr__',\n",
       " '__reversed__',\n",
       " '__ror__',\n",
       " '__setattr__',\n",
       " '__setitem__',\n",
       " '__sizeof__',\n",
       " '__str__',\n",
       " '__subclasshook__',\n",
       " 'clear',\n",
       " 'copy',\n",
       " 'fromkeys',\n",
       " 'get',\n",
       " 'items',\n",
       " 'keys',\n",
       " 'pop',\n",
       " 'popitem',\n",
       " 'setdefault',\n",
       " 'update',\n",
       " 'values']"
      ]
     },
     "execution_count": 31,
     "metadata": {},
     "output_type": "execute_result"
    }
   ],
   "source": [
    "dir(names)"
   ]
  },
  {
   "cell_type": "code",
   "execution_count": 33,
   "id": "23f93597-851b-4309-b852-9abb1680010d",
   "metadata": {},
   "outputs": [
    {
     "data": {
      "text/plain": [
       "dict_keys(['daniel', 'raphael', 'bashy'])"
      ]
     },
     "execution_count": 33,
     "metadata": {},
     "output_type": "execute_result"
    }
   ],
   "source": [
    "names.keys()"
   ]
  },
  {
   "cell_type": "code",
   "execution_count": 34,
   "id": "7fe916fe-0dee-4a0c-9b6a-1060ab7cd16a",
   "metadata": {},
   "outputs": [
    {
     "data": {
      "text/plain": [
       "dict_values([709, 304, 201])"
      ]
     },
     "execution_count": 34,
     "metadata": {},
     "output_type": "execute_result"
    }
   ],
   "source": [
    "names.values()"
   ]
  },
  {
   "cell_type": "code",
   "execution_count": 35,
   "id": "c3aed131-7921-45a5-a6f0-fc38767e532d",
   "metadata": {},
   "outputs": [
    {
     "data": {
      "text/plain": [
       "dict_items([('daniel', 709), ('raphael', 304), ('bashy', 201)])"
      ]
     },
     "execution_count": 35,
     "metadata": {},
     "output_type": "execute_result"
    }
   ],
   "source": [
    "names.items()"
   ]
  },
  {
   "cell_type": "code",
   "execution_count": 40,
   "id": "f35ea8a3-4b39-4941-8ef0-2bc9e80fe33d",
   "metadata": {},
   "outputs": [
    {
     "data": {
      "text/plain": [
       "{'daniel': 709, 'raphael': 304, 'bashy': 201}"
      ]
     },
     "execution_count": 40,
     "metadata": {},
     "output_type": "execute_result"
    }
   ],
   "source": [
    "names"
   ]
  },
  {
   "cell_type": "code",
   "execution_count": 41,
   "id": "ddd5d8d8-6fc1-4f3b-b123-ea069ccf0be9",
   "metadata": {},
   "outputs": [],
   "source": [
    "### update\n",
    "names.update({\"bola\":407})"
   ]
  },
  {
   "cell_type": "code",
   "execution_count": 42,
   "id": "be079aa8-0108-4003-a5a0-6eb75679b0e0",
   "metadata": {},
   "outputs": [
    {
     "data": {
      "text/plain": [
       "{'daniel': 709, 'raphael': 304, 'bashy': 201, 'bola': 407}"
      ]
     },
     "execution_count": 42,
     "metadata": {},
     "output_type": "execute_result"
    }
   ],
   "source": [
    "names"
   ]
  },
  {
   "cell_type": "code",
   "execution_count": 43,
   "id": "c6f076db-9379-4329-846c-8f6fcb3e9c1b",
   "metadata": {},
   "outputs": [],
   "source": [
    "names.update({\"timothy\":576,\"ajayi\":687})"
   ]
  },
  {
   "cell_type": "code",
   "execution_count": 44,
   "id": "6411334f-c110-41ab-afbb-051909a51536",
   "metadata": {},
   "outputs": [
    {
     "data": {
      "text/plain": [
       "{'daniel': 709,\n",
       " 'raphael': 304,\n",
       " 'bashy': 201,\n",
       " 'bola': 407,\n",
       " 'timothy': 576,\n",
       " 'ajayi': 687}"
      ]
     },
     "execution_count": 44,
     "metadata": {},
     "output_type": "execute_result"
    }
   ],
   "source": [
    "names"
   ]
  },
  {
   "cell_type": "code",
   "execution_count": 45,
   "id": "2c5174c5-124c-4d53-95b0-148efee6d1ea",
   "metadata": {},
   "outputs": [],
   "source": [
    "names.update({\"jide\":221})"
   ]
  },
  {
   "cell_type": "code",
   "execution_count": 46,
   "id": "ce816052-679b-4430-a024-66cd0ac86642",
   "metadata": {},
   "outputs": [
    {
     "data": {
      "text/plain": [
       "{'daniel': 709,\n",
       " 'raphael': 304,\n",
       " 'bashy': 201,\n",
       " 'bola': 407,\n",
       " 'timothy': 576,\n",
       " 'ajayi': 687,\n",
       " 'jide': 221}"
      ]
     },
     "execution_count": 46,
     "metadata": {},
     "output_type": "execute_result"
    }
   ],
   "source": [
    "names"
   ]
  },
  {
   "cell_type": "code",
   "execution_count": 47,
   "id": "3522dedb-ba26-4047-967d-47e7eba5bb79",
   "metadata": {},
   "outputs": [],
   "source": [
    "names.update({\"mary\":111})"
   ]
  },
  {
   "cell_type": "code",
   "execution_count": 48,
   "id": "c8dcf3cf-9960-4bd4-8251-e0a5a1ee7aa9",
   "metadata": {},
   "outputs": [
    {
     "data": {
      "text/plain": [
       "{'daniel': 709,\n",
       " 'raphael': 304,\n",
       " 'bashy': 201,\n",
       " 'bola': 407,\n",
       " 'timothy': 576,\n",
       " 'ajayi': 687,\n",
       " 'jide': 221,\n",
       " 'mary': 111}"
      ]
     },
     "execution_count": 48,
     "metadata": {},
     "output_type": "execute_result"
    }
   ],
   "source": [
    "names"
   ]
  },
  {
   "cell_type": "code",
   "execution_count": 49,
   "id": "fcbc1f1c-3708-4156-987a-2680e10928fe",
   "metadata": {},
   "outputs": [],
   "source": [
    "###popitem"
   ]
  },
  {
   "cell_type": "code",
   "execution_count": 50,
   "id": "9bb5e243-946e-4df8-9e3c-0195eb758162",
   "metadata": {},
   "outputs": [
    {
     "data": {
      "text/plain": [
       "('mary', 111)"
      ]
     },
     "execution_count": 50,
     "metadata": {},
     "output_type": "execute_result"
    }
   ],
   "source": [
    "names.popitem()"
   ]
  },
  {
   "cell_type": "code",
   "execution_count": 51,
   "id": "c7e473c2-3a94-4588-8c38-af5082cb135e",
   "metadata": {},
   "outputs": [
    {
     "data": {
      "text/plain": [
       "{'daniel': 709,\n",
       " 'raphael': 304,\n",
       " 'bashy': 201,\n",
       " 'bola': 407,\n",
       " 'timothy': 576,\n",
       " 'ajayi': 687,\n",
       " 'jide': 221}"
      ]
     },
     "execution_count": 51,
     "metadata": {},
     "output_type": "execute_result"
    }
   ],
   "source": [
    "names"
   ]
  },
  {
   "cell_type": "code",
   "execution_count": 52,
   "id": "fc3b22b1-211f-4397-ba10-1bbea499e4fd",
   "metadata": {},
   "outputs": [
    {
     "data": {
      "text/plain": [
       "('jide', 221)"
      ]
     },
     "execution_count": 52,
     "metadata": {},
     "output_type": "execute_result"
    }
   ],
   "source": [
    "names.popitem()"
   ]
  },
  {
   "cell_type": "code",
   "execution_count": 53,
   "id": "0d5fdd03-b9e8-4841-a065-1ecaa0ee8107",
   "metadata": {},
   "outputs": [
    {
     "data": {
      "text/plain": [
       "{'daniel': 709,\n",
       " 'raphael': 304,\n",
       " 'bashy': 201,\n",
       " 'bola': 407,\n",
       " 'timothy': 576,\n",
       " 'ajayi': 687}"
      ]
     },
     "execution_count": 53,
     "metadata": {},
     "output_type": "execute_result"
    }
   ],
   "source": [
    "names"
   ]
  },
  {
   "cell_type": "code",
   "execution_count": 54,
   "id": "b2e7a57d-e7e1-497f-a422-df14174062ad",
   "metadata": {},
   "outputs": [
    {
     "data": {
      "text/plain": [
       "201"
      ]
     },
     "execution_count": 54,
     "metadata": {},
     "output_type": "execute_result"
    }
   ],
   "source": [
    "### get\n",
    "\n",
    "names[\"bashy\"]"
   ]
  },
  {
   "cell_type": "code",
   "execution_count": 55,
   "id": "cc3d582a-de6b-4501-b74b-7ab5acab1b71",
   "metadata": {},
   "outputs": [
    {
     "ename": "KeyError",
     "evalue": "'dele'",
     "output_type": "error",
     "traceback": [
      "\u001b[1;31m---------------------------------------------------------------------------\u001b[0m",
      "\u001b[1;31mKeyError\u001b[0m                                  Traceback (most recent call last)",
      "Cell \u001b[1;32mIn[55], line 1\u001b[0m\n\u001b[1;32m----> 1\u001b[0m names[\u001b[38;5;124m\"\u001b[39m\u001b[38;5;124mdele\u001b[39m\u001b[38;5;124m\"\u001b[39m]\n",
      "\u001b[1;31mKeyError\u001b[0m: 'dele'"
     ]
    }
   ],
   "source": [
    "names[\"dele\"]"
   ]
  },
  {
   "cell_type": "code",
   "execution_count": 58,
   "id": "a587f812-650d-43eb-b7cb-0e5dde548109",
   "metadata": {},
   "outputs": [
    {
     "data": {
      "text/plain": [
       "'i can not find that name'"
      ]
     },
     "execution_count": 58,
     "metadata": {},
     "output_type": "execute_result"
    }
   ],
   "source": [
    "names.get(\"dele\",\"i can not find that name\")"
   ]
  },
  {
   "cell_type": "code",
   "execution_count": 61,
   "id": "e7794128-2f98-4d91-978c-d9edb50ff538",
   "metadata": {},
   "outputs": [
    {
     "data": {
      "text/plain": [
       "'name not found'"
      ]
     },
     "execution_count": 61,
     "metadata": {},
     "output_type": "execute_result"
    }
   ],
   "source": [
    "names.get(\"deji\",\"name not found\")"
   ]
  },
  {
   "cell_type": "code",
   "execution_count": 62,
   "id": "8dc32dc7-afbd-4737-90fd-8fa674772bd3",
   "metadata": {},
   "outputs": [],
   "source": [
    "### formating a string july 28."
   ]
  },
  {
   "cell_type": "code",
   "execution_count": 63,
   "id": "144a0c66-096b-421e-a1a2-82a32980701c",
   "metadata": {},
   "outputs": [],
   "source": [
    "name = \"deji\""
   ]
  },
  {
   "cell_type": "code",
   "execution_count": 66,
   "id": "a04f495a-7faf-44ab-a922-0c118b70bb53",
   "metadata": {},
   "outputs": [
    {
     "name": "stdout",
     "output_type": "stream",
     "text": [
      "deji is good\n"
     ]
    }
   ],
   "source": [
    "print(name,\"is good\")"
   ]
  },
  {
   "cell_type": "code",
   "execution_count": 67,
   "id": "e6a594ea-f72b-4178-957e-4a7079464a65",
   "metadata": {},
   "outputs": [],
   "source": [
    "### formatted string"
   ]
  },
  {
   "cell_type": "code",
   "execution_count": 69,
   "id": "9e9cd542-0ec1-4151-8d69-728b61f5fc22",
   "metadata": {},
   "outputs": [
    {
     "data": {
      "text/plain": [
       "'deji is good'"
      ]
     },
     "execution_count": 69,
     "metadata": {},
     "output_type": "execute_result"
    }
   ],
   "source": [
    "\"{} is good\".format(name)"
   ]
  },
  {
   "cell_type": "code",
   "execution_count": 79,
   "id": "a5dc6c12-31ed-451e-a2f4-4d28a52b3f89",
   "metadata": {},
   "outputs": [],
   "source": [
    "name2 = \"raphael\"\n",
    "\n",
    "gender = \"male\"\n",
    "\n",
    "name3 = \"tope\"\n",
    "\n",
    "gender1 = \"female\""
   ]
  },
  {
   "cell_type": "code",
   "execution_count": 80,
   "id": "436b5746-6c9d-418e-b338-9777d640128c",
   "metadata": {},
   "outputs": [
    {
     "data": {
      "text/plain": [
       "'raphael is a male '"
      ]
     },
     "execution_count": 80,
     "metadata": {},
     "output_type": "execute_result"
    }
   ],
   "source": [
    "\"{} is a {} \".format(name2,gender)"
   ]
  },
  {
   "cell_type": "code",
   "execution_count": 107,
   "id": "53ad4f6b-b046-423e-ad09-d3a830094802",
   "metadata": {},
   "outputs": [
    {
     "name": "stdout",
     "output_type": "stream",
     "text": [
      "raphael is a male\n",
      "dupe is a female\n"
     ]
    }
   ],
   "source": [
    "print(f\"{name2 } is a {gender}\")\n",
    "\n",
    "print(f\"{name3 } is a {gender1}\")"
   ]
  },
  {
   "cell_type": "code",
   "execution_count": 100,
   "id": "94da8174-1521-4167-bcf3-78fc512dd94e",
   "metadata": {},
   "outputs": [],
   "source": [
    "name3 = \"dupe\"\n",
    "\n",
    "gender1 = \"female\""
   ]
  },
  {
   "cell_type": "code",
   "execution_count": null,
   "id": "4016296e-41ca-4668-9d24-f572de823f7c",
   "metadata": {},
   "outputs": [],
   "source": []
  }
 ],
 "metadata": {
  "kernelspec": {
   "display_name": "Python 3 (ipykernel)",
   "language": "python",
   "name": "python3"
  },
  "language_info": {
   "codemirror_mode": {
    "name": "ipython",
    "version": 3
   },
   "file_extension": ".py",
   "mimetype": "text/x-python",
   "name": "python",
   "nbconvert_exporter": "python",
   "pygments_lexer": "ipython3",
   "version": "3.12.7"
  }
 },
 "nbformat": 4,
 "nbformat_minor": 5
}
