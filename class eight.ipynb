{
 "cells": [
  {
   "cell_type": "code",
   "execution_count": 1,
   "id": "fbe13489-eba5-42d1-aa6b-d02169d95899",
   "metadata": {},
   "outputs": [],
   "source": [
    "### elif , using logical operator with conditioner statement"
   ]
  },
  {
   "cell_type": "code",
   "execution_count": 4,
   "id": "b88676ab-58cd-4c03-9d2a-eb9c1b5d3211",
   "metadata": {},
   "outputs": [],
   "source": [
    "name = \"ojo\""
   ]
  },
  {
   "cell_type": "code",
   "execution_count": 5,
   "id": "040cc2d9-d50c-4ae2-967a-114a47bf93af",
   "metadata": {
    "collapsed": true,
    "jupyter": {
     "outputs_hidden": true
    },
    "scrolled": true
   },
   "outputs": [
    {
     "name": "stdout",
     "output_type": "stream",
     "text": [
      "ojo you are not employed\n"
     ]
    }
   ],
   "source": [
    "if name == \"daniel\":\n",
    "    print(name , \"you are employed\")\n",
    "\n",
    "else:\n",
    "    print(name,\"you are not employed\")"
   ]
  },
  {
   "cell_type": "markdown",
   "id": "016ed64f-154b-46c1-9b13-99996ccb391a",
   "metadata": {},
   "source": [
    "### elif "
   ]
  },
  {
   "cell_type": "code",
   "execution_count": 7,
   "id": "27957072-77f2-4974-95c7-036584c2488a",
   "metadata": {},
   "outputs": [
    {
     "name": "stdin",
     "output_type": "stream",
     "text": [
      "are you our worker :  no\n"
     ]
    },
    {
     "name": "stdout",
     "output_type": "stream",
     "text": [
      "you are not allow to come in\n"
     ]
    }
   ],
   "source": [
    "question = input(\"are you our worker : \")\n",
    "\n",
    "if question == \"yes\":\n",
    "    print(\"you are allow to come in\")\n",
    "\n",
    "else:\n",
    "    print(\"you are not allow to come in\")"
   ]
  },
  {
   "cell_type": "code",
   "execution_count": 11,
   "id": "ed9f3355-61d2-4b20-aae2-e83233605628",
   "metadata": {},
   "outputs": [
    {
     "name": "stdin",
     "output_type": "stream",
     "text": [
      "what is your name :  bashy\n"
     ]
    },
    {
     "name": "stdout",
     "output_type": "stream",
     "text": [
      "bashy you are allowed to come\n"
     ]
    }
   ],
   "source": [
    "name = input(\"what is your name : \")\n",
    "\n",
    "\n",
    "if name == \"raphael\":\n",
    "    print(name,\"you are allow to come in\")\n",
    "\n",
    "elif name == \"daniel\":\n",
    "    print(name,\"you are allowed to come in\")\n",
    "\n",
    "elif name == \"bashy\":\n",
    "    print(name,\"you are allowed to come\")\n",
    "\n",
    "else:\n",
    "    print(name,\"you are not allow to come in\")"
   ]
  },
  {
   "cell_type": "code",
   "execution_count": 16,
   "id": "eb96a752-8df0-4525-87b5-10391f471df8",
   "metadata": {},
   "outputs": [
    {
     "name": "stdin",
     "output_type": "stream",
     "text": [
      "what is your gender :  male\n"
     ]
    },
    {
     "name": "stdout",
     "output_type": "stream",
     "text": [
      "you are a male\n"
     ]
    }
   ],
   "source": [
    "gender = input(\"what is your gender : \") \n",
    "\n",
    "\n",
    "if gender == \"male\":\n",
    "    print(\"you are a male\")\n",
    "\n",
    "elif gender == \"female\":\n",
    "    print(\"you are a female\")\n",
    "\n",
    "elif gender == \"hermaphrodite\":\n",
    "    print(\"you are an hermaphrodite\")\n",
    "\n",
    "else:\n",
    "    print(\"you are neither of the three\")"
   ]
  },
  {
   "cell_type": "code",
   "execution_count": 13,
   "id": "4252999f-15c6-4f58-91d5-496dcd13ded9",
   "metadata": {},
   "outputs": [],
   "source": [
    "### combining logical operator with conditioner  or and not"
   ]
  },
  {
   "cell_type": "code",
   "execution_count": 26,
   "id": "9d644668-339b-4c00-8210-7cba8ee42d8b",
   "metadata": {},
   "outputs": [
    {
     "name": "stdin",
     "output_type": "stream",
     "text": [
      "what is your name :  raphael\n",
      "what is your gender :  female\n"
     ]
    },
    {
     "name": "stdout",
     "output_type": "stream",
     "text": [
      "user not identified\n"
     ]
    }
   ],
   "source": [
    "name = input(\"what is your name : \")\n",
    "\n",
    "gender = input(\"what is your gender : \")\n",
    "\n",
    "\n",
    "if (name == \"bashy\") and (gender == \"male\"):\n",
    "    print(\"your name is surely bashy\")\n",
    "\n",
    "elif (name == \"raphael\") and (gender == \"male\"):\n",
    "    print(\"your name is surely raphael\")\n",
    "\n",
    "elif (name == \"daniel\") and (gender == \"male\"):\n",
    "    print(\"your name is surely daniel\")\n",
    "\n",
    "else:\n",
    "    print(\"user not identified\")"
   ]
  },
  {
   "cell_type": "markdown",
   "id": "05860cea-e7c0-4d44-8107-184c8254ae67",
   "metadata": {},
   "source": [
    "## Assignment: Using or, not, and elif in Conditional Statements\n",
    "Objective:\n",
    "Create a Python program that uses a conditional statement including the logical operators or and not, and also uses elif.\n",
    "\n",
    "Instructions:\n",
    "\n",
    "Define at least two variables (e.g., age, is_registered, has_permission, etc.).\n",
    "\n",
    "Write an if...elif...else statement that:\n",
    "\n",
    "Uses the or operator.\n",
    "\n",
    "Uses the not operator.\n",
    "\n",
    "Based on the condition, print different messages."
   ]
  },
  {
   "cell_type": "code",
   "execution_count": null,
   "id": "f2e54eac-5649-45e6-9477-86a6999d3386",
   "metadata": {},
   "outputs": [],
   "source": []
  }
 ],
 "metadata": {
  "kernelspec": {
   "display_name": "Python 3 (ipykernel)",
   "language": "python",
   "name": "python3"
  },
  "language_info": {
   "codemirror_mode": {
    "name": "ipython",
    "version": 3
   },
   "file_extension": ".py",
   "mimetype": "text/x-python",
   "name": "python",
   "nbconvert_exporter": "python",
   "pygments_lexer": "ipython3",
   "version": "3.12.7"
  }
 },
 "nbformat": 4,
 "nbformat_minor": 5
}
