{
 "cells": [
  {
   "cell_type": "code",
   "execution_count": 1,
   "id": "8d391e1f-77bb-4ebd-b132-bca2f7cec2f9",
   "metadata": {},
   "outputs": [],
   "source": [
    "### how to work with file in python\n",
    "## open() , read() ,write() append()"
   ]
  },
  {
   "cell_type": "code",
   "execution_count": 14,
   "id": "83f1048f-e6ec-49fd-9993-aa141e17c3dc",
   "metadata": {},
   "outputs": [],
   "source": [
    "file = open(\"Textdata.txt\",mode=\"r\")"
   ]
  },
  {
   "cell_type": "code",
   "execution_count": 15,
   "id": "7d275e71-3e1b-4132-abdc-4ee2700d059d",
   "metadata": {},
   "outputs": [
    {
     "name": "stdout",
     "output_type": "stream",
     "text": [
      "i am coming \n",
      "i am going\n"
     ]
    }
   ],
   "source": [
    "print(file.read())"
   ]
  },
  {
   "cell_type": "code",
   "execution_count": 16,
   "id": "f0c0e39c-2e50-4fdd-8a50-8b4c8d88dfa6",
   "metadata": {},
   "outputs": [
    {
     "name": "stdout",
     "output_type": "stream",
     "text": [
      "\n"
     ]
    }
   ],
   "source": [
    "print(file.read())"
   ]
  },
  {
   "cell_type": "code",
   "execution_count": 17,
   "id": "885f099b-d69f-41e8-9d53-0ceba514166e",
   "metadata": {},
   "outputs": [
    {
     "data": {
      "text/plain": [
       "0"
      ]
     },
     "execution_count": 17,
     "metadata": {},
     "output_type": "execute_result"
    }
   ],
   "source": [
    "file.seek(0)"
   ]
  },
  {
   "cell_type": "code",
   "execution_count": 18,
   "id": "6afd344f-2911-42e6-9fa3-f3596e160a0b",
   "metadata": {},
   "outputs": [
    {
     "name": "stdout",
     "output_type": "stream",
     "text": [
      "i am coming \n",
      "i am going\n"
     ]
    }
   ],
   "source": [
    "print(file.read())"
   ]
  },
  {
   "cell_type": "code",
   "execution_count": 19,
   "id": "7ef7b3f4-3612-4805-97df-17857ffbe84d",
   "metadata": {},
   "outputs": [
    {
     "name": "stdout",
     "output_type": "stream",
     "text": [
      "\n"
     ]
    }
   ],
   "source": [
    "print(file.read())"
   ]
  },
  {
   "cell_type": "code",
   "execution_count": 20,
   "id": "6c6436fd-9463-466b-936c-8da1ad610527",
   "metadata": {},
   "outputs": [
    {
     "data": {
      "text/plain": [
       "0"
      ]
     },
     "execution_count": 20,
     "metadata": {},
     "output_type": "execute_result"
    }
   ],
   "source": [
    "file.seek(0)"
   ]
  },
  {
   "cell_type": "code",
   "execution_count": 21,
   "id": "47f8786f-91c2-46d9-a830-64a8006aacf0",
   "metadata": {},
   "outputs": [
    {
     "name": "stdout",
     "output_type": "stream",
     "text": [
      "i am coming \n",
      "i am going\n"
     ]
    }
   ],
   "source": [
    "print(file.read())"
   ]
  },
  {
   "cell_type": "code",
   "execution_count": 24,
   "id": "9c7c0604-bc88-499a-8112-8a39eb0c4554",
   "metadata": {},
   "outputs": [],
   "source": [
    "file.close()"
   ]
  },
  {
   "cell_type": "code",
   "execution_count": 22,
   "id": "2ed58895-429c-494b-96c0-89932e26691b",
   "metadata": {},
   "outputs": [],
   "source": [
    "file2 = open(\"Text2data.txt\",mode=\"w\")"
   ]
  },
  {
   "cell_type": "code",
   "execution_count": 23,
   "id": "72b0e4af-e6cd-4da2-aa1b-b3afdf058494",
   "metadata": {},
   "outputs": [
    {
     "data": {
      "text/plain": [
       "29"
      ]
     },
     "execution_count": 23,
     "metadata": {},
     "output_type": "execute_result"
    }
   ],
   "source": [
    "file2.write(\"i am a boy \\n i am a good girl\")"
   ]
  },
  {
   "cell_type": "code",
   "execution_count": 25,
   "id": "98def70e-26b4-4c57-a406-68930798a1da",
   "metadata": {},
   "outputs": [],
   "source": [
    "file2.close()"
   ]
  },
  {
   "cell_type": "code",
   "execution_count": 26,
   "id": "c880d2a1-0452-4a82-8234-58878b59e2b8",
   "metadata": {},
   "outputs": [],
   "source": [
    "### issue with write"
   ]
  },
  {
   "cell_type": "code",
   "execution_count": 31,
   "id": "44076142-178d-4c27-b8dc-e1eb43fba44b",
   "metadata": {},
   "outputs": [],
   "source": [
    "file3 = open(\"Textdata.txt\",mode=\"w\")"
   ]
  },
  {
   "cell_type": "code",
   "execution_count": 32,
   "id": "491e9c2a-b152-4c69-a89c-9dce39d90ba2",
   "metadata": {},
   "outputs": [],
   "source": [
    "file3.close()"
   ]
  },
  {
   "cell_type": "code",
   "execution_count": 33,
   "id": "b762f877-cd76-4dc2-bdb6-d53362f2ebd0",
   "metadata": {},
   "outputs": [],
   "source": [
    "file4 = open(\"Textdata.txt\",mode=\"r\")"
   ]
  },
  {
   "cell_type": "code",
   "execution_count": 34,
   "id": "0b84baeb-24d6-4d92-9145-32032a5c6ebe",
   "metadata": {},
   "outputs": [
    {
     "data": {
      "text/plain": [
       "''"
      ]
     },
     "execution_count": 34,
     "metadata": {},
     "output_type": "execute_result"
    }
   ],
   "source": [
    "file4.read()"
   ]
  },
  {
   "cell_type": "code",
   "execution_count": 35,
   "id": "170f82a6-e452-411d-8c76-79fb81d775bb",
   "metadata": {},
   "outputs": [],
   "source": [
    "file4.close()"
   ]
  },
  {
   "cell_type": "code",
   "execution_count": 40,
   "id": "c8338819-2bb6-4627-9914-9f89d753b3a8",
   "metadata": {},
   "outputs": [],
   "source": [
    "### append"
   ]
  },
  {
   "cell_type": "code",
   "execution_count": 42,
   "id": "f646dd02-8013-44c0-9eb5-61c3b26e4599",
   "metadata": {},
   "outputs": [],
   "source": [
    "file5 = open(\"Text2data.txt\",mode=\"a\")"
   ]
  },
  {
   "cell_type": "code",
   "execution_count": 44,
   "id": "c67ab4b1-3f78-4d1f-a450-57fb9b03076e",
   "metadata": {},
   "outputs": [
    {
     "data": {
      "text/plain": [
       "32"
      ]
     },
     "execution_count": 44,
     "metadata": {},
     "output_type": "execute_result"
    }
   ],
   "source": [
    "file5.write(\"i am a man and i am a good woman\")"
   ]
  },
  {
   "cell_type": "code",
   "execution_count": 45,
   "id": "2d0872f0-45ca-49a2-ae66-6249558f5b4e",
   "metadata": {},
   "outputs": [],
   "source": [
    "file5.close()"
   ]
  },
  {
   "cell_type": "code",
   "execution_count": 46,
   "id": "a1c3a561-3f78-4e4e-93f3-c5894232a6e9",
   "metadata": {},
   "outputs": [],
   "source": [
    "file6 = open(\"Text2data.txt\",mode=\"r\")"
   ]
  },
  {
   "cell_type": "code",
   "execution_count": 47,
   "id": "80d697d1-c0ae-40ab-b3d5-de71357cb981",
   "metadata": {},
   "outputs": [
    {
     "data": {
      "text/plain": [
       "'i am a boy \\n i am a good girli am a man and i am a good woman'"
      ]
     },
     "execution_count": 47,
     "metadata": {},
     "output_type": "execute_result"
    }
   ],
   "source": [
    "file6.read()"
   ]
  },
  {
   "cell_type": "code",
   "execution_count": 48,
   "id": "e0652b69-eb5c-4623-93a7-66bedd322807",
   "metadata": {},
   "outputs": [],
   "source": [
    "### module"
   ]
  },
  {
   "cell_type": "code",
   "execution_count": null,
   "id": "1a340881-3878-46de-b9ab-0051e953a911",
   "metadata": {},
   "outputs": [],
   "source": []
  }
 ],
 "metadata": {
  "kernelspec": {
   "display_name": "Python 3 (ipykernel)",
   "language": "python",
   "name": "python3"
  },
  "language_info": {
   "codemirror_mode": {
    "name": "ipython",
    "version": 3
   },
   "file_extension": ".py",
   "mimetype": "text/x-python",
   "name": "python",
   "nbconvert_exporter": "python",
   "pygments_lexer": "ipython3",
   "version": "3.12.7"
  }
 },
 "nbformat": 4,
 "nbformat_minor": 5
}
