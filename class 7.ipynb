{
 "cells": [
  {
   "cell_type": "code",
   "execution_count": 1,
   "id": "8abd7f6f-3488-423c-b422-b51d58928acb",
   "metadata": {},
   "outputs": [],
   "source": [
    "### logical operator and conditioner statement "
   ]
  },
  {
   "cell_type": "code",
   "execution_count": 2,
   "id": "395aa2eb-689b-4bc7-8034-25b9e551b76f",
   "metadata": {},
   "outputs": [],
   "source": [
    "x = 4\n",
    "y = 5"
   ]
  },
  {
   "cell_type": "code",
   "execution_count": 3,
   "id": "8768684f-209a-408f-8e66-636b2cc2e76f",
   "metadata": {},
   "outputs": [
    {
     "data": {
      "text/plain": [
       "False"
      ]
     },
     "execution_count": 3,
     "metadata": {},
     "output_type": "execute_result"
    }
   ],
   "source": [
    "x > y"
   ]
  },
  {
   "cell_type": "code",
   "execution_count": 5,
   "id": "e5b26dc8-cdc0-4dc1-8ffb-fad41801c962",
   "metadata": {},
   "outputs": [],
   "source": [
    "## and , or , negation (not)"
   ]
  },
  {
   "cell_type": "code",
   "execution_count": 9,
   "id": "e506120d-54e3-404f-8b47-3800a5fdeb3e",
   "metadata": {},
   "outputs": [],
   "source": [
    "name = \"daniel\"\n",
    "\n",
    "gender = \"male\""
   ]
  },
  {
   "cell_type": "code",
   "execution_count": 8,
   "id": "a3be979a-6d10-4273-897a-761f957e388e",
   "metadata": {},
   "outputs": [
    {
     "data": {
      "text/plain": [
       "True"
      ]
     },
     "execution_count": 8,
     "metadata": {},
     "output_type": "execute_result"
    }
   ],
   "source": [
    "(name == \"daniel\")"
   ]
  },
  {
   "cell_type": "code",
   "execution_count": 11,
   "id": "8eefafc0-3702-478d-93d3-3f923e9b66e7",
   "metadata": {},
   "outputs": [
    {
     "data": {
      "text/plain": [
       "True"
      ]
     },
     "execution_count": 11,
     "metadata": {},
     "output_type": "execute_result"
    }
   ],
   "source": [
    "(gender == \"male\")"
   ]
  },
  {
   "cell_type": "markdown",
   "id": "dc56f82d-3962-471a-9b30-a440b511959f",
   "metadata": {},
   "source": [
    "## and"
   ]
  },
  {
   "cell_type": "code",
   "execution_count": 12,
   "id": "3274583a-4849-4fa4-b66a-38a2576ef3a2",
   "metadata": {},
   "outputs": [
    {
     "data": {
      "text/plain": [
       "True"
      ]
     },
     "execution_count": 12,
     "metadata": {},
     "output_type": "execute_result"
    }
   ],
   "source": [
    "(name == \"daniel\") and (gender == \"male\")"
   ]
  },
  {
   "cell_type": "code",
   "execution_count": 13,
   "id": "cee4f82b-4e30-46fb-9bd5-80e559d74404",
   "metadata": {},
   "outputs": [
    {
     "data": {
      "text/plain": [
       "False"
      ]
     },
     "execution_count": 13,
     "metadata": {},
     "output_type": "execute_result"
    }
   ],
   "source": [
    "(name == \"deji\") and (gender == \"male\")"
   ]
  },
  {
   "cell_type": "markdown",
   "id": "1c3ce435-3997-4076-8380-029f17e109ad",
   "metadata": {},
   "source": [
    "## or"
   ]
  },
  {
   "cell_type": "code",
   "execution_count": 14,
   "id": "44867067-5717-47ac-a317-298fb062efe3",
   "metadata": {},
   "outputs": [
    {
     "data": {
      "text/plain": [
       "False"
      ]
     },
     "execution_count": 14,
     "metadata": {},
     "output_type": "execute_result"
    }
   ],
   "source": [
    "(name == \"tope\") or (gender == \"female\")"
   ]
  },
  {
   "cell_type": "code",
   "execution_count": 15,
   "id": "9297c024-267d-4d90-9f89-f1f4c7b46961",
   "metadata": {},
   "outputs": [
    {
     "data": {
      "text/plain": [
       "True"
      ]
     },
     "execution_count": 15,
     "metadata": {},
     "output_type": "execute_result"
    }
   ],
   "source": [
    "(name == \"tope\") or (gender == \"male\")"
   ]
  },
  {
   "cell_type": "code",
   "execution_count": 16,
   "id": "c6fbe287-9124-40d6-953f-12ae9c4040fd",
   "metadata": {},
   "outputs": [
    {
     "data": {
      "text/plain": [
       "True"
      ]
     },
     "execution_count": 16,
     "metadata": {},
     "output_type": "execute_result"
    }
   ],
   "source": [
    "(name == \"daniel\") or (gender == \"male\")"
   ]
  },
  {
   "cell_type": "markdown",
   "id": "9e713626-27c2-48ad-b8e7-586ba4463182",
   "metadata": {},
   "source": [
    "## not"
   ]
  },
  {
   "cell_type": "code",
   "execution_count": 17,
   "id": "43f64c84-444e-4444-8333-b2f56fb63c2b",
   "metadata": {},
   "outputs": [],
   "source": [
    "boy = True"
   ]
  },
  {
   "cell_type": "code",
   "execution_count": 19,
   "id": "0cbb12ff-ff77-49bb-a00b-afa9a41c3e91",
   "metadata": {},
   "outputs": [
    {
     "data": {
      "text/plain": [
       "False"
      ]
     },
     "execution_count": 19,
     "metadata": {},
     "output_type": "execute_result"
    }
   ],
   "source": [
    "not boy"
   ]
  },
  {
   "cell_type": "code",
   "execution_count": 25,
   "id": "f5622f6e-0067-4dcc-849d-34d7d8855fb0",
   "metadata": {},
   "outputs": [
    {
     "data": {
      "text/plain": [
       "False"
      ]
     },
     "execution_count": 25,
     "metadata": {},
     "output_type": "execute_result"
    }
   ],
   "source": [
    "(name == \"daniel\") and not (gender == \"male\") ## false"
   ]
  },
  {
   "cell_type": "code",
   "execution_count": 28,
   "id": "df918768-4a62-4b0d-82ea-6d659b0f1ed0",
   "metadata": {},
   "outputs": [
    {
     "data": {
      "text/plain": [
       "False"
      ]
     },
     "execution_count": 28,
     "metadata": {},
     "output_type": "execute_result"
    }
   ],
   "source": [
    "True and False"
   ]
  },
  {
   "cell_type": "code",
   "execution_count": 27,
   "id": "ab4c3152-1ed6-40bf-bf23-ec568425e6a9",
   "metadata": {},
   "outputs": [
    {
     "data": {
      "text/plain": [
       "True"
      ]
     },
     "execution_count": 27,
     "metadata": {},
     "output_type": "execute_result"
    }
   ],
   "source": [
    "(name == \"daniel\") and not (gender == \"female\") ### we dont want the gender to be female"
   ]
  },
  {
   "cell_type": "code",
   "execution_count": 26,
   "id": "b3045601-8535-4fc9-a2a9-d41330bf77e0",
   "metadata": {},
   "outputs": [
    {
     "data": {
      "text/plain": [
       "True"
      ]
     },
     "execution_count": 26,
     "metadata": {},
     "output_type": "execute_result"
    }
   ],
   "source": [
    "True and True"
   ]
  },
  {
   "cell_type": "markdown",
   "id": "e84f4139-3dcd-4bb0-b7cf-6ddf1fa30643",
   "metadata": {},
   "source": [
    "### conditioner statement "
   ]
  },
  {
   "cell_type": "code",
   "execution_count": 30,
   "id": "9c154a1a-4795-4bae-a0b2-cf7f54300244",
   "metadata": {},
   "outputs": [],
   "source": [
    "### if , else , elif"
   ]
  },
  {
   "cell_type": "code",
   "execution_count": 37,
   "id": "1227d09d-4720-4ea1-862b-c765f84cee93",
   "metadata": {},
   "outputs": [],
   "source": [
    "name = \"bayo\"\n",
    "\n",
    "gender = \"male\""
   ]
  },
  {
   "cell_type": "code",
   "execution_count": 38,
   "id": "e0bf0b4c-b69c-4542-b80b-128d5d0fcee3",
   "metadata": {},
   "outputs": [
    {
     "name": "stdout",
     "output_type": "stream",
     "text": [
      "employed\n"
     ]
    }
   ],
   "source": [
    "if name == \"bayo\":\n",
    "    print(\"employed\")\n",
    "\n",
    "else:\n",
    "    print(\"not employed\")"
   ]
  },
  {
   "cell_type": "code",
   "execution_count": 39,
   "id": "9998f4de-e489-4b4d-90af-6749d93a873e",
   "metadata": {},
   "outputs": [
    {
     "name": "stdout",
     "output_type": "stream",
     "text": [
      "not employed\n"
     ]
    }
   ],
   "source": [
    "if gender == \"female\":\n",
    "    print(\"employed\")\n",
    "\n",
    "else:\n",
    "    print(\"not employed\")"
   ]
  },
  {
   "cell_type": "code",
   "execution_count": 40,
   "id": "88131fd5-d6c5-411f-a315-7b54bd519b0f",
   "metadata": {},
   "outputs": [
    {
     "name": "stdin",
     "output_type": "stream",
     "text": [
      "what is your name :  dayo\n"
     ]
    },
    {
     "name": "stdout",
     "output_type": "stream",
     "text": [
      "dayo you are not employed\n"
     ]
    }
   ],
   "source": [
    "name3 = input(\"what is your name : \")\n",
    "\n",
    "if name3 == \"ade\":\n",
    "    print(name3,\"you are employed\")\n",
    "\n",
    "else:\n",
    "    print(name3,\"you are not employed\")"
   ]
  },
  {
   "cell_type": "code",
   "execution_count": 41,
   "id": "5dd57c23-223b-4fee-8a5e-9e0798554179",
   "metadata": {},
   "outputs": [],
   "source": [
    "### elif , combined the logical operator with conditioner statement "
   ]
  },
  {
   "cell_type": "code",
   "execution_count": null,
   "id": "c3ca6602-40c4-454c-be7c-462debc9a088",
   "metadata": {},
   "outputs": [],
   "source": []
  }
 ],
 "metadata": {
  "kernelspec": {
   "display_name": "Python 3 (ipykernel)",
   "language": "python",
   "name": "python3"
  },
  "language_info": {
   "codemirror_mode": {
    "name": "ipython",
    "version": 3
   },
   "file_extension": ".py",
   "mimetype": "text/x-python",
   "name": "python",
   "nbconvert_exporter": "python",
   "pygments_lexer": "ipython3",
   "version": "3.12.7"
  }
 },
 "nbformat": 4,
 "nbformat_minor": 5
}
