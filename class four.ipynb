{
 "cells": [
  {
   "cell_type": "code",
   "execution_count": null,
   "id": "e434a50a-4a82-4f29-a672-8d6059b674d2",
   "metadata": {},
   "outputs": [],
   "source": [
    "### variablename , data type [ string ,int , float ,list, set, tuples]"
   ]
  },
  {
   "cell_type": "code",
   "execution_count": 8,
   "id": "2dbf55a6-289a-4f86-82e0-7c0e059fa864",
   "metadata": {},
   "outputs": [
    {
     "data": {
      "text/plain": [
       "'deji ayo'"
      ]
     },
     "execution_count": 8,
     "metadata": {},
     "output_type": "execute_result"
    }
   ],
   "source": [
    "name = 'deji' + ' ' + 'ayo'\n",
    "name"
   ]
  },
  {
   "cell_type": "code",
   "execution_count": 9,
   "id": "a5587c9a-4d11-453c-a1e8-a82f02382ba2",
   "metadata": {},
   "outputs": [
    {
     "data": {
      "text/plain": [
       "'deji ayo michael'"
      ]
     },
     "execution_count": 9,
     "metadata": {},
     "output_type": "execute_result"
    }
   ],
   "source": [
    "name + ' ' + 'michael'"
   ]
  },
  {
   "cell_type": "code",
   "execution_count": 22,
   "id": "87f7a80a-fe7c-4c06-989f-ed5860692858",
   "metadata": {},
   "outputs": [],
   "source": [
    "firstname = 'daniel'\n",
    "\n",
    "lastname = \"DEJI\"\n",
    "\n",
    "secondname = \"Deji\""
   ]
  },
  {
   "cell_type": "code",
   "execution_count": 13,
   "id": "9758563e-5365-45a5-a000-ad6ab618c374",
   "metadata": {},
   "outputs": [],
   "source": [
    "### method associated with string"
   ]
  },
  {
   "cell_type": "code",
   "execution_count": 14,
   "id": "5a956e20-b110-4254-b02c-2cc33902b799",
   "metadata": {},
   "outputs": [
    {
     "data": {
      "text/plain": [
       "'daniel'"
      ]
     },
     "execution_count": 14,
     "metadata": {},
     "output_type": "execute_result"
    }
   ],
   "source": [
    "firstname"
   ]
  },
  {
   "cell_type": "code",
   "execution_count": 15,
   "id": "4ba5228f-666a-4c96-9860-1bf6aafd5e38",
   "metadata": {},
   "outputs": [
    {
     "data": {
      "text/plain": [
       "['__add__',\n",
       " '__class__',\n",
       " '__contains__',\n",
       " '__delattr__',\n",
       " '__dir__',\n",
       " '__doc__',\n",
       " '__eq__',\n",
       " '__format__',\n",
       " '__ge__',\n",
       " '__getattribute__',\n",
       " '__getitem__',\n",
       " '__getnewargs__',\n",
       " '__getstate__',\n",
       " '__gt__',\n",
       " '__hash__',\n",
       " '__init__',\n",
       " '__init_subclass__',\n",
       " '__iter__',\n",
       " '__le__',\n",
       " '__len__',\n",
       " '__lt__',\n",
       " '__mod__',\n",
       " '__mul__',\n",
       " '__ne__',\n",
       " '__new__',\n",
       " '__reduce__',\n",
       " '__reduce_ex__',\n",
       " '__repr__',\n",
       " '__rmod__',\n",
       " '__rmul__',\n",
       " '__setattr__',\n",
       " '__sizeof__',\n",
       " '__str__',\n",
       " '__subclasshook__',\n",
       " 'capitalize',\n",
       " 'casefold',\n",
       " 'center',\n",
       " 'count',\n",
       " 'encode',\n",
       " 'endswith',\n",
       " 'expandtabs',\n",
       " 'find',\n",
       " 'format',\n",
       " 'format_map',\n",
       " 'index',\n",
       " 'isalnum',\n",
       " 'isalpha',\n",
       " 'isascii',\n",
       " 'isdecimal',\n",
       " 'isdigit',\n",
       " 'isidentifier',\n",
       " 'islower',\n",
       " 'isnumeric',\n",
       " 'isprintable',\n",
       " 'isspace',\n",
       " 'istitle',\n",
       " 'isupper',\n",
       " 'join',\n",
       " 'ljust',\n",
       " 'lower',\n",
       " 'lstrip',\n",
       " 'maketrans',\n",
       " 'partition',\n",
       " 'removeprefix',\n",
       " 'removesuffix',\n",
       " 'replace',\n",
       " 'rfind',\n",
       " 'rindex',\n",
       " 'rjust',\n",
       " 'rpartition',\n",
       " 'rsplit',\n",
       " 'rstrip',\n",
       " 'split',\n",
       " 'splitlines',\n",
       " 'startswith',\n",
       " 'strip',\n",
       " 'swapcase',\n",
       " 'title',\n",
       " 'translate',\n",
       " 'upper',\n",
       " 'zfill']"
      ]
     },
     "execution_count": 15,
     "metadata": {},
     "output_type": "execute_result"
    }
   ],
   "source": [
    "dir(\"paul\")"
   ]
  },
  {
   "cell_type": "code",
   "execution_count": 16,
   "id": "ac0e3ad1-60f2-4a4a-94e1-bd1ccc86fbd5",
   "metadata": {},
   "outputs": [
    {
     "data": {
      "text/plain": [
       "['__add__',\n",
       " '__class__',\n",
       " '__contains__',\n",
       " '__delattr__',\n",
       " '__dir__',\n",
       " '__doc__',\n",
       " '__eq__',\n",
       " '__format__',\n",
       " '__ge__',\n",
       " '__getattribute__',\n",
       " '__getitem__',\n",
       " '__getnewargs__',\n",
       " '__getstate__',\n",
       " '__gt__',\n",
       " '__hash__',\n",
       " '__init__',\n",
       " '__init_subclass__',\n",
       " '__iter__',\n",
       " '__le__',\n",
       " '__len__',\n",
       " '__lt__',\n",
       " '__mod__',\n",
       " '__mul__',\n",
       " '__ne__',\n",
       " '__new__',\n",
       " '__reduce__',\n",
       " '__reduce_ex__',\n",
       " '__repr__',\n",
       " '__rmod__',\n",
       " '__rmul__',\n",
       " '__setattr__',\n",
       " '__sizeof__',\n",
       " '__str__',\n",
       " '__subclasshook__',\n",
       " 'capitalize',\n",
       " 'casefold',\n",
       " 'center',\n",
       " 'count',\n",
       " 'encode',\n",
       " 'endswith',\n",
       " 'expandtabs',\n",
       " 'find',\n",
       " 'format',\n",
       " 'format_map',\n",
       " 'index',\n",
       " 'isalnum',\n",
       " 'isalpha',\n",
       " 'isascii',\n",
       " 'isdecimal',\n",
       " 'isdigit',\n",
       " 'isidentifier',\n",
       " 'islower',\n",
       " 'isnumeric',\n",
       " 'isprintable',\n",
       " 'isspace',\n",
       " 'istitle',\n",
       " 'isupper',\n",
       " 'join',\n",
       " 'ljust',\n",
       " 'lower',\n",
       " 'lstrip',\n",
       " 'maketrans',\n",
       " 'partition',\n",
       " 'removeprefix',\n",
       " 'removesuffix',\n",
       " 'replace',\n",
       " 'rfind',\n",
       " 'rindex',\n",
       " 'rjust',\n",
       " 'rpartition',\n",
       " 'rsplit',\n",
       " 'rstrip',\n",
       " 'split',\n",
       " 'splitlines',\n",
       " 'startswith',\n",
       " 'strip',\n",
       " 'swapcase',\n",
       " 'title',\n",
       " 'translate',\n",
       " 'upper',\n",
       " 'zfill']"
      ]
     },
     "execution_count": 16,
     "metadata": {},
     "output_type": "execute_result"
    }
   ],
   "source": [
    "dir(firstname)"
   ]
  },
  {
   "cell_type": "code",
   "execution_count": 19,
   "id": "33d13d4c-b96a-467c-8d21-6e50e01de9a1",
   "metadata": {},
   "outputs": [
    {
     "data": {
      "text/plain": [
       "'DANIEL'"
      ]
     },
     "execution_count": 19,
     "metadata": {},
     "output_type": "execute_result"
    }
   ],
   "source": [
    "new_firstname = firstname.upper()\n",
    "new_firstname"
   ]
  },
  {
   "cell_type": "code",
   "execution_count": 26,
   "id": "318f0502-474b-4cc3-88a8-ed7b38187ea7",
   "metadata": {},
   "outputs": [
    {
     "data": {
      "text/plain": [
       "'deji'"
      ]
     },
     "execution_count": 26,
     "metadata": {},
     "output_type": "execute_result"
    }
   ],
   "source": [
    "new_lastname = lastname.lower()\n",
    "new_lastname"
   ]
  },
  {
   "cell_type": "code",
   "execution_count": 29,
   "id": "732d0a4b-73a7-46f7-9e80-9766fc6fd2c0",
   "metadata": {},
   "outputs": [
    {
     "data": {
      "text/plain": [
       "'DEJI'"
      ]
     },
     "execution_count": 29,
     "metadata": {},
     "output_type": "execute_result"
    }
   ],
   "source": [
    "new_secondname = secondname.upper()\n",
    "new_secondname"
   ]
  },
  {
   "cell_type": "code",
   "execution_count": 30,
   "id": "3328fa40-2477-4cfc-8793-98516717e8ab",
   "metadata": {},
   "outputs": [],
   "source": [
    "name1 = \" deji\"\n",
    "\n",
    "name2 = \"daniel \"\n",
    "\n",
    "name3 = \" ayo \""
   ]
  },
  {
   "cell_type": "code",
   "execution_count": 32,
   "id": "a585fedf-2f04-4aea-b299-0a8d139427ca",
   "metadata": {},
   "outputs": [
    {
     "data": {
      "text/plain": [
       "'deji'"
      ]
     },
     "execution_count": 32,
     "metadata": {},
     "output_type": "execute_result"
    }
   ],
   "source": [
    "new_name1 = name1.lstrip()\n",
    "new_name1"
   ]
  },
  {
   "cell_type": "code",
   "execution_count": 34,
   "id": "cb3960b6-7773-43ea-a65c-74f035da5ae9",
   "metadata": {},
   "outputs": [
    {
     "name": "stdout",
     "output_type": "stream",
     "text": [
      "daniel\n"
     ]
    }
   ],
   "source": [
    "new_name2 = name2.rstrip()\n",
    "print(new_name2)"
   ]
  },
  {
   "cell_type": "code",
   "execution_count": 39,
   "id": "bcd44d7c-3d5f-4235-8496-e62f494b5e62",
   "metadata": {},
   "outputs": [
    {
     "data": {
      "text/plain": [
       "'ayo'"
      ]
     },
     "execution_count": 39,
     "metadata": {},
     "output_type": "execute_result"
    }
   ],
   "source": [
    "new_name3 = name3.lstrip().rstrip()\n",
    "new_name3"
   ]
  },
  {
   "cell_type": "code",
   "execution_count": 42,
   "id": "aa26df9b-2982-4649-adf3-d9a80c9ff928",
   "metadata": {},
   "outputs": [
    {
     "name": "stdout",
     "output_type": "stream",
     "text": [
      "ayo\n"
     ]
    }
   ],
   "source": [
    "new_name3_2 = name3.strip()\n",
    "print(new_name3_2)"
   ]
  },
  {
   "cell_type": "code",
   "execution_count": 43,
   "id": "6d3a6173-f4dc-467d-9713-7ef5395264e9",
   "metadata": {},
   "outputs": [],
   "source": [
    "name = \"ade\""
   ]
  },
  {
   "cell_type": "code",
   "execution_count": 45,
   "id": "4de41d08-6f0a-4d3a-9713-f94308a84626",
   "metadata": {},
   "outputs": [
    {
     "data": {
      "text/plain": [
       "True"
      ]
     },
     "execution_count": 45,
     "metadata": {},
     "output_type": "execute_result"
    }
   ],
   "source": [
    "name.startswith(\"a\")"
   ]
  },
  {
   "cell_type": "code",
   "execution_count": 46,
   "id": "00a7b211-fe84-4ddd-b446-a0bf49bbfb65",
   "metadata": {},
   "outputs": [
    {
     "data": {
      "text/plain": [
       "False"
      ]
     },
     "execution_count": 46,
     "metadata": {},
     "output_type": "execute_result"
    }
   ],
   "source": [
    "name.startswith(\"b\")"
   ]
  },
  {
   "cell_type": "code",
   "execution_count": 47,
   "id": "aa42e409-2be0-41a4-8897-75c1d3a76c83",
   "metadata": {},
   "outputs": [],
   "source": [
    "### True and false is called boolean"
   ]
  },
  {
   "cell_type": "code",
   "execution_count": 48,
   "id": "5f27082e-ffa5-4cf8-a2c0-2370f707d157",
   "metadata": {},
   "outputs": [
    {
     "data": {
      "text/plain": [
       "True"
      ]
     },
     "execution_count": 48,
     "metadata": {},
     "output_type": "execute_result"
    }
   ],
   "source": [
    "name.endswith(\"e\")"
   ]
  },
  {
   "cell_type": "code",
   "execution_count": 49,
   "id": "4d1860b5-eb59-47f8-b568-1d717b714456",
   "metadata": {},
   "outputs": [
    {
     "data": {
      "text/plain": [
       "True"
      ]
     },
     "execution_count": 49,
     "metadata": {},
     "output_type": "execute_result"
    }
   ],
   "source": [
    "name.endswith(\"de\")"
   ]
  },
  {
   "cell_type": "code",
   "execution_count": null,
   "id": "aa678d8d-9743-49d7-b08f-c9b8f3337b97",
   "metadata": {},
   "outputs": [],
   "source": []
  }
 ],
 "metadata": {
  "kernelspec": {
   "display_name": "Python 3 (ipykernel)",
   "language": "python",
   "name": "python3"
  },
  "language_info": {
   "codemirror_mode": {
    "name": "ipython",
    "version": 3
   },
   "file_extension": ".py",
   "mimetype": "text/x-python",
   "name": "python",
   "nbconvert_exporter": "python",
   "pygments_lexer": "ipython3",
   "version": "3.12.7"
  }
 },
 "nbformat": 4,
 "nbformat_minor": 5
}
