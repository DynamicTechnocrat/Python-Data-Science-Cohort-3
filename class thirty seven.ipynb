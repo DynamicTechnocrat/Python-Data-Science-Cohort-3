{
 "cells": [
  {
   "cell_type": "code",
   "execution_count": 1,
   "id": "9a23444a-93c2-4717-844d-042740f64312",
   "metadata": {},
   "outputs": [],
   "source": [
    "### object oriented programming"
   ]
  },
  {
   "cell_type": "code",
   "execution_count": 2,
   "id": "5a4bd729-fbe9-4c63-9755-3bb69da708ca",
   "metadata": {},
   "outputs": [],
   "source": [
    "### what is oop"
   ]
  },
  {
   "cell_type": "code",
   "execution_count": 3,
   "id": "eb1e43b4-eb1d-49ac-be96-f38afb68c0a6",
   "metadata": {},
   "outputs": [],
   "source": [
    "# ## template >>>> cain(inherit all the attribute from the  template)(object)  ### attribute like ear , nose , abel (inherit all the attribute from the  template)(object)  ### attribute like ear , nose ,\n",
    "# adam (class) >>> cain(jump , run , eat ) function , jump eat , run ### abel\n",
    "an object is a instance of a class\n",
    "a class is a blueprint for creating an object"
   ]
  },
  {
   "cell_type": "code",
   "execution_count": 4,
   "id": "fe5260fa-ece7-49fd-91ef-e3685984f2ad",
   "metadata": {},
   "outputs": [],
   "source": [
    "name = \"deji\" ## creating object ."
   ]
  },
  {
   "cell_type": "code",
   "execution_count": 5,
   "id": "845d73d0-3d87-405f-b3d6-b62a98b7d76e",
   "metadata": {},
   "outputs": [
    {
     "data": {
      "text/plain": [
       "'deji'"
      ]
     },
     "execution_count": 5,
     "metadata": {},
     "output_type": "execute_result"
    }
   ],
   "source": [
    "name"
   ]
  },
  {
   "cell_type": "code",
   "execution_count": 8,
   "id": "ee492473-a2f9-487a-9b56-3a0296c0bb67",
   "metadata": {},
   "outputs": [],
   "source": [
    "name1 = str(\"ayo\") ##object"
   ]
  },
  {
   "cell_type": "code",
   "execution_count": 12,
   "id": "09ad1168-9530-4395-9973-5e2c3bc971e5",
   "metadata": {},
   "outputs": [
    {
     "name": "stdout",
     "output_type": "stream",
     "text": [
      "<class 'str'>\n"
     ]
    }
   ],
   "source": [
    "print(type(name1))"
   ]
  },
  {
   "cell_type": "code",
   "execution_count": 10,
   "id": "fb055e90-a4c8-4d6b-989a-10e2dfac609c",
   "metadata": {},
   "outputs": [
    {
     "data": {
      "text/plain": [
       "['__add__',\n",
       " '__class__',\n",
       " '__contains__',\n",
       " '__delattr__',\n",
       " '__dir__',\n",
       " '__doc__',\n",
       " '__eq__',\n",
       " '__format__',\n",
       " '__ge__',\n",
       " '__getattribute__',\n",
       " '__getitem__',\n",
       " '__getnewargs__',\n",
       " '__getstate__',\n",
       " '__gt__',\n",
       " '__hash__',\n",
       " '__init__',\n",
       " '__init_subclass__',\n",
       " '__iter__',\n",
       " '__le__',\n",
       " '__len__',\n",
       " '__lt__',\n",
       " '__mod__',\n",
       " '__mul__',\n",
       " '__ne__',\n",
       " '__new__',\n",
       " '__reduce__',\n",
       " '__reduce_ex__',\n",
       " '__repr__',\n",
       " '__rmod__',\n",
       " '__rmul__',\n",
       " '__setattr__',\n",
       " '__sizeof__',\n",
       " '__str__',\n",
       " '__subclasshook__',\n",
       " 'capitalize',\n",
       " 'casefold',\n",
       " 'center',\n",
       " 'count',\n",
       " 'encode',\n",
       " 'endswith',\n",
       " 'expandtabs',\n",
       " 'find',\n",
       " 'format',\n",
       " 'format_map',\n",
       " 'index',\n",
       " 'isalnum',\n",
       " 'isalpha',\n",
       " 'isascii',\n",
       " 'isdecimal',\n",
       " 'isdigit',\n",
       " 'isidentifier',\n",
       " 'islower',\n",
       " 'isnumeric',\n",
       " 'isprintable',\n",
       " 'isspace',\n",
       " 'istitle',\n",
       " 'isupper',\n",
       " 'join',\n",
       " 'ljust',\n",
       " 'lower',\n",
       " 'lstrip',\n",
       " 'maketrans',\n",
       " 'partition',\n",
       " 'removeprefix',\n",
       " 'removesuffix',\n",
       " 'replace',\n",
       " 'rfind',\n",
       " 'rindex',\n",
       " 'rjust',\n",
       " 'rpartition',\n",
       " 'rsplit',\n",
       " 'rstrip',\n",
       " 'split',\n",
       " 'splitlines',\n",
       " 'startswith',\n",
       " 'strip',\n",
       " 'swapcase',\n",
       " 'title',\n",
       " 'translate',\n",
       " 'upper',\n",
       " 'zfill']"
      ]
     },
     "execution_count": 10,
     "metadata": {},
     "output_type": "execute_result"
    }
   ],
   "source": [
    "dir(name1)"
   ]
  },
  {
   "cell_type": "code",
   "execution_count": 49,
   "id": "870c00a7-4737-4d69-bab6-39329e6650a5",
   "metadata": {},
   "outputs": [],
   "source": [
    "class Human:\n",
    "    dna = 4 ## class attribute\n",
    "    def __init__(self,name,age): ###instance attribute\n",
    "        self.myname = name\n",
    "        self.myage = age"
   ]
  },
  {
   "cell_type": "code",
   "execution_count": 50,
   "id": "c1db9cbf-e40f-42e7-9d00-c809781d8ec2",
   "metadata": {},
   "outputs": [],
   "source": [
    "x = Human(\"deji\",20) ##object"
   ]
  },
  {
   "cell_type": "code",
   "execution_count": 51,
   "id": "a201cfd4-84f8-450d-ae32-0ba8bf4485bc",
   "metadata": {},
   "outputs": [
    {
     "data": {
      "text/plain": [
       "['__class__',\n",
       " '__delattr__',\n",
       " '__dict__',\n",
       " '__dir__',\n",
       " '__doc__',\n",
       " '__eq__',\n",
       " '__format__',\n",
       " '__ge__',\n",
       " '__getattribute__',\n",
       " '__getstate__',\n",
       " '__gt__',\n",
       " '__hash__',\n",
       " '__init__',\n",
       " '__init_subclass__',\n",
       " '__le__',\n",
       " '__lt__',\n",
       " '__module__',\n",
       " '__ne__',\n",
       " '__new__',\n",
       " '__reduce__',\n",
       " '__reduce_ex__',\n",
       " '__repr__',\n",
       " '__setattr__',\n",
       " '__sizeof__',\n",
       " '__str__',\n",
       " '__subclasshook__',\n",
       " '__weakref__',\n",
       " 'dna',\n",
       " 'myage',\n",
       " 'myname']"
      ]
     },
     "execution_count": 51,
     "metadata": {},
     "output_type": "execute_result"
    }
   ],
   "source": [
    "dir(x)"
   ]
  },
  {
   "cell_type": "code",
   "execution_count": 52,
   "id": "f2b9563d-1ac0-4f5b-9180-1afbee6f32ae",
   "metadata": {},
   "outputs": [
    {
     "data": {
      "text/plain": [
       "'deji'"
      ]
     },
     "execution_count": 52,
     "metadata": {},
     "output_type": "execute_result"
    }
   ],
   "source": [
    "x.myname"
   ]
  },
  {
   "cell_type": "code",
   "execution_count": 53,
   "id": "1462aab4-1386-4efc-bb42-eb46f2ed15f7",
   "metadata": {},
   "outputs": [
    {
     "data": {
      "text/plain": [
       "20"
      ]
     },
     "execution_count": 53,
     "metadata": {},
     "output_type": "execute_result"
    }
   ],
   "source": [
    "x.myage"
   ]
  },
  {
   "cell_type": "code",
   "execution_count": 54,
   "id": "c7c2864c-28da-41f9-bf18-918426bc7e47",
   "metadata": {},
   "outputs": [
    {
     "data": {
      "text/plain": [
       "4"
      ]
     },
     "execution_count": 54,
     "metadata": {},
     "output_type": "execute_result"
    }
   ],
   "source": [
    "x.dna"
   ]
  },
  {
   "cell_type": "code",
   "execution_count": 55,
   "id": "933747de-fe17-4153-9415-84bc868a438d",
   "metadata": {},
   "outputs": [],
   "source": [
    "y = Human(\"raphael\",56)"
   ]
  },
  {
   "cell_type": "code",
   "execution_count": 56,
   "id": "5b0834e1-b9fc-4b63-9250-4970fa0c8b32",
   "metadata": {},
   "outputs": [
    {
     "data": {
      "text/plain": [
       "['__class__',\n",
       " '__delattr__',\n",
       " '__dict__',\n",
       " '__dir__',\n",
       " '__doc__',\n",
       " '__eq__',\n",
       " '__format__',\n",
       " '__ge__',\n",
       " '__getattribute__',\n",
       " '__getstate__',\n",
       " '__gt__',\n",
       " '__hash__',\n",
       " '__init__',\n",
       " '__init_subclass__',\n",
       " '__le__',\n",
       " '__lt__',\n",
       " '__module__',\n",
       " '__ne__',\n",
       " '__new__',\n",
       " '__reduce__',\n",
       " '__reduce_ex__',\n",
       " '__repr__',\n",
       " '__setattr__',\n",
       " '__sizeof__',\n",
       " '__str__',\n",
       " '__subclasshook__',\n",
       " '__weakref__',\n",
       " 'dna',\n",
       " 'myage',\n",
       " 'myname']"
      ]
     },
     "execution_count": 56,
     "metadata": {},
     "output_type": "execute_result"
    }
   ],
   "source": [
    "dir(y)"
   ]
  },
  {
   "cell_type": "code",
   "execution_count": 57,
   "id": "6bc09594-3111-45fd-a9a4-31426c69725d",
   "metadata": {},
   "outputs": [
    {
     "data": {
      "text/plain": [
       "4"
      ]
     },
     "execution_count": 57,
     "metadata": {},
     "output_type": "execute_result"
    }
   ],
   "source": [
    "y.dna"
   ]
  },
  {
   "cell_type": "code",
   "execution_count": 43,
   "id": "9ebd3fe5-592f-46a6-9174-875368caf60e",
   "metadata": {},
   "outputs": [
    {
     "data": {
      "text/plain": [
       "'raphael'"
      ]
     },
     "execution_count": 43,
     "metadata": {},
     "output_type": "execute_result"
    }
   ],
   "source": [
    "y.myname"
   ]
  },
  {
   "cell_type": "code",
   "execution_count": 44,
   "id": "001f93e4-f8e5-4a70-9f2e-5b065aefba62",
   "metadata": {},
   "outputs": [
    {
     "data": {
      "text/plain": [
       "56"
      ]
     },
     "execution_count": 44,
     "metadata": {},
     "output_type": "execute_result"
    }
   ],
   "source": [
    "y.myage"
   ]
  },
  {
   "cell_type": "code",
   "execution_count": 45,
   "id": "20e25037-2b11-43cd-9333-cbe75bed0a6d",
   "metadata": {},
   "outputs": [],
   "source": [
    "z = Human(\"daniel\",10)"
   ]
  },
  {
   "cell_type": "code",
   "execution_count": 46,
   "id": "5e0fa889-39d7-4776-aff5-52a267c28d58",
   "metadata": {},
   "outputs": [
    {
     "data": {
      "text/plain": [
       "'daniel'"
      ]
     },
     "execution_count": 46,
     "metadata": {},
     "output_type": "execute_result"
    }
   ],
   "source": [
    "z.myname"
   ]
  },
  {
   "cell_type": "code",
   "execution_count": 47,
   "id": "060e22ef-4a87-4554-b7b0-d4365a798a1c",
   "metadata": {},
   "outputs": [
    {
     "data": {
      "text/plain": [
       "10"
      ]
     },
     "execution_count": 47,
     "metadata": {},
     "output_type": "execute_result"
    }
   ],
   "source": [
    "z.myage"
   ]
  },
  {
   "cell_type": "code",
   "execution_count": 82,
   "id": "e6987546-5a7d-4c71-b10c-690266e85e31",
   "metadata": {},
   "outputs": [],
   "source": [
    "### bank account class\n",
    "class Bankaccount:\n",
    "    account_type = \"savings\"\n",
    "    def __init__(self,name,initial_deposit): ## constructor \n",
    "        self.myname = name\n",
    "        self.__myamount = initial_deposit ### encapsulation"
   ]
  },
  {
   "cell_type": "code",
   "execution_count": 83,
   "id": "634c86a7-3b61-4068-b376-53c2cac5adfd",
   "metadata": {},
   "outputs": [],
   "source": [
    "first = Bankaccount(\"raphael\",400)"
   ]
  },
  {
   "cell_type": "code",
   "execution_count": 81,
   "id": "27b39cd3-8bd5-4b8b-bd02-243ac2eb1b15",
   "metadata": {},
   "outputs": [
    {
     "data": {
      "text/plain": [
       "['_Bankaccount__myamount',\n",
       " '__class__',\n",
       " '__delattr__',\n",
       " '__dict__',\n",
       " '__dir__',\n",
       " '__doc__',\n",
       " '__eq__',\n",
       " '__format__',\n",
       " '__ge__',\n",
       " '__getattribute__',\n",
       " '__getstate__',\n",
       " '__gt__',\n",
       " '__hash__',\n",
       " '__init__',\n",
       " '__init_subclass__',\n",
       " '__le__',\n",
       " '__lt__',\n",
       " '__module__',\n",
       " '__ne__',\n",
       " '__new__',\n",
       " '__reduce__',\n",
       " '__reduce_ex__',\n",
       " '__repr__',\n",
       " '__setattr__',\n",
       " '__sizeof__',\n",
       " '__str__',\n",
       " '__subclasshook__',\n",
       " '__weakref__',\n",
       " 'account_type',\n",
       " 'myname']"
      ]
     },
     "execution_count": 81,
     "metadata": {},
     "output_type": "execute_result"
    }
   ],
   "source": [
    "dir(first)"
   ]
  },
  {
   "cell_type": "code",
   "execution_count": null,
   "id": "7d2a6b40-8ac3-48c8-9a84-bfd9f34855d6",
   "metadata": {},
   "outputs": [],
   "source": []
  },
  {
   "cell_type": "code",
   "execution_count": 76,
   "id": "e463bece-8589-4915-bc55-ced8a1a9ef2c",
   "metadata": {},
   "outputs": [],
   "source": [
    "first.myamount = 1000"
   ]
  },
  {
   "cell_type": "code",
   "execution_count": 78,
   "id": "5744f8ae-4a6d-412d-bc9f-f516e803ccc0",
   "metadata": {},
   "outputs": [
    {
     "data": {
      "text/plain": [
       "1000"
      ]
     },
     "execution_count": 78,
     "metadata": {},
     "output_type": "execute_result"
    }
   ],
   "source": [
    "first.myamount"
   ]
  },
  {
   "cell_type": "code",
   "execution_count": 62,
   "id": "da6c033f-5a4e-4ebd-a5d0-4b44c01460c3",
   "metadata": {},
   "outputs": [
    {
     "data": {
      "text/plain": [
       "'raphael'"
      ]
     },
     "execution_count": 62,
     "metadata": {},
     "output_type": "execute_result"
    }
   ],
   "source": [
    "first.myname"
   ]
  },
  {
   "cell_type": "code",
   "execution_count": 70,
   "id": "96749a8b-482e-4719-a0fb-5a6164c92d0d",
   "metadata": {},
   "outputs": [
    {
     "data": {
      "text/plain": [
       "'savings'"
      ]
     },
     "execution_count": 70,
     "metadata": {},
     "output_type": "execute_result"
    }
   ],
   "source": [
    "first.account_type"
   ]
  },
  {
   "cell_type": "code",
   "execution_count": 71,
   "id": "0f899009-b72e-41fa-a7ae-a44d894e99cb",
   "metadata": {},
   "outputs": [],
   "source": [
    "second = Bankaccount(\"daniel\",600)"
   ]
  },
  {
   "cell_type": "code",
   "execution_count": 72,
   "id": "03c9f6be-09a8-4263-b529-aca9f78229c4",
   "metadata": {},
   "outputs": [
    {
     "data": {
      "text/plain": [
       "600"
      ]
     },
     "execution_count": 72,
     "metadata": {},
     "output_type": "execute_result"
    }
   ],
   "source": [
    "second.myamount"
   ]
  },
  {
   "cell_type": "code",
   "execution_count": 73,
   "id": "c9630719-4009-465f-8486-47a25f4692a3",
   "metadata": {},
   "outputs": [
    {
     "data": {
      "text/plain": [
       "'daniel'"
      ]
     },
     "execution_count": 73,
     "metadata": {},
     "output_type": "execute_result"
    }
   ],
   "source": [
    "second.myname"
   ]
  },
  {
   "cell_type": "code",
   "execution_count": 74,
   "id": "837b9b81-7e70-48e2-8fee-40e7457ee424",
   "metadata": {},
   "outputs": [
    {
     "data": {
      "text/plain": [
       "'savings'"
      ]
     },
     "execution_count": 74,
     "metadata": {},
     "output_type": "execute_result"
    }
   ],
   "source": [
    "second.account_type"
   ]
  },
  {
   "cell_type": "code",
   "execution_count": null,
   "id": "b96a23f1-f55c-412f-860a-edb233475573",
   "metadata": {},
   "outputs": [],
   "source": [
    "instance method , then inheritance , encapsulation"
   ]
  }
 ],
 "metadata": {
  "kernelspec": {
   "display_name": "Python 3 (ipykernel)",
   "language": "python",
   "name": "python3"
  },
  "language_info": {
   "codemirror_mode": {
    "name": "ipython",
    "version": 3
   },
   "file_extension": ".py",
   "mimetype": "text/x-python",
   "name": "python",
   "nbconvert_exporter": "python",
   "pygments_lexer": "ipython3",
   "version": "3.12.7"
  }
 },
 "nbformat": 4,
 "nbformat_minor": 5
}
