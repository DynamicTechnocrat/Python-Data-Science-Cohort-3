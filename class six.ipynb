{
 "cells": [
  {
   "cell_type": "markdown",
   "id": "48b49718-197f-4b7a-bccf-a564b43e2a86",
   "metadata": {},
   "source": [
    "### casting , relational operator , logical operator and conditioner statement"
   ]
  },
  {
   "cell_type": "code",
   "execution_count": 1,
   "id": "4c7e4e89-1c26-4c1e-90f6-9ebca98ef302",
   "metadata": {},
   "outputs": [],
   "source": [
    "### casting"
   ]
  },
  {
   "cell_type": "code",
   "execution_count": 2,
   "id": "20fbba64-40a7-44e6-996a-96a893e2f18f",
   "metadata": {},
   "outputs": [],
   "source": [
    "x = \"5\""
   ]
  },
  {
   "cell_type": "code",
   "execution_count": 3,
   "id": "7971e239-ad4a-4d1d-9d9e-185cab21f6af",
   "metadata": {},
   "outputs": [
    {
     "data": {
      "text/plain": [
       "'5'"
      ]
     },
     "execution_count": 3,
     "metadata": {},
     "output_type": "execute_result"
    }
   ],
   "source": [
    "x"
   ]
  },
  {
   "cell_type": "code",
   "execution_count": 4,
   "id": "f3782f8b-c804-4edd-bf49-18cc08665629",
   "metadata": {},
   "outputs": [
    {
     "data": {
      "text/plain": [
       "str"
      ]
     },
     "execution_count": 4,
     "metadata": {},
     "output_type": "execute_result"
    }
   ],
   "source": [
    "type(x)"
   ]
  },
  {
   "cell_type": "code",
   "execution_count": 5,
   "id": "4ec4ccf9-ec97-4175-9dfc-d9f4eb73c29e",
   "metadata": {},
   "outputs": [],
   "source": [
    "y = 6"
   ]
  },
  {
   "cell_type": "code",
   "execution_count": 6,
   "id": "f0bf4c32-db4d-4e5d-8f7b-a0c94729f396",
   "metadata": {},
   "outputs": [
    {
     "data": {
      "text/plain": [
       "6"
      ]
     },
     "execution_count": 6,
     "metadata": {},
     "output_type": "execute_result"
    }
   ],
   "source": [
    "y"
   ]
  },
  {
   "cell_type": "code",
   "execution_count": 7,
   "id": "e18985fd-3560-4546-9aad-202d58865d6a",
   "metadata": {},
   "outputs": [
    {
     "data": {
      "text/plain": [
       "int"
      ]
     },
     "execution_count": 7,
     "metadata": {},
     "output_type": "execute_result"
    }
   ],
   "source": [
    "type(y)"
   ]
  },
  {
   "cell_type": "code",
   "execution_count": 9,
   "id": "26bb6810-4006-476c-b520-70a3ab8a8ebb",
   "metadata": {},
   "outputs": [
    {
     "ename": "TypeError",
     "evalue": "can only concatenate str (not \"int\") to str",
     "output_type": "error",
     "traceback": [
      "\u001b[1;31m---------------------------------------------------------------------------\u001b[0m",
      "\u001b[1;31mTypeError\u001b[0m                                 Traceback (most recent call last)",
      "Cell \u001b[1;32mIn[9], line 1\u001b[0m\n\u001b[1;32m----> 1\u001b[0m x \u001b[38;5;241m+\u001b[39m y\n",
      "\u001b[1;31mTypeError\u001b[0m: can only concatenate str (not \"int\") to str"
     ]
    }
   ],
   "source": [
    "x + y"
   ]
  },
  {
   "cell_type": "code",
   "execution_count": 16,
   "id": "5a57d286-f4f1-4981-a75c-8c47e8bf11c2",
   "metadata": {},
   "outputs": [
    {
     "data": {
      "text/plain": [
       "'5'"
      ]
     },
     "execution_count": 16,
     "metadata": {},
     "output_type": "execute_result"
    }
   ],
   "source": [
    "x "
   ]
  },
  {
   "cell_type": "code",
   "execution_count": 13,
   "id": "ebfb778d-cfa1-4c4f-8bbe-3df657c38f1a",
   "metadata": {},
   "outputs": [],
   "source": [
    "x1 = int(x)"
   ]
  },
  {
   "cell_type": "code",
   "execution_count": 14,
   "id": "7c7bba12-dad0-47c6-9a73-5e4731c1143c",
   "metadata": {},
   "outputs": [
    {
     "data": {
      "text/plain": [
       "5"
      ]
     },
     "execution_count": 14,
     "metadata": {},
     "output_type": "execute_result"
    }
   ],
   "source": [
    "x1"
   ]
  },
  {
   "cell_type": "code",
   "execution_count": 21,
   "id": "304413dd-d096-4878-ae71-cb03e27765e2",
   "metadata": {},
   "outputs": [
    {
     "data": {
      "text/plain": [
       "11"
      ]
     },
     "execution_count": 21,
     "metadata": {},
     "output_type": "execute_result"
    }
   ],
   "source": [
    "x1 + y"
   ]
  },
  {
   "cell_type": "code",
   "execution_count": 15,
   "id": "d1ca7870-4c09-4701-9208-c1d0963b54cd",
   "metadata": {},
   "outputs": [
    {
     "data": {
      "text/plain": [
       "int"
      ]
     },
     "execution_count": 15,
     "metadata": {},
     "output_type": "execute_result"
    }
   ],
   "source": [
    "type(x1)"
   ]
  },
  {
   "cell_type": "code",
   "execution_count": 18,
   "id": "1ef2a737-a443-4efd-b63a-12fb2f305da9",
   "metadata": {},
   "outputs": [],
   "source": [
    "x2 = float(x)"
   ]
  },
  {
   "cell_type": "code",
   "execution_count": 19,
   "id": "d74136e1-be42-445a-9865-4658f4c5fecb",
   "metadata": {},
   "outputs": [
    {
     "data": {
      "text/plain": [
       "5.0"
      ]
     },
     "execution_count": 19,
     "metadata": {},
     "output_type": "execute_result"
    }
   ],
   "source": [
    "x2"
   ]
  },
  {
   "cell_type": "code",
   "execution_count": 22,
   "id": "481ac4b2-151a-4e92-944b-bdb695b0a8ed",
   "metadata": {},
   "outputs": [
    {
     "data": {
      "text/plain": [
       "11.0"
      ]
     },
     "execution_count": 22,
     "metadata": {},
     "output_type": "execute_result"
    }
   ],
   "source": [
    "x2 + y"
   ]
  },
  {
   "cell_type": "code",
   "execution_count": 23,
   "id": "1d58604b-96c7-4ae1-acf9-192ccdc933fa",
   "metadata": {},
   "outputs": [],
   "source": [
    "### Example 2"
   ]
  },
  {
   "cell_type": "code",
   "execution_count": 26,
   "id": "a105c76d-55af-4871-854c-eac73e5fa017",
   "metadata": {},
   "outputs": [],
   "source": [
    "num = \"10\""
   ]
  },
  {
   "cell_type": "code",
   "execution_count": 27,
   "id": "f9e2928d-5755-4069-834f-461327a65990",
   "metadata": {},
   "outputs": [
    {
     "data": {
      "text/plain": [
       "'10'"
      ]
     },
     "execution_count": 27,
     "metadata": {},
     "output_type": "execute_result"
    }
   ],
   "source": [
    "num"
   ]
  },
  {
   "cell_type": "code",
   "execution_count": 28,
   "id": "d62da3eb-a073-472c-8dda-0a57e69df96a",
   "metadata": {},
   "outputs": [],
   "source": [
    "num2 = 10"
   ]
  },
  {
   "cell_type": "code",
   "execution_count": 29,
   "id": "5917ce82-c0e3-4731-8f2e-0ede47593c60",
   "metadata": {},
   "outputs": [
    {
     "data": {
      "text/plain": [
       "10"
      ]
     },
     "execution_count": 29,
     "metadata": {},
     "output_type": "execute_result"
    }
   ],
   "source": [
    "num2"
   ]
  },
  {
   "cell_type": "code",
   "execution_count": 34,
   "id": "92b7e862-dee7-4e8e-91bb-bbd2bebfe77f",
   "metadata": {},
   "outputs": [
    {
     "data": {
      "text/plain": [
       "10"
      ]
     },
     "execution_count": 34,
     "metadata": {},
     "output_type": "execute_result"
    }
   ],
   "source": [
    "num3 = int(num) \n",
    "num3"
   ]
  },
  {
   "cell_type": "code",
   "execution_count": 35,
   "id": "97248c43-5d47-4b29-be50-92b461e0e271",
   "metadata": {},
   "outputs": [
    {
     "data": {
      "text/plain": [
       "int"
      ]
     },
     "execution_count": 35,
     "metadata": {},
     "output_type": "execute_result"
    }
   ],
   "source": [
    "type(num3)"
   ]
  },
  {
   "cell_type": "code",
   "execution_count": null,
   "id": "7a35eb74-5604-4096-b481-1037ee59af20",
   "metadata": {},
   "outputs": [],
   "source": [
    "x3 = \"14\" \n",
    "\n",
    "x4 = 6"
   ]
  },
  {
   "cell_type": "code",
   "execution_count": null,
   "id": "1246d87f-0b78-42c1-a217-2e7e15486cd0",
   "metadata": {},
   "outputs": [],
   "source": [
    "int\n",
    "float"
   ]
  },
  {
   "cell_type": "code",
   "execution_count": null,
   "id": "ee72a973-df8d-4736-a873-f88a8e2993c7",
   "metadata": {},
   "outputs": [],
   "source": []
  },
  {
   "cell_type": "code",
   "execution_count": null,
   "id": "1b78dc74-dfcf-4006-806d-8af2197da3d1",
   "metadata": {},
   "outputs": [],
   "source": [
    "\"string\"  + int = error"
   ]
  },
  {
   "cell_type": "code",
   "execution_count": 36,
   "id": "e2a7d385-77ad-4987-a78f-59fd5a6e73b0",
   "metadata": {},
   "outputs": [],
   "source": [
    "x = 19"
   ]
  },
  {
   "cell_type": "code",
   "execution_count": 37,
   "id": "a593903a-c60b-4e9b-b89d-0cf4b5d00e00",
   "metadata": {},
   "outputs": [
    {
     "data": {
      "text/plain": [
       "19"
      ]
     },
     "execution_count": 37,
     "metadata": {},
     "output_type": "execute_result"
    }
   ],
   "source": [
    "x"
   ]
  },
  {
   "cell_type": "code",
   "execution_count": 38,
   "id": "16a7a0d5-bb9b-4f83-b664-4bf9733faf03",
   "metadata": {},
   "outputs": [
    {
     "data": {
      "text/plain": [
       "int"
      ]
     },
     "execution_count": 38,
     "metadata": {},
     "output_type": "execute_result"
    }
   ],
   "source": [
    "type(x)"
   ]
  },
  {
   "cell_type": "code",
   "execution_count": 40,
   "id": "c7453a21-90c8-4b66-bbb1-ef3211f790c4",
   "metadata": {},
   "outputs": [],
   "source": [
    "x5 = str(x)"
   ]
  },
  {
   "cell_type": "code",
   "execution_count": 41,
   "id": "0c36b04e-baf1-424d-bd3f-c720c925ca96",
   "metadata": {},
   "outputs": [
    {
     "data": {
      "text/plain": [
       "'19'"
      ]
     },
     "execution_count": 41,
     "metadata": {},
     "output_type": "execute_result"
    }
   ],
   "source": [
    "x5"
   ]
  },
  {
   "cell_type": "code",
   "execution_count": 42,
   "id": "bcda294e-1370-4961-b5a3-86b5d286181e",
   "metadata": {},
   "outputs": [
    {
     "data": {
      "text/plain": [
       "str"
      ]
     },
     "execution_count": 42,
     "metadata": {},
     "output_type": "execute_result"
    }
   ],
   "source": [
    "type(x5)"
   ]
  },
  {
   "cell_type": "code",
   "execution_count": 44,
   "id": "aeefdb3e-8593-44d9-ae16-6b43ec1ea77f",
   "metadata": {},
   "outputs": [
    {
     "name": "stdin",
     "output_type": "stream",
     "text": [
      "what is your age :  16\n"
     ]
    }
   ],
   "source": [
    "myage = input(\"what is your age : \")"
   ]
  },
  {
   "cell_type": "code",
   "execution_count": 45,
   "id": "838eb06c-3fee-4f89-90a9-71a133b7039c",
   "metadata": {},
   "outputs": [
    {
     "data": {
      "text/plain": [
       "'16'"
      ]
     },
     "execution_count": 45,
     "metadata": {},
     "output_type": "execute_result"
    }
   ],
   "source": [
    "myage"
   ]
  },
  {
   "cell_type": "code",
   "execution_count": 46,
   "id": "dc624417-f110-4200-bb80-735085d70e5c",
   "metadata": {},
   "outputs": [
    {
     "data": {
      "text/plain": [
       "str"
      ]
     },
     "execution_count": 46,
     "metadata": {},
     "output_type": "execute_result"
    }
   ],
   "source": [
    "type(myage)"
   ]
  },
  {
   "cell_type": "code",
   "execution_count": 47,
   "id": "dd028a0d-ca6f-4d41-864b-a45abb4950c3",
   "metadata": {},
   "outputs": [
    {
     "data": {
      "text/plain": [
       "16"
      ]
     },
     "execution_count": 47,
     "metadata": {},
     "output_type": "execute_result"
    }
   ],
   "source": [
    "int(myage)"
   ]
  },
  {
   "cell_type": "code",
   "execution_count": 48,
   "id": "13e959d7-b452-424a-ba56-efb26c17672c",
   "metadata": {},
   "outputs": [],
   "source": [
    "### relational operator"
   ]
  },
  {
   "cell_type": "code",
   "execution_count": 49,
   "id": "9a8cb499-8dee-407f-ad48-d3045483b60e",
   "metadata": {},
   "outputs": [],
   "source": [
    "### greater than , less than , equal to , greater than or equal to , less than or equal to , not greater than "
   ]
  },
  {
   "cell_type": "code",
   "execution_count": 50,
   "id": "70522ae5-f48a-4f68-9fd8-a37fcdfe7fa6",
   "metadata": {},
   "outputs": [
    {
     "data": {
      "text/plain": [
       "True"
      ]
     },
     "execution_count": 50,
     "metadata": {},
     "output_type": "execute_result"
    }
   ],
   "source": [
    "7 > 5"
   ]
  },
  {
   "cell_type": "code",
   "execution_count": 51,
   "id": "b511e380-418d-41b6-ae90-8826a65775fc",
   "metadata": {},
   "outputs": [
    {
     "data": {
      "text/plain": [
       "False"
      ]
     },
     "execution_count": 51,
     "metadata": {},
     "output_type": "execute_result"
    }
   ],
   "source": [
    "3 > 8"
   ]
  },
  {
   "cell_type": "code",
   "execution_count": 52,
   "id": "0317facd-41c4-4f63-b8d5-59d9d9b432db",
   "metadata": {},
   "outputs": [
    {
     "data": {
      "text/plain": [
       "True"
      ]
     },
     "execution_count": 52,
     "metadata": {},
     "output_type": "execute_result"
    }
   ],
   "source": [
    "4 < 9"
   ]
  },
  {
   "cell_type": "code",
   "execution_count": 53,
   "id": "694ed9b7-e01f-447a-bbd1-e399f901e5d8",
   "metadata": {},
   "outputs": [
    {
     "data": {
      "text/plain": [
       "False"
      ]
     },
     "execution_count": 53,
     "metadata": {},
     "output_type": "execute_result"
    }
   ],
   "source": [
    "1 < 0"
   ]
  },
  {
   "cell_type": "code",
   "execution_count": 54,
   "id": "6d714db7-e641-49f6-8729-c5903a7ab810",
   "metadata": {},
   "outputs": [
    {
     "data": {
      "text/plain": [
       "False"
      ]
     },
     "execution_count": 54,
     "metadata": {},
     "output_type": "execute_result"
    }
   ],
   "source": [
    "0 > 0"
   ]
  },
  {
   "cell_type": "code",
   "execution_count": 55,
   "id": "1a3a1e0f-e727-48f7-b29f-bd1c1e793804",
   "metadata": {},
   "outputs": [
    {
     "data": {
      "text/plain": [
       "True"
      ]
     },
     "execution_count": 55,
     "metadata": {},
     "output_type": "execute_result"
    }
   ],
   "source": [
    "5 == 5"
   ]
  },
  {
   "cell_type": "code",
   "execution_count": 56,
   "id": "bed068f4-72ef-4112-8772-2aabdffaf167",
   "metadata": {},
   "outputs": [
    {
     "data": {
      "text/plain": [
       "False"
      ]
     },
     "execution_count": 56,
     "metadata": {},
     "output_type": "execute_result"
    }
   ],
   "source": [
    "5 == 6"
   ]
  },
  {
   "cell_type": "code",
   "execution_count": 57,
   "id": "4e5fa11e-d15f-4314-af4d-696d8bbf6d08",
   "metadata": {},
   "outputs": [
    {
     "data": {
      "text/plain": [
       "False"
      ]
     },
     "execution_count": 57,
     "metadata": {},
     "output_type": "execute_result"
    }
   ],
   "source": [
    "6 >= 7 # greater than or equal to"
   ]
  },
  {
   "cell_type": "code",
   "execution_count": 58,
   "id": "473752fe-ed3e-4c51-acde-891f08f0ef24",
   "metadata": {},
   "outputs": [
    {
     "data": {
      "text/plain": [
       "True"
      ]
     },
     "execution_count": 58,
     "metadata": {},
     "output_type": "execute_result"
    }
   ],
   "source": [
    "5 >= 4"
   ]
  },
  {
   "cell_type": "code",
   "execution_count": 59,
   "id": "d4023ba5-fa64-485c-97e8-266c54094323",
   "metadata": {},
   "outputs": [
    {
     "data": {
      "text/plain": [
       "True"
      ]
     },
     "execution_count": 59,
     "metadata": {},
     "output_type": "execute_result"
    }
   ],
   "source": [
    "5 >= 5"
   ]
  },
  {
   "cell_type": "code",
   "execution_count": 60,
   "id": "be1b7fae-16d4-496d-80ab-8eafc4cea3ed",
   "metadata": {},
   "outputs": [
    {
     "data": {
      "text/plain": [
       "True"
      ]
     },
     "execution_count": 60,
     "metadata": {},
     "output_type": "execute_result"
    }
   ],
   "source": [
    "6 != 5 ## not equal "
   ]
  },
  {
   "cell_type": "code",
   "execution_count": null,
   "id": "e7232eb4-4c6c-436d-a378-3e185389a9a8",
   "metadata": {},
   "outputs": [],
   "source": []
  },
  {
   "cell_type": "code",
   "execution_count": null,
   "id": "0f329298-e226-4b96-8323-885eda56096a",
   "metadata": {},
   "outputs": [],
   "source": [
    "## create more examples using\n",
    "\n",
    ">\n",
    "<\n",
    "==\n",
    "\n",
    ">=\n",
    "\n",
    "<=\n",
    "\n",
    "!="
   ]
  },
  {
   "cell_type": "markdown",
   "id": "1420e971-3c76-4e44-8241-086082a097f1",
   "metadata": {},
   "source": [
    "## ! negation"
   ]
  },
  {
   "cell_type": "code",
   "execution_count": null,
   "id": "7b789a68-c5de-4b01-9020-150ecb3ce3ad",
   "metadata": {},
   "outputs": [],
   "source": [
    "### logical operator . [and , or , not]  conditioner[ if else elif]"
   ]
  }
 ],
 "metadata": {
  "kernelspec": {
   "display_name": "Python 3 (ipykernel)",
   "language": "python",
   "name": "python3"
  },
  "language_info": {
   "codemirror_mode": {
    "name": "ipython",
    "version": 3
   },
   "file_extension": ".py",
   "mimetype": "text/x-python",
   "name": "python",
   "nbconvert_exporter": "python",
   "pygments_lexer": "ipython3",
   "version": "3.12.7"
  }
 },
 "nbformat": 4,
 "nbformat_minor": 5
}
