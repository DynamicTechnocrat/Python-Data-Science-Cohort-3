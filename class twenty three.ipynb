{
 "cells": [
  {
   "cell_type": "code",
   "execution_count": 1,
   "id": "63ea6eba-fdd2-4561-b077-45f799938108",
   "metadata": {},
   "outputs": [],
   "source": [
    "### descriptive analysis \n",
    "### mean , mode , median ,variance standard deviation , quartile , correlation"
   ]
  },
  {
   "cell_type": "code",
   "execution_count": 2,
   "id": "7de8544c-59dd-41cf-8144-a0f61a9398c6",
   "metadata": {},
   "outputs": [],
   "source": [
    "gift = [10,20,30]"
   ]
  },
  {
   "cell_type": "code",
   "execution_count": 3,
   "id": "56169650-ed0a-457c-8be1-5c0611fc6420",
   "metadata": {},
   "outputs": [
    {
     "data": {
      "text/plain": [
       "60"
      ]
     },
     "execution_count": 3,
     "metadata": {},
     "output_type": "execute_result"
    }
   ],
   "source": [
    "totalmoney = 10 + 20 + 30\n",
    "totalmoney"
   ]
  },
  {
   "cell_type": "code",
   "execution_count": 4,
   "id": "dae57eed-fe7f-4de0-a855-989f9ada5b1d",
   "metadata": {},
   "outputs": [
    {
     "data": {
      "text/plain": [
       "20.0"
      ]
     },
     "execution_count": 4,
     "metadata": {},
     "output_type": "execute_result"
    }
   ],
   "source": [
    "totalmoney / 3"
   ]
  },
  {
   "cell_type": "code",
   "execution_count": 5,
   "id": "f4dfedd9-1fdc-4d97-b286-a559b3fff448",
   "metadata": {},
   "outputs": [],
   "source": [
    "ages = [20,30,40]"
   ]
  },
  {
   "cell_type": "code",
   "execution_count": 8,
   "id": "246458dc-dd99-4077-8d0b-753d39e71563",
   "metadata": {},
   "outputs": [],
   "source": [
    "average = sum(ages) /3"
   ]
  },
  {
   "cell_type": "code",
   "execution_count": 9,
   "id": "3920cee9-ec38-401b-a063-95f29f8424f4",
   "metadata": {},
   "outputs": [],
   "source": [
    "gift2 = [12,22,33]"
   ]
  },
  {
   "cell_type": "code",
   "execution_count": 11,
   "id": "49e89bf4-5231-49ea-ba04-e51474b51b12",
   "metadata": {},
   "outputs": [
    {
     "data": {
      "text/plain": [
       "22.333333333333332"
      ]
     },
     "execution_count": 11,
     "metadata": {},
     "output_type": "execute_result"
    }
   ],
   "source": [
    "sum(gift2)/3"
   ]
  },
  {
   "cell_type": "code",
   "execution_count": 12,
   "id": "f54683a7-e1f1-4d0e-85c5-13697dfbc7ee",
   "metadata": {},
   "outputs": [],
   "source": [
    "### mode"
   ]
  },
  {
   "cell_type": "code",
   "execution_count": 13,
   "id": "974f3f3b-866c-4069-951d-986f1eefe57b",
   "metadata": {},
   "outputs": [],
   "source": [
    "x = [10,20,20,30]"
   ]
  },
  {
   "cell_type": "code",
   "execution_count": 14,
   "id": "3dc6c4ea-21c2-4dbe-b530-0a379b5b395c",
   "metadata": {},
   "outputs": [
    {
     "data": {
      "text/plain": [
       "20"
      ]
     },
     "execution_count": 14,
     "metadata": {},
     "output_type": "execute_result"
    }
   ],
   "source": [
    "20 #is the mode"
   ]
  },
  {
   "cell_type": "code",
   "execution_count": 15,
   "id": "06be4dfc-1762-4f67-85f9-336aff8f423d",
   "metadata": {},
   "outputs": [],
   "source": [
    "## median"
   ]
  },
  {
   "cell_type": "code",
   "execution_count": 16,
   "id": "7850425e-7e4e-4dcc-9bd3-b848fa0aabec",
   "metadata": {},
   "outputs": [],
   "source": [
    "w = [10,20,30]"
   ]
  },
  {
   "cell_type": "code",
   "execution_count": 17,
   "id": "17a102e4-965a-4bec-9aac-d6cd0982c2f3",
   "metadata": {},
   "outputs": [
    {
     "data": {
      "text/plain": [
       "20"
      ]
     },
     "execution_count": 17,
     "metadata": {},
     "output_type": "execute_result"
    }
   ],
   "source": [
    "20"
   ]
  },
  {
   "cell_type": "code",
   "execution_count": 18,
   "id": "63ff8250-2dc0-4ac2-a5cd-fc93865f4da3",
   "metadata": {},
   "outputs": [],
   "source": [
    "w = 10,20,30,40"
   ]
  },
  {
   "cell_type": "code",
   "execution_count": 19,
   "id": "a3ec91e9-a9fa-4da7-819f-a293b3d939df",
   "metadata": {},
   "outputs": [
    {
     "data": {
      "text/plain": [
       "25.0"
      ]
     },
     "execution_count": 19,
     "metadata": {},
     "output_type": "execute_result"
    }
   ],
   "source": [
    "(20 +30) /2"
   ]
  },
  {
   "cell_type": "code",
   "execution_count": 20,
   "id": "bba7cb6d-c858-4977-9cf0-fe3cce66da20",
   "metadata": {},
   "outputs": [],
   "source": [
    "### quartiles boxplot"
   ]
  },
  {
   "cell_type": "code",
   "execution_count": 53,
   "id": "e2452a0d-0244-4098-b902-7b4d9137aa6b",
   "metadata": {},
   "outputs": [],
   "source": [
    "x = [-9,2,3,4,5,6,15]"
   ]
  },
  {
   "cell_type": "code",
   "execution_count": 54,
   "id": "0e2f4008-c328-4ca6-9575-290a440d2106",
   "metadata": {},
   "outputs": [],
   "source": [
    "median = 4 ## 50%"
   ]
  },
  {
   "cell_type": "code",
   "execution_count": 42,
   "id": "631943cf-47fc-4ca9-843e-8b3a32a6a9f6",
   "metadata": {},
   "outputs": [],
   "source": [
    "median = 2 # 25%"
   ]
  },
  {
   "cell_type": "code",
   "execution_count": 43,
   "id": "e4b009e3-07cd-4303-8114-878e494490c6",
   "metadata": {},
   "outputs": [],
   "source": [
    "median = 6 # 75%"
   ]
  },
  {
   "cell_type": "code",
   "execution_count": 44,
   "id": "bb06c2d6-2a78-4cc2-9b1c-4e9059f247b7",
   "metadata": {},
   "outputs": [
    {
     "ename": "NameError",
     "evalue": "name 'thirdmedian' is not defined",
     "output_type": "error",
     "traceback": [
      "\u001b[1;31m---------------------------------------------------------------------------\u001b[0m",
      "\u001b[1;31mNameError\u001b[0m                                 Traceback (most recent call last)",
      "Cell \u001b[1;32mIn[44], line 1\u001b[0m\n\u001b[1;32m----> 1\u001b[0m iqr \u001b[38;5;241m=\u001b[39m thirdmedian \u001b[38;5;241m-\u001b[39m firstmedian\n",
      "\u001b[1;31mNameError\u001b[0m: name 'thirdmedian' is not defined"
     ]
    }
   ],
   "source": [
    "iqr = thirdmedian - firstmedian"
   ]
  },
  {
   "cell_type": "code",
   "execution_count": 45,
   "id": "7bf7ec4e-723e-46bf-8f58-ffed79a0f882",
   "metadata": {},
   "outputs": [],
   "source": [
    "iqr = 6 - 2"
   ]
  },
  {
   "cell_type": "code",
   "execution_count": 46,
   "id": "36b733f7-fb78-4b95-ac55-70b94390199c",
   "metadata": {},
   "outputs": [
    {
     "data": {
      "text/plain": [
       "6.0"
      ]
     },
     "execution_count": 46,
     "metadata": {},
     "output_type": "execute_result"
    }
   ],
   "source": [
    "iqr * 1.5"
   ]
  },
  {
   "cell_type": "code",
   "execution_count": 47,
   "id": "e6059faf-407d-4d81-b4ad-3c8fdfec08f7",
   "metadata": {},
   "outputs": [
    {
     "ename": "NameError",
     "evalue": "name 'firstmedian' is not defined",
     "output_type": "error",
     "traceback": [
      "\u001b[1;31m---------------------------------------------------------------------------\u001b[0m",
      "\u001b[1;31mNameError\u001b[0m                                 Traceback (most recent call last)",
      "Cell \u001b[1;32mIn[47], line 1\u001b[0m\n\u001b[1;32m----> 1\u001b[0m firstmedian \u001b[38;5;241m-\u001b[39m \u001b[38;5;241m6\u001b[39m\n",
      "\u001b[1;31mNameError\u001b[0m: name 'firstmedian' is not defined"
     ]
    }
   ],
   "source": [
    "firstmedian - 6"
   ]
  },
  {
   "cell_type": "code",
   "execution_count": 48,
   "id": "b5661cbb-a43a-4be7-841a-4d7c7076b2c0",
   "metadata": {},
   "outputs": [
    {
     "data": {
      "text/plain": [
       "-4"
      ]
     },
     "execution_count": 48,
     "metadata": {},
     "output_type": "execute_result"
    }
   ],
   "source": [
    "2 - 6"
   ]
  },
  {
   "cell_type": "code",
   "execution_count": null,
   "id": "862fcbd7-725c-46a4-8f4f-5c8f3675e8f3",
   "metadata": {},
   "outputs": [],
   "source": []
  },
  {
   "cell_type": "code",
   "execution_count": 50,
   "id": "ed20eb47-79ae-4b8f-83d8-21f1b2b436a8",
   "metadata": {},
   "outputs": [
    {
     "data": {
      "text/plain": [
       "12"
      ]
     },
     "execution_count": 50,
     "metadata": {},
     "output_type": "execute_result"
    }
   ],
   "source": [
    "6 + 6"
   ]
  },
  {
   "cell_type": "code",
   "execution_count": 68,
   "id": "b462aa4c-92cc-4a12-9e22-98b1617bbc07",
   "metadata": {},
   "outputs": [],
   "source": [
    "x = [1,400,300,400,500,1200]"
   ]
  },
  {
   "cell_type": "code",
   "execution_count": 69,
   "id": "a375f91a-f57b-4fb8-a098-e6cf063dcd66",
   "metadata": {},
   "outputs": [
    {
     "data": {
      "image/png": "[encoded data removed]",
      "text/plain": [
       "<Figure size 640x480 with 1 Axes>"
      ]
     },
     "metadata": {},
     "output_type": "display_data"
    }
   ],
   "source": [
    "import matplotlib.pyplot as plt\n",
    "\n",
    "\n",
    "plt.boxplot(x);"
   ]
  },
  {
   "cell_type": "code",
   "execution_count": 70,
   "id": "dbf79029-c816-4e00-a545-beb2aed2e971",
   "metadata": {},
   "outputs": [],
   "source": [
    "### variance standard deviation and correlation analysis"
   ]
  },
  {
   "cell_type": "code",
   "execution_count": null,
   "id": "cd84039a-c3cc-44e8-a449-26775da9d61a",
   "metadata": {},
   "outputs": [],
   "source": []
  }
 ],
 "metadata": {
  "kernelspec": {
   "display_name": "Python 3 (ipykernel)",
   "language": "python",
   "name": "python3"
  },
  "language_info": {
   "codemirror_mode": {
    "name": "ipython",
    "version": 3
   },
   "file_extension": ".py",
   "mimetype": "text/x-python",
   "name": "python",
   "nbconvert_exporter": "python",
   "pygments_lexer": "ipython3",
   "version": "3.12.7"
  }
 },
 "nbformat": 4,
 "nbformat_minor": 5
}
