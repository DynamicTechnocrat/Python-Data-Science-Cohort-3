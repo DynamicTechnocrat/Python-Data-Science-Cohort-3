{
 "cells": [
  {
   "cell_type": "code",
   "execution_count": 15,
   "id": "7aa8b6fb-89b6-4359-a0c6-7225217716cc",
   "metadata": {},
   "outputs": [
    {
     "data": {
      "text/plain": [
       "(2676, 1224)"
      ]
     },
     "execution_count": 15,
     "metadata": {},
     "output_type": "execute_result"
    }
   ],
   "source": [
    "### Pillow\n",
    "from PIL import Image\n",
    "\n",
    "file = \"C:/Users/OWNER/Desktop/folder2/Model performance.png\"\n",
    "new_location = \"C:/Users/OWNER/Desktop/folder1\"\n",
    "myimage = Image.open(file)\n",
    "myimage.size"
   ]
  },
  {
   "cell_type": "code",
   "execution_count": 14,
   "id": "8d854f81-b726-495e-86cf-77790f103644",
   "metadata": {},
   "outputs": [],
   "source": [
    "resized = myimage.resize((450,450))"
   ]
  },
  {
   "cell_type": "code",
   "execution_count": 16,
   "id": "ba186d91-be25-4a61-b630-16e2a600e5ec",
   "metadata": {},
   "outputs": [],
   "source": [
    "resized.save(new_location + \"/\" + \"modelperformance.png\")"
   ]
  },
  {
   "cell_type": "code",
   "execution_count": 17,
   "id": "0615f2dc-20a7-49c2-9ac5-cc1655510209",
   "metadata": {},
   "outputs": [],
   "source": [
    "### resizing bulk files"
   ]
  },
  {
   "cell_type": "code",
   "execution_count": 46,
   "id": "0808d6af-7329-4b11-9680-4b172640f8f2",
   "metadata": {},
   "outputs": [
    {
     "name": "stdout",
     "output_type": "stream",
     "text": [
      "discovering of insight.png resized\n",
      "Model performance.png resized\n"
     ]
    }
   ],
   "source": [
    "import os\n",
    "\n",
    "folder2_location = \"C:/Users/OWNER/Desktop/folder2\"\n",
    "\n",
    "my_images = os.listdir(folder2_location)\n",
    "\n",
    "for picture in my_images:\n",
    "    if  picture.endswith(\"png\"):\n",
    "        img = Image.open(folder2_location + \"/\" + picture)\n",
    "        resized = img.resize((400,400))\n",
    "        resized.save(folder2_location + \"/\" + picture[0:-4] + \"1.png\")\n",
    "        print(picture ,\"resized\")"
   ]
  },
  {
   "cell_type": "code",
   "execution_count": 42,
   "id": "58ea4b9e-5038-4157-aab3-ef3cfbd548c8",
   "metadata": {},
   "outputs": [],
   "source": [
    "x = \"discovering of insight.png\""
   ]
  },
  {
   "cell_type": "code",
   "execution_count": 45,
   "id": "d1e59e41-0614-4084-a636-085173db9c34",
   "metadata": {},
   "outputs": [
    {
     "data": {
      "text/plain": [
       "'discovering of insight1.png'"
      ]
     },
     "execution_count": 45,
     "metadata": {},
     "output_type": "execute_result"
    }
   ],
   "source": [
    "x[0:-4] + \"1.png\""
   ]
  },
  {
   "cell_type": "code",
   "execution_count": 48,
   "id": "6094f37b-68e2-4c96-ab34-5f0f05dc6de5",
   "metadata": {},
   "outputs": [],
   "source": [
    "import tkinter as tk"
   ]
  },
  {
   "cell_type": "code",
   "execution_count": 52,
   "id": "82de67aa-957e-4d08-8b4c-53c436fe2cbe",
   "metadata": {},
   "outputs": [],
   "source": [
    "root = tk.Tk()\n",
    "\n",
    "def greet():\n",
    "    label = tk.Label(root,text=\"hello daniel\")\n",
    "    label.pack()\n",
    "\n",
    "button = tk.Button(root,text=\"enter\",command=greet)\n",
    "button.pack()\n",
    "\n",
    "root.mainloop()"
   ]
  },
  {
   "cell_type": "code",
   "execution_count": 53,
   "id": "91331722-eef6-478a-bb2d-8b510487f9a9",
   "metadata": {},
   "outputs": [],
   "source": [
    "### numpy pandas matplotlib seaborne"
   ]
  },
  {
   "cell_type": "code",
   "execution_count": null,
   "id": "0eeab1ed-0a62-4a26-8e04-415faebce986",
   "metadata": {},
   "outputs": [],
   "source": []
  }
 ],
 "metadata": {
  "kernelspec": {
   "display_name": "Python 3 (ipykernel)",
   "language": "python",
   "name": "python3"
  },
  "language_info": {
   "codemirror_mode": {
    "name": "ipython",
    "version": 3
   },
   "file_extension": ".py",
   "mimetype": "text/x-python",
   "name": "python",
   "nbconvert_exporter": "python",
   "pygments_lexer": "ipython3",
   "version": "3.12.7"
  }
 },
 "nbformat": 4,
 "nbformat_minor": 5
}
