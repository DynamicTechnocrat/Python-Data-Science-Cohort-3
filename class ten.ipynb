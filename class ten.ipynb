{
 "cells": [
  {
   "cell_type": "code",
   "execution_count": 2,
   "id": "5183dba0-e5e2-405c-9766-6acc9da2e098",
   "metadata": {},
   "outputs": [],
   "source": [
    "### data structure\n",
    "### list ,  tuple , set , dictionary"
   ]
  },
  {
   "cell_type": "markdown",
   "id": "b59660c7-9780-47a0-b205-c0dc462ab04e",
   "metadata": {},
   "source": [
    "### list"
   ]
  },
  {
   "cell_type": "code",
   "execution_count": 3,
   "id": "2a6d9d55-7349-45bd-8bc4-c852aeee6f7d",
   "metadata": {},
   "outputs": [],
   "source": [
    "bag = [\"biro\",\"pencil\",\"book\",\"eraser\"]"
   ]
  },
  {
   "cell_type": "code",
   "execution_count": 4,
   "id": "a4b6b151-9654-4300-82fd-b6445f662a76",
   "metadata": {},
   "outputs": [
    {
     "data": {
      "text/plain": [
       "['biro', 'pencil', 'book', 'eraser']"
      ]
     },
     "execution_count": 4,
     "metadata": {},
     "output_type": "execute_result"
    }
   ],
   "source": [
    "bag"
   ]
  },
  {
   "cell_type": "code",
   "execution_count": 5,
   "id": "682b9a56-e46e-47a9-9e14-3e07c3d0bf3a",
   "metadata": {},
   "outputs": [],
   "source": [
    "bag2 = [\"biro\",\"pencil\",1,2,3,8.8,1.2]"
   ]
  },
  {
   "cell_type": "code",
   "execution_count": 6,
   "id": "90725278-ea1b-4951-be91-7b1e531f9c59",
   "metadata": {},
   "outputs": [
    {
     "data": {
      "text/plain": [
       "['biro', 'pencil', 1, 2, 3, 8.8, 1.2]"
      ]
     },
     "execution_count": 6,
     "metadata": {},
     "output_type": "execute_result"
    }
   ],
   "source": [
    "bag2"
   ]
  },
  {
   "cell_type": "code",
   "execution_count": 7,
   "id": "f79d7c36-0cee-4935-93ab-4bad43801272",
   "metadata": {},
   "outputs": [],
   "source": [
    "## how to access items in a list"
   ]
  },
  {
   "cell_type": "code",
   "execution_count": 8,
   "id": "e4473060-dc3c-4250-82d1-ed041ca9a62c",
   "metadata": {},
   "outputs": [],
   "source": [
    "names = [\"ayo\",\"bola\",\"bimpe\",\"bello\",\"shola\"]"
   ]
  },
  {
   "cell_type": "code",
   "execution_count": 9,
   "id": "da675e2f-80e3-4e7f-a5e7-22e0590faeae",
   "metadata": {},
   "outputs": [
    {
     "data": {
      "text/plain": [
       "['ayo', 'bola', 'bimpe', 'bello', 'shola']"
      ]
     },
     "execution_count": 9,
     "metadata": {},
     "output_type": "execute_result"
    }
   ],
   "source": [
    "names"
   ]
  },
  {
   "cell_type": "code",
   "execution_count": 13,
   "id": "4601fa3e-f4c0-4e0f-93f5-da2a60c49125",
   "metadata": {},
   "outputs": [],
   "source": [
    "### through index"
   ]
  },
  {
   "cell_type": "code",
   "execution_count": 14,
   "id": "4f594e39-bf83-48cb-bea6-262363ae3fd2",
   "metadata": {},
   "outputs": [
    {
     "data": {
      "text/plain": [
       "'ayo'"
      ]
     },
     "execution_count": 14,
     "metadata": {},
     "output_type": "execute_result"
    }
   ],
   "source": [
    "names[0]"
   ]
  },
  {
   "cell_type": "code",
   "execution_count": 15,
   "id": "91e15d51-0f4f-42b6-807b-0f6aaf29a2a1",
   "metadata": {},
   "outputs": [
    {
     "data": {
      "text/plain": [
       "'bola'"
      ]
     },
     "execution_count": 15,
     "metadata": {},
     "output_type": "execute_result"
    }
   ],
   "source": [
    "names[1]"
   ]
  },
  {
   "cell_type": "code",
   "execution_count": 16,
   "id": "077e7e12-f696-443b-b986-a8d016ac600b",
   "metadata": {},
   "outputs": [
    {
     "data": {
      "text/plain": [
       "'bello'"
      ]
     },
     "execution_count": 16,
     "metadata": {},
     "output_type": "execute_result"
    }
   ],
   "source": [
    "names[3]"
   ]
  },
  {
   "cell_type": "code",
   "execution_count": 17,
   "id": "ec4fc20b-f952-4a72-b94c-8c620c914881",
   "metadata": {},
   "outputs": [
    {
     "data": {
      "text/plain": [
       "'shola'"
      ]
     },
     "execution_count": 17,
     "metadata": {},
     "output_type": "execute_result"
    }
   ],
   "source": [
    "names[-1]"
   ]
  },
  {
   "cell_type": "code",
   "execution_count": 19,
   "id": "0d1b23e9-b8e6-425b-bd91-3630de66b1c4",
   "metadata": {},
   "outputs": [],
   "source": [
    "### slicing"
   ]
  },
  {
   "cell_type": "code",
   "execution_count": 22,
   "id": "8325d6e7-ebb7-4b9c-8406-f60f3dc35e8d",
   "metadata": {},
   "outputs": [
    {
     "data": {
      "text/plain": [
       "['ayo', 'bola']"
      ]
     },
     "execution_count": 22,
     "metadata": {},
     "output_type": "execute_result"
    }
   ],
   "source": [
    "names[0:2]"
   ]
  },
  {
   "cell_type": "code",
   "execution_count": 23,
   "id": "513dabde-7e9e-4689-bc71-6d6a53745de8",
   "metadata": {},
   "outputs": [
    {
     "data": {
      "text/plain": [
       "['ayo', 'bola', 'bimpe']"
      ]
     },
     "execution_count": 23,
     "metadata": {},
     "output_type": "execute_result"
    }
   ],
   "source": [
    "names[0:3]"
   ]
  },
  {
   "cell_type": "code",
   "execution_count": 25,
   "id": "e83ee291-27aa-4d4d-967e-f2e58155c016",
   "metadata": {},
   "outputs": [
    {
     "data": {
      "text/plain": [
       "['bola', 'bimpe', 'bello', 'shola']"
      ]
     },
     "execution_count": 25,
     "metadata": {},
     "output_type": "execute_result"
    }
   ],
   "source": [
    "names[1:]"
   ]
  },
  {
   "cell_type": "code",
   "execution_count": 27,
   "id": "c41239a1-fe54-49dc-96da-ce33e095783c",
   "metadata": {},
   "outputs": [
    {
     "data": {
      "text/plain": [
       "['ayo', 'bola', 'bimpe', 'bello', 'shola']"
      ]
     },
     "execution_count": 27,
     "metadata": {},
     "output_type": "execute_result"
    }
   ],
   "source": [
    "names"
   ]
  },
  {
   "cell_type": "code",
   "execution_count": 29,
   "id": "368961c9-37fd-4c45-a632-ea3e52275e46",
   "metadata": {},
   "outputs": [
    {
     "data": {
      "text/plain": [
       "['ayo', 'bimpe']"
      ]
     },
     "execution_count": 29,
     "metadata": {},
     "output_type": "execute_result"
    }
   ],
   "source": [
    "names[0:4:2]"
   ]
  },
  {
   "cell_type": "code",
   "execution_count": 30,
   "id": "97da65ed-2d7b-4157-a48f-7dfe666ae3f0",
   "metadata": {},
   "outputs": [
    {
     "data": {
      "text/plain": [
       "['bola', 'bello']"
      ]
     },
     "execution_count": 30,
     "metadata": {},
     "output_type": "execute_result"
    }
   ],
   "source": [
    "names[1:4:2]"
   ]
  },
  {
   "cell_type": "code",
   "execution_count": 36,
   "id": "bcc24a97-fdce-4a74-afd3-80a8156587a5",
   "metadata": {},
   "outputs": [
    {
     "data": {
      "text/plain": [
       "['ayo', 'bello']"
      ]
     },
     "execution_count": 36,
     "metadata": {},
     "output_type": "execute_result"
    }
   ],
   "source": [
    "names[0:4:3 ] #step"
   ]
  },
  {
   "cell_type": "code",
   "execution_count": 37,
   "id": "aabc4bb5-5916-4ef0-8ba7-2828185e5700",
   "metadata": {},
   "outputs": [],
   "source": [
    "### method associated with a list"
   ]
  },
  {
   "cell_type": "code",
   "execution_count": 38,
   "id": "92697d90-c9c0-4c55-9a12-ec7112baa848",
   "metadata": {},
   "outputs": [],
   "source": [
    "students = [\"raphael\",\"daniel\",\"bashy\"]"
   ]
  },
  {
   "cell_type": "code",
   "execution_count": 39,
   "id": "a2185d83-d891-457c-b66b-a9c484bca1a5",
   "metadata": {},
   "outputs": [
    {
     "data": {
      "text/plain": [
       "['raphael', 'daniel', 'bashy']"
      ]
     },
     "execution_count": 39,
     "metadata": {},
     "output_type": "execute_result"
    }
   ],
   "source": [
    "students"
   ]
  },
  {
   "cell_type": "code",
   "execution_count": 40,
   "id": "bb5fc0c3-7dc2-489e-b20e-932e479d56bb",
   "metadata": {},
   "outputs": [
    {
     "data": {
      "text/plain": [
       "['__add__',\n",
       " '__class__',\n",
       " '__class_getitem__',\n",
       " '__contains__',\n",
       " '__delattr__',\n",
       " '__delitem__',\n",
       " '__dir__',\n",
       " '__doc__',\n",
       " '__eq__',\n",
       " '__format__',\n",
       " '__ge__',\n",
       " '__getattribute__',\n",
       " '__getitem__',\n",
       " '__getstate__',\n",
       " '__gt__',\n",
       " '__hash__',\n",
       " '__iadd__',\n",
       " '__imul__',\n",
       " '__init__',\n",
       " '__init_subclass__',\n",
       " '__iter__',\n",
       " '__le__',\n",
       " '__len__',\n",
       " '__lt__',\n",
       " '__mul__',\n",
       " '__ne__',\n",
       " '__new__',\n",
       " '__reduce__',\n",
       " '__reduce_ex__',\n",
       " '__repr__',\n",
       " '__reversed__',\n",
       " '__rmul__',\n",
       " '__setattr__',\n",
       " '__setitem__',\n",
       " '__sizeof__',\n",
       " '__str__',\n",
       " '__subclasshook__',\n",
       " 'append',\n",
       " 'clear',\n",
       " 'copy',\n",
       " 'count',\n",
       " 'extend',\n",
       " 'index',\n",
       " 'insert',\n",
       " 'pop',\n",
       " 'remove',\n",
       " 'reverse',\n",
       " 'sort']"
      ]
     },
     "execution_count": 40,
     "metadata": {},
     "output_type": "execute_result"
    }
   ],
   "source": [
    "dir(students)"
   ]
  },
  {
   "cell_type": "code",
   "execution_count": 41,
   "id": "bce667ae-c6af-4c99-98f2-21c78c50dbb8",
   "metadata": {},
   "outputs": [
    {
     "data": {
      "text/plain": [
       "['raphael', 'daniel', 'bashy']"
      ]
     },
     "execution_count": 41,
     "metadata": {},
     "output_type": "execute_result"
    }
   ],
   "source": [
    "students"
   ]
  },
  {
   "cell_type": "code",
   "execution_count": 42,
   "id": "2c984227-8225-42a1-b483-a186c3f443bc",
   "metadata": {},
   "outputs": [],
   "source": [
    "students.append(\"bimbo\")"
   ]
  },
  {
   "cell_type": "code",
   "execution_count": 43,
   "id": "f3a78b48-17fe-457b-9c14-57f723bfdd0c",
   "metadata": {},
   "outputs": [
    {
     "data": {
      "text/plain": [
       "['raphael', 'daniel', 'bashy', 'bimbo']"
      ]
     },
     "execution_count": 43,
     "metadata": {},
     "output_type": "execute_result"
    }
   ],
   "source": [
    "students"
   ]
  },
  {
   "cell_type": "code",
   "execution_count": 44,
   "id": "67a9661b-628d-4d6f-8229-b8c89c8851ea",
   "metadata": {},
   "outputs": [],
   "source": [
    "students.append(\"bimpe\")"
   ]
  },
  {
   "cell_type": "code",
   "execution_count": 45,
   "id": "9d84df80-71ac-43e6-bdb0-74127c19ce6b",
   "metadata": {},
   "outputs": [
    {
     "data": {
      "text/plain": [
       "['raphael', 'daniel', 'bashy', 'bimbo', 'bimpe']"
      ]
     },
     "execution_count": 45,
     "metadata": {},
     "output_type": "execute_result"
    }
   ],
   "source": [
    "students"
   ]
  },
  {
   "cell_type": "code",
   "execution_count": null,
   "id": "ef6f81e1-3deb-4e5f-9d5c-99ee2217ee00",
   "metadata": {},
   "outputs": [],
   "source": [
    "### shola , ade"
   ]
  },
  {
   "cell_type": "code",
   "execution_count": 47,
   "id": "2b8d7296-82f5-43c7-a9d8-3cc460d3a3fb",
   "metadata": {},
   "outputs": [],
   "source": [
    "students.append(\"bimpe\")"
   ]
  },
  {
   "cell_type": "code",
   "execution_count": 48,
   "id": "e5ad8f13-3a95-4148-8bf1-89894eaac19a",
   "metadata": {},
   "outputs": [
    {
     "data": {
      "text/plain": [
       "['raphael', 'daniel', 'bashy', 'bimbo', 'bimpe', 'bimpe']"
      ]
     },
     "execution_count": 48,
     "metadata": {},
     "output_type": "execute_result"
    }
   ],
   "source": [
    "students"
   ]
  },
  {
   "cell_type": "code",
   "execution_count": 50,
   "id": "7ac885ed-98e9-40f5-a571-a9bd515812eb",
   "metadata": {},
   "outputs": [
    {
     "data": {
      "text/plain": [
       "2"
      ]
     },
     "execution_count": 50,
     "metadata": {},
     "output_type": "execute_result"
    }
   ],
   "source": [
    "students.count(\"bimpe\")"
   ]
  },
  {
   "cell_type": "code",
   "execution_count": 51,
   "id": "abb4261a-15f7-458b-9dc6-a16120fc7c51",
   "metadata": {},
   "outputs": [
    {
     "data": {
      "text/plain": [
       "0"
      ]
     },
     "execution_count": 51,
     "metadata": {},
     "output_type": "execute_result"
    }
   ],
   "source": [
    "students.index(\"raphael\")"
   ]
  },
  {
   "cell_type": "code",
   "execution_count": 54,
   "id": "67a1396a-6339-4254-bce2-59aea96cb71a",
   "metadata": {},
   "outputs": [
    {
     "data": {
      "text/plain": [
       "2"
      ]
     },
     "execution_count": 54,
     "metadata": {},
     "output_type": "execute_result"
    }
   ],
   "source": [
    "students.index(\"bashy\")"
   ]
  },
  {
   "cell_type": "code",
   "execution_count": 55,
   "id": "6ac67c49-4c5b-4507-966c-7372c5db7622",
   "metadata": {},
   "outputs": [
    {
     "data": {
      "text/plain": [
       "3"
      ]
     },
     "execution_count": 55,
     "metadata": {},
     "output_type": "execute_result"
    }
   ],
   "source": [
    "students.index(\"bimbo\")"
   ]
  },
  {
   "cell_type": "code",
   "execution_count": 56,
   "id": "83a0c999-6f41-4d48-8f25-371f93608a69",
   "metadata": {},
   "outputs": [
    {
     "data": {
      "text/plain": [
       "4"
      ]
     },
     "execution_count": 56,
     "metadata": {},
     "output_type": "execute_result"
    }
   ],
   "source": [
    "students.index(\"bimpe\")"
   ]
  },
  {
   "cell_type": "code",
   "execution_count": 57,
   "id": "f2ac1b8e-414d-4382-a850-146c7be22fc6",
   "metadata": {},
   "outputs": [
    {
     "data": {
      "text/plain": [
       "['raphael', 'daniel', 'bashy', 'bimbo', 'bimpe', 'bimpe']"
      ]
     },
     "execution_count": 57,
     "metadata": {},
     "output_type": "execute_result"
    }
   ],
   "source": [
    "students"
   ]
  },
  {
   "cell_type": "code",
   "execution_count": 58,
   "id": "31294e91-9ba0-46a1-9748-1a96c3ce95e2",
   "metadata": {},
   "outputs": [
    {
     "data": {
      "text/plain": [
       "'bimpe'"
      ]
     },
     "execution_count": 58,
     "metadata": {},
     "output_type": "execute_result"
    }
   ],
   "source": [
    "students.pop()"
   ]
  },
  {
   "cell_type": "code",
   "execution_count": 59,
   "id": "920e6d4c-cacd-4301-874b-c5f7fe0f7267",
   "metadata": {},
   "outputs": [
    {
     "data": {
      "text/plain": [
       "['raphael', 'daniel', 'bashy', 'bimbo', 'bimpe']"
      ]
     },
     "execution_count": 59,
     "metadata": {},
     "output_type": "execute_result"
    }
   ],
   "source": [
    "students"
   ]
  },
  {
   "cell_type": "code",
   "execution_count": 60,
   "id": "450f730a-2c0e-4529-809c-97484d2a4694",
   "metadata": {},
   "outputs": [
    {
     "data": {
      "text/plain": [
       "'bimpe'"
      ]
     },
     "execution_count": 60,
     "metadata": {},
     "output_type": "execute_result"
    }
   ],
   "source": [
    "students.pop()"
   ]
  },
  {
   "cell_type": "code",
   "execution_count": 61,
   "id": "8c6adee4-4226-48e6-9471-3cfb9a2bc8d1",
   "metadata": {},
   "outputs": [
    {
     "data": {
      "text/plain": [
       "['raphael', 'daniel', 'bashy', 'bimbo']"
      ]
     },
     "execution_count": 61,
     "metadata": {},
     "output_type": "execute_result"
    }
   ],
   "source": [
    "students"
   ]
  },
  {
   "cell_type": "code",
   "execution_count": 62,
   "id": "7cd736b8-7b5b-408e-85e2-3484b68e53d0",
   "metadata": {},
   "outputs": [
    {
     "data": {
      "text/plain": [
       "'bimbo'"
      ]
     },
     "execution_count": 62,
     "metadata": {},
     "output_type": "execute_result"
    }
   ],
   "source": [
    "students.pop()"
   ]
  },
  {
   "cell_type": "code",
   "execution_count": 63,
   "id": "cbc50b05-550e-4af3-8226-eff5ac9bc78b",
   "metadata": {},
   "outputs": [
    {
     "data": {
      "text/plain": [
       "['raphael', 'daniel', 'bashy']"
      ]
     },
     "execution_count": 63,
     "metadata": {},
     "output_type": "execute_result"
    }
   ],
   "source": [
    "students"
   ]
  },
  {
   "cell_type": "code",
   "execution_count": 64,
   "id": "7126cec8-43e9-4be4-a638-d64263f521fb",
   "metadata": {},
   "outputs": [
    {
     "data": {
      "text/plain": [
       "'daniel'"
      ]
     },
     "execution_count": 64,
     "metadata": {},
     "output_type": "execute_result"
    }
   ],
   "source": [
    "students.pop(1)"
   ]
  },
  {
   "cell_type": "code",
   "execution_count": 65,
   "id": "687d45b0-d1d7-41b3-89a9-72c9c88f9537",
   "metadata": {},
   "outputs": [
    {
     "data": {
      "text/plain": [
       "['raphael', 'bashy']"
      ]
     },
     "execution_count": 65,
     "metadata": {},
     "output_type": "execute_result"
    }
   ],
   "source": [
    "students"
   ]
  },
  {
   "cell_type": "code",
   "execution_count": 66,
   "id": "228add79-5178-4ad2-bf87-8ecd43930dbf",
   "metadata": {},
   "outputs": [],
   "source": [
    "students.remove(\"bashy\")"
   ]
  },
  {
   "cell_type": "code",
   "execution_count": 68,
   "id": "f7b54f93-109d-43bf-afdd-c6288dff06bb",
   "metadata": {},
   "outputs": [
    {
     "data": {
      "text/plain": [
       "['raphael']"
      ]
     },
     "execution_count": 68,
     "metadata": {},
     "output_type": "execute_result"
    }
   ],
   "source": [
    "students"
   ]
  },
  {
   "cell_type": "code",
   "execution_count": 69,
   "id": "77332bf2-0d2b-4743-a3f0-f33c21509aea",
   "metadata": {},
   "outputs": [],
   "source": [
    "students2 = [\"bello\",\"ade\",\"bade\"]"
   ]
  },
  {
   "cell_type": "code",
   "execution_count": 71,
   "id": "18bfb9be-b6af-44f4-a41a-ed5fbe7d0510",
   "metadata": {},
   "outputs": [
    {
     "data": {
      "text/plain": [
       "['bello', 'ade', 'bade']"
      ]
     },
     "execution_count": 71,
     "metadata": {},
     "output_type": "execute_result"
    }
   ],
   "source": [
    "students2"
   ]
  },
  {
   "cell_type": "code",
   "execution_count": 72,
   "id": "f62b062e-6802-49ff-a350-7d8fc109cade",
   "metadata": {},
   "outputs": [],
   "source": [
    "students2.clear()"
   ]
  },
  {
   "cell_type": "code",
   "execution_count": 73,
   "id": "5e8d15b2-ac85-42d9-b951-b409671ce1a7",
   "metadata": {},
   "outputs": [
    {
     "data": {
      "text/plain": [
       "[]"
      ]
     },
     "execution_count": 73,
     "metadata": {},
     "output_type": "execute_result"
    }
   ],
   "source": [
    "students2"
   ]
  },
  {
   "cell_type": "code",
   "execution_count": 74,
   "id": "13d369b8-3eb7-473a-8a07-806099fddf5a",
   "metadata": {},
   "outputs": [],
   "source": [
    "student3 = [\"ade\",\"bello\"]\n",
    "student4 = [\"shade\",\"betty\"]"
   ]
  },
  {
   "cell_type": "code",
   "execution_count": 75,
   "id": "80ae1dcd-7c6f-4911-ab78-807e6fb8b8ed",
   "metadata": {},
   "outputs": [
    {
     "data": {
      "text/plain": [
       "['ade', 'bello']"
      ]
     },
     "execution_count": 75,
     "metadata": {},
     "output_type": "execute_result"
    }
   ],
   "source": [
    "student3"
   ]
  },
  {
   "cell_type": "code",
   "execution_count": 76,
   "id": "51696961-f633-44b8-8643-edcdf65a6220",
   "metadata": {},
   "outputs": [
    {
     "data": {
      "text/plain": [
       "['shade', 'betty']"
      ]
     },
     "execution_count": 76,
     "metadata": {},
     "output_type": "execute_result"
    }
   ],
   "source": [
    "student4"
   ]
  },
  {
   "cell_type": "code",
   "execution_count": 77,
   "id": "2d0e4e2a-a797-4f5e-bd5e-d1500ddee746",
   "metadata": {},
   "outputs": [],
   "source": [
    "student3.extend(student4)"
   ]
  },
  {
   "cell_type": "code",
   "execution_count": 78,
   "id": "0257eb4d-0a45-4435-940e-c29e707e483e",
   "metadata": {},
   "outputs": [
    {
     "data": {
      "text/plain": [
       "['ade', 'bello', 'shade', 'betty']"
      ]
     },
     "execution_count": 78,
     "metadata": {},
     "output_type": "execute_result"
    }
   ],
   "source": [
    "student3"
   ]
  },
  {
   "cell_type": "code",
   "execution_count": 79,
   "id": "6a489d4c-194a-4065-986b-8beba17d7884",
   "metadata": {},
   "outputs": [],
   "source": [
    "student5 = student3.copy()"
   ]
  },
  {
   "cell_type": "code",
   "execution_count": 80,
   "id": "18eff953-9040-4c71-b41c-616acea5542c",
   "metadata": {},
   "outputs": [
    {
     "data": {
      "text/plain": [
       "['ade', 'bello', 'shade', 'betty']"
      ]
     },
     "execution_count": 80,
     "metadata": {},
     "output_type": "execute_result"
    }
   ],
   "source": [
    "student5"
   ]
  },
  {
   "cell_type": "code",
   "execution_count": 81,
   "id": "0c15cc4f-3422-4fcc-a6c2-f402f58256d8",
   "metadata": {},
   "outputs": [
    {
     "data": {
      "text/plain": [
       "'betty'"
      ]
     },
     "execution_count": 81,
     "metadata": {},
     "output_type": "execute_result"
    }
   ],
   "source": [
    "student3.pop()"
   ]
  },
  {
   "cell_type": "code",
   "execution_count": 82,
   "id": "396014f8-893e-4a0b-82a9-d593d1428828",
   "metadata": {},
   "outputs": [
    {
     "data": {
      "text/plain": [
       "['ade', 'bello', 'shade']"
      ]
     },
     "execution_count": 82,
     "metadata": {},
     "output_type": "execute_result"
    }
   ],
   "source": [
    "student3"
   ]
  },
  {
   "cell_type": "code",
   "execution_count": 83,
   "id": "0d70cfe7-26e6-4bfd-bbee-7c9566658a72",
   "metadata": {},
   "outputs": [
    {
     "data": {
      "text/plain": [
       "['ade', 'bello', 'shade', 'betty']"
      ]
     },
     "execution_count": 83,
     "metadata": {},
     "output_type": "execute_result"
    }
   ],
   "source": [
    "student5"
   ]
  },
  {
   "cell_type": "code",
   "execution_count": null,
   "id": "08e34595-8262-48f9-82a2-fd6930ae760e",
   "metadata": {},
   "outputs": [],
   "source": []
  },
  {
   "cell_type": "code",
   "execution_count": 84,
   "id": "538079ba-d539-4f46-b94c-0b5dd24daa67",
   "metadata": {},
   "outputs": [],
   "source": [
    "### sort and reverse"
   ]
  },
  {
   "cell_type": "code",
   "execution_count": 85,
   "id": "23631607-4935-497d-b756-c260a52ef930",
   "metadata": {},
   "outputs": [
    {
     "data": {
      "text/plain": [
       "['ade', 'bello', 'shade', 'betty']"
      ]
     },
     "execution_count": 85,
     "metadata": {},
     "output_type": "execute_result"
    }
   ],
   "source": [
    "student5"
   ]
  },
  {
   "cell_type": "code",
   "execution_count": 86,
   "id": "4f4827db-2146-4c0a-9715-b82ed7a8235d",
   "metadata": {},
   "outputs": [],
   "source": [
    "student5.sort()"
   ]
  },
  {
   "cell_type": "code",
   "execution_count": 87,
   "id": "3dd2c335-6c1d-41e8-8e39-ba7fb23aedef",
   "metadata": {},
   "outputs": [
    {
     "data": {
      "text/plain": [
       "['ade', 'bello', 'betty', 'shade']"
      ]
     },
     "execution_count": 87,
     "metadata": {},
     "output_type": "execute_result"
    }
   ],
   "source": [
    "student5"
   ]
  },
  {
   "cell_type": "code",
   "execution_count": 88,
   "id": "e05342bc-7623-4956-9277-e5ba71a22c26",
   "metadata": {},
   "outputs": [],
   "source": [
    "student5.reverse()"
   ]
  },
  {
   "cell_type": "code",
   "execution_count": 89,
   "id": "9cf292d0-fe1a-4d6f-bd39-b0848d719d0c",
   "metadata": {},
   "outputs": [
    {
     "data": {
      "text/plain": [
       "['shade', 'betty', 'bello', 'ade']"
      ]
     },
     "execution_count": 89,
     "metadata": {},
     "output_type": "execute_result"
    }
   ],
   "source": [
    "student5"
   ]
  },
  {
   "cell_type": "code",
   "execution_count": null,
   "id": "9daef2af-ea07-4a60-aef3-f45a33bae650",
   "metadata": {},
   "outputs": [],
   "source": []
  }
 ],
 "metadata": {
  "kernelspec": {
   "display_name": "Python 3 (ipykernel)",
   "language": "python",
   "name": "python3"
  },
  "language_info": {
   "codemirror_mode": {
    "name": "ipython",
    "version": 3
   },
   "file_extension": ".py",
   "mimetype": "text/x-python",
   "name": "python",
   "nbconvert_exporter": "python",
   "pygments_lexer": "ipython3",
   "version": "3.12.7"
  }
 },
 "nbformat": 4,
 "nbformat_minor": 5
}
