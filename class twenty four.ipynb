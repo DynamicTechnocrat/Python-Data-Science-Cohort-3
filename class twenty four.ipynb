{
 "cells": [
  {
   "cell_type": "code",
   "execution_count": 2,
   "id": "53ab8584-57f5-4a4d-b93d-3023fb09619f",
   "metadata": {},
   "outputs": [],
   "source": [
    "### variance and standard deviation correlation"
   ]
  },
  {
   "cell_type": "code",
   "execution_count": 10,
   "id": "23ce3ed0-b004-43a4-be13-9efc327c945a",
   "metadata": {},
   "outputs": [],
   "source": [
    "coke = [10,20,30]\n",
    "fanta = [10,20,40]\n",
    "cake = [11,30,40]"
   ]
  },
  {
   "cell_type": "code",
   "execution_count": 11,
   "id": "ef214249-f1a8-4e56-bf4c-e9b0fe6c1456",
   "metadata": {},
   "outputs": [],
   "source": [
    "import pandas as pd"
   ]
  },
  {
   "cell_type": "code",
   "execution_count": 12,
   "id": "5dfb2c2f-ea9e-4cc0-b77a-3d2f26220b71",
   "metadata": {},
   "outputs": [],
   "source": [
    "df = pd.DataFrame({\"mycoke\":coke,\"myfanta\":fanta,\"mycake\":cake})"
   ]
  },
  {
   "cell_type": "code",
   "execution_count": 13,
   "id": "957b1904-a58c-4351-8bff-7d6a517ccbad",
   "metadata": {},
   "outputs": [
    {
     "data": {
      "text/html": [
       "<div>\n",
       "<style scoped>\n",
       "    .dataframe tbody tr th:only-of-type {\n",
       "        vertical-align: middle;\n",
       "    }\n",
       "\n",
       "    .dataframe tbody tr th {\n",
       "        vertical-align: top;\n",
       "    }\n",
       "\n",
       "    .dataframe thead th {\n",
       "        text-align: right;\n",
       "    }\n",
       "</style>\n",
       "<table border=\"1\" class=\"dataframe\">\n",
       "  <thead>\n",
       "    <tr style=\"text-align: right;\">\n",
       "      <th></th>\n",
       "      <th>mycoke</th>\n",
       "      <th>myfanta</th>\n",
       "      <th>mycake</th>\n",
       "    </tr>\n",
       "  </thead>\n",
       "  <tbody>\n",
       "    <tr>\n",
       "      <th>0</th>\n",
       "      <td>10</td>\n",
       "      <td>10</td>\n",
       "      <td>11</td>\n",
       "    </tr>\n",
       "    <tr>\n",
       "      <th>1</th>\n",
       "      <td>20</td>\n",
       "      <td>20</td>\n",
       "      <td>30</td>\n",
       "    </tr>\n",
       "    <tr>\n",
       "      <th>2</th>\n",
       "      <td>30</td>\n",
       "      <td>40</td>\n",
       "      <td>40</td>\n",
       "    </tr>\n",
       "  </tbody>\n",
       "</table>\n",
       "</div>"
      ],
      "text/plain": [
       "   mycoke  myfanta  mycake\n",
       "0      10       10      11\n",
       "1      20       20      30\n",
       "2      30       40      40"
      ]
     },
     "execution_count": 13,
     "metadata": {},
     "output_type": "execute_result"
    }
   ],
   "source": [
    "df"
   ]
  },
  {
   "cell_type": "code",
   "execution_count": 14,
   "id": "f5bcc51b-d616-4b25-a459-b0c78e481176",
   "metadata": {},
   "outputs": [
    {
     "data": {
      "text/html": [
       "<div>\n",
       "<style scoped>\n",
       "    .dataframe tbody tr th:only-of-type {\n",
       "        vertical-align: middle;\n",
       "    }\n",
       "\n",
       "    .dataframe tbody tr th {\n",
       "        vertical-align: top;\n",
       "    }\n",
       "\n",
       "    .dataframe thead th {\n",
       "        text-align: right;\n",
       "    }\n",
       "</style>\n",
       "<table border=\"1\" class=\"dataframe\">\n",
       "  <thead>\n",
       "    <tr style=\"text-align: right;\">\n",
       "      <th></th>\n",
       "      <th>mycoke</th>\n",
       "      <th>myfanta</th>\n",
       "      <th>mycake</th>\n",
       "    </tr>\n",
       "  </thead>\n",
       "  <tbody>\n",
       "    <tr>\n",
       "      <th>mycoke</th>\n",
       "      <td>1.000000</td>\n",
       "      <td>0.981981</td>\n",
       "      <td>0.984324</td>\n",
       "    </tr>\n",
       "    <tr>\n",
       "      <th>myfanta</th>\n",
       "      <td>0.981981</td>\n",
       "      <td>1.000000</td>\n",
       "      <td>0.933257</td>\n",
       "    </tr>\n",
       "    <tr>\n",
       "      <th>mycake</th>\n",
       "      <td>0.984324</td>\n",
       "      <td>0.933257</td>\n",
       "      <td>1.000000</td>\n",
       "    </tr>\n",
       "  </tbody>\n",
       "</table>\n",
       "</div>"
      ],
      "text/plain": [
       "           mycoke   myfanta    mycake\n",
       "mycoke   1.000000  0.981981  0.984324\n",
       "myfanta  0.981981  1.000000  0.933257\n",
       "mycake   0.984324  0.933257  1.000000"
      ]
     },
     "execution_count": 14,
     "metadata": {},
     "output_type": "execute_result"
    }
   ],
   "source": [
    "df.corr()"
   ]
  },
  {
   "cell_type": "code",
   "execution_count": null,
   "id": "c556380d-cd86-4c2a-8334-99b2ed7e5850",
   "metadata": {},
   "outputs": [],
   "source": []
  }
 ],
 "metadata": {
  "kernelspec": {
   "display_name": "Python 3 (ipykernel)",
   "language": "python",
   "name": "python3"
  },
  "language_info": {
   "codemirror_mode": {
    "name": "ipython",
    "version": 3
   },
   "file_extension": ".py",
   "mimetype": "text/x-python",
   "name": "python",
   "nbconvert_exporter": "python",
   "pygments_lexer": "ipython3",
   "version": "3.12.7"
  }
 },
 "nbformat": 4,
 "nbformat_minor": 5
}
