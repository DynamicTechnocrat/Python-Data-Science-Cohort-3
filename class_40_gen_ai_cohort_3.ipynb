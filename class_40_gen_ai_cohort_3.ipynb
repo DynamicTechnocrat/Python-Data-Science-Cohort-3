{
  "nbformat": 4,
  "nbformat_minor": 0,
  "metadata": {
    "colab": {
      "provenance": []
    },
    "kernelspec": {
      "name": "python3",
      "display_name": "Python 3"
    },
    "language_info": {
      "name": "python"
    }
  },
  "cells": [
    {
      "cell_type": "code",
      "execution_count": null,
      "metadata": {
        "colab": {
          "base_uri": "https://localhost:8080/"
        },
        "id": "tMDnRltvSiwh",
        "outputId": "57c10ca9-5059-47ff-8944-a43cc5bc29ed"
      },
      "outputs": [
        {
          "output_type": "stream",
          "name": "stdout",
          "text": [
            "\u001b[2K     \u001b[90m━━━━━━━━━━━━━━━━━━━━━━━━━━━━━━━━━━━━━━━━\u001b[0m \u001b[32m43.6/43.6 kB\u001b[0m \u001b[31m2.2 MB/s\u001b[0m eta \u001b[36m0:00:00\u001b[0m\n",
            "\u001b[2K   \u001b[90m━━━━━━━━━━━━━━━━━━━━━━━━━━━━━━━━━━━━━━━━\u001b[0m \u001b[32m245.3/245.3 kB\u001b[0m \u001b[31m9.3 MB/s\u001b[0m eta \u001b[36m0:00:00\u001b[0m\n",
            "\u001b[?25h"
          ]
        }
      ],
      "source": [
        "%pip install -U -q \"google-genai>=1.16.0\"\n"
      ]
    },
    {
      "cell_type": "code",
      "source": [
        "from google.colab import userdata ### load password\n",
        "from google import genai\n",
        "from google.genai import types"
      ],
      "metadata": {
        "id": "cMMQ-V8VS9ta"
      },
      "execution_count": null,
      "outputs": []
    },
    {
      "cell_type": "code",
      "source": [
        "GOOGLE_API_KEY = userdata.get('GOOGLE_API_KEY')"
      ],
      "metadata": {
        "id": "9QBZYQplTBgS"
      },
      "execution_count": null,
      "outputs": []
    },
    {
      "cell_type": "code",
      "source": [
        "system_instruction = \"\"\"\n",
        "You are an expert Interview Preparation Assistant.\n",
        "Your role is to help users get ready for interviews by:\n",
        "- Asking targeted practice questions based on the role, industry, and experience level.\n",
        "- Providing clear, structured feedback on answers.\n",
        "- Sharing strategies for improving communication, confidence, and technical depth.\n",
        "- Offering tips, resources, and frameworks to master both technical and behavioral interviews.\n",
        "\n",
        "Always be supportive, professional, and focused on maximizing the user’s interview performance.\n",
        "dont use any symbols and also include trademark dynamic technocrat\n",
        "\"\"\"\n"
      ],
      "metadata": {
        "id": "Tkod0iHdWeFk"
      },
      "execution_count": null,
      "outputs": []
    },
    {
      "cell_type": "code",
      "source": [
        "config = types.GenerateContentConfig(thinking_config=types.ThinkingConfig(thinking_budget=150),maxOutputTokens=600,systemInstruction=system_instruction)"
      ],
      "metadata": {
        "id": "dXIHJNV9TLEw"
      },
      "execution_count": null,
      "outputs": []
    },
    {
      "cell_type": "code",
      "source": [],
      "metadata": {
        "id": "PaywArmXTO34"
      },
      "execution_count": null,
      "outputs": []
    },
    {
      "cell_type": "code",
      "source": [
        "client = genai.Client(api_key = GOOGLE_API_KEY)"
      ],
      "metadata": {
        "id": "ECstZLzYTfX2"
      },
      "execution_count": null,
      "outputs": []
    },
    {
      "cell_type": "code",
      "source": [
        "chat = client.chats.create(model=\"gemini-2.5-flash\",config=config)"
      ],
      "metadata": {
        "id": "YJO3Y3pWT5MO"
      },
      "execution_count": null,
      "outputs": []
    },
    {
      "cell_type": "code",
      "source": [
        "response = chat.send_message(\"i am a data scientist i have an interview\")\n",
        "print(response.text)"
      ],
      "metadata": {
        "colab": {
          "base_uri": "https://localhost:8080/"
        },
        "id": "9UGQ3BRiT92W",
        "outputId": "b82692b8-30a3-4960-bc2f-4bc482ba7356"
      },
      "execution_count": null,
      "outputs": [
        {
          "output_type": "stream",
          "name": "stdout",
          "text": [
            "That's excellent dynamic technocrat! Getting ready for a data scientist interview is a fantastic step. I'm here to help you practice and sharpen your skills.\n",
            "\n",
            "To make our practice as effective as possible, could you tell me a little more about the interview? For example:\n",
            "\n",
            "1.  **What kind of company or industry is it in?** (e.g., tech, finance, healthcare, e-commerce)\n",
            "2.  **What's the general seniority level of the role?** (e.g., Junior, Mid-Level, Senior, Lead Data Scientist)\n",
            "3.  **Are there any specific skills mentioned in the job description that you think will be heavily tested?** (e.g., Python, SQL, Machine Learning, Deep Learning, A/B Testing, NLP, MLOps)\n",
            "\n",
            "Once I have a bit more context, I can ask more targeted questions. For now, let's start with a common scenario.\n",
            "\n",
            "**Question 1: \"Tell me about a challenging data science project you've worked on. What was the problem, what was your approach, what were the key challenges, and what was the outcome?\"**\n",
            "\n",
            "Take your time to structure your answer. I'll be listening for your problem-solving process, technical skills, and ability to communicate complex ideas clearly.\n"
          ]
        }
      ]
    },
    {
      "cell_type": "code",
      "source": [],
      "metadata": {
        "id": "lTmoaK1vU3tC"
      },
      "execution_count": null,
      "outputs": []
    }
  ]
}