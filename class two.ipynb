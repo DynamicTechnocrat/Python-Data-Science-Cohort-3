{
 "cells": [
  {
   "cell_type": "markdown",
   "id": "caa38e8a-4219-4d9f-8995-4ca5c65dbae1",
   "metadata": {},
   "source": [
    "## Topics \n",
    "Variablename \n",
    "\n",
    "string\n",
    "\n",
    "number( int,float)"
   ]
  },
  {
   "cell_type": "code",
   "execution_count": 5,
   "id": "867d530f-b0ec-441a-a8d5-b336002e1e2e",
   "metadata": {},
   "outputs": [
    {
     "name": "stdout",
     "output_type": "stream",
     "text": [
      "5\n"
     ]
    }
   ],
   "source": [
    "number  = 5\n",
    "print(number)"
   ]
  },
  {
   "cell_type": "code",
   "execution_count": 32,
   "id": "a6db0860-dac6-4166-be37-bb516258a7b8",
   "metadata": {},
   "outputs": [
    {
     "name": "stdout",
     "output_type": "stream",
     "text": [
      "8\n"
     ]
    }
   ],
   "source": [
    "number1 = 6\n",
    "number2 = 8\n",
    "number3 = 10\n",
    "\n",
    "print(number2)"
   ]
  },
  {
   "cell_type": "code",
   "execution_count": 8,
   "id": "67167b7d-730d-4bb2-a46e-451a786f60ef",
   "metadata": {},
   "outputs": [
    {
     "name": "stdout",
     "output_type": "stream",
     "text": [
      "12\n"
     ]
    }
   ],
   "source": [
    "number4 = 12\n",
    "print(number4)"
   ]
  },
  {
   "cell_type": "markdown",
   "id": "a5b82cf8-5a8a-484c-9fb6-d9e85c7a65f0",
   "metadata": {},
   "source": [
    "string "
   ]
  },
  {
   "cell_type": "code",
   "execution_count": 12,
   "id": "8f2c566b-a973-46af-885b-eec9a22f5336",
   "metadata": {},
   "outputs": [
    {
     "name": "stdout",
     "output_type": "stream",
     "text": [
      "raphael\n"
     ]
    }
   ],
   "source": [
    "name = \"raphael\"\n",
    "print(name)"
   ]
  },
  {
   "cell_type": "code",
   "execution_count": 13,
   "id": "acf97520-516a-4632-8212-1b693e75b78f",
   "metadata": {},
   "outputs": [
    {
     "name": "stdout",
     "output_type": "stream",
     "text": [
      "dele\n"
     ]
    }
   ],
   "source": [
    "name1 = 'dele'\n",
    "print(name1)"
   ]
  },
  {
   "cell_type": "code",
   "execution_count": 14,
   "id": "c5ae427e-33a0-417a-bcf2-b7e405be9e5c",
   "metadata": {},
   "outputs": [
    {
     "name": "stdout",
     "output_type": "stream",
     "text": [
      "dupe\n"
     ]
    }
   ],
   "source": [
    "name3 = \"\"\"dupe\"\"\"\n",
    "print(name3)"
   ]
  },
  {
   "cell_type": "code",
   "execution_count": 15,
   "id": "de3f3ac9-32cd-4e84-b7c5-8ddee44ff1e7",
   "metadata": {},
   "outputs": [
    {
     "name": "stdout",
     "output_type": "stream",
     "text": [
      "ayo\n"
     ]
    }
   ],
   "source": [
    "name4 = '''ayo'''\n",
    "print(name4)"
   ]
  },
  {
   "cell_type": "code",
   "execution_count": 17,
   "id": "946ece18-2c54-4bd0-b08f-b67e3aa8f239",
   "metadata": {},
   "outputs": [
    {
     "data": {
      "text/plain": [
       "'deji'"
      ]
     },
     "execution_count": 17,
     "metadata": {},
     "output_type": "execute_result"
    }
   ],
   "source": [
    "name5 = \"deji\"\n",
    "\n",
    "name5"
   ]
  },
  {
   "cell_type": "code",
   "execution_count": 19,
   "id": "a3a356a1-1d47-4f68-9972-d64f9baa8bc6",
   "metadata": {},
   "outputs": [
    {
     "data": {
      "text/plain": [
       "str"
      ]
     },
     "execution_count": 19,
     "metadata": {},
     "output_type": "execute_result"
    }
   ],
   "source": [
    "type(name5)"
   ]
  },
  {
   "cell_type": "markdown",
   "id": "ba1e8fba-ea65-4b3d-90a2-d4f3f879d9db",
   "metadata": {},
   "source": [
    " Method associated with string"
   ]
  },
  {
   "cell_type": "code",
   "execution_count": 21,
   "id": "47a4e3b0-9518-40af-8dd3-1cbe471435ea",
   "metadata": {},
   "outputs": [],
   "source": [
    "name6 = \"raphael\""
   ]
  },
  {
   "cell_type": "code",
   "execution_count": 23,
   "id": "24c8c788-53d9-4720-9dd8-8d347a210c62",
   "metadata": {},
   "outputs": [
    {
     "name": "stdout",
     "output_type": "stream",
     "text": [
      "raphael\n"
     ]
    }
   ],
   "source": [
    "print(name6)"
   ]
  },
  {
   "cell_type": "code",
   "execution_count": 24,
   "id": "6c343e5e-7646-4c7f-9e44-1b71105ed230",
   "metadata": {},
   "outputs": [
    {
     "data": {
      "text/plain": [
       "['__add__',\n",
       " '__class__',\n",
       " '__contains__',\n",
       " '__delattr__',\n",
       " '__dir__',\n",
       " '__doc__',\n",
       " '__eq__',\n",
       " '__format__',\n",
       " '__ge__',\n",
       " '__getattribute__',\n",
       " '__getitem__',\n",
       " '__getnewargs__',\n",
       " '__getstate__',\n",
       " '__gt__',\n",
       " '__hash__',\n",
       " '__init__',\n",
       " '__init_subclass__',\n",
       " '__iter__',\n",
       " '__le__',\n",
       " '__len__',\n",
       " '__lt__',\n",
       " '__mod__',\n",
       " '__mul__',\n",
       " '__ne__',\n",
       " '__new__',\n",
       " '__reduce__',\n",
       " '__reduce_ex__',\n",
       " '__repr__',\n",
       " '__rmod__',\n",
       " '__rmul__',\n",
       " '__setattr__',\n",
       " '__sizeof__',\n",
       " '__str__',\n",
       " '__subclasshook__',\n",
       " 'capitalize',\n",
       " 'casefold',\n",
       " 'center',\n",
       " 'count',\n",
       " 'encode',\n",
       " 'endswith',\n",
       " 'expandtabs',\n",
       " 'find',\n",
       " 'format',\n",
       " 'format_map',\n",
       " 'index',\n",
       " 'isalnum',\n",
       " 'isalpha',\n",
       " 'isascii',\n",
       " 'isdecimal',\n",
       " 'isdigit',\n",
       " 'isidentifier',\n",
       " 'islower',\n",
       " 'isnumeric',\n",
       " 'isprintable',\n",
       " 'isspace',\n",
       " 'istitle',\n",
       " 'isupper',\n",
       " 'join',\n",
       " 'ljust',\n",
       " 'lower',\n",
       " 'lstrip',\n",
       " 'maketrans',\n",
       " 'partition',\n",
       " 'removeprefix',\n",
       " 'removesuffix',\n",
       " 'replace',\n",
       " 'rfind',\n",
       " 'rindex',\n",
       " 'rjust',\n",
       " 'rpartition',\n",
       " 'rsplit',\n",
       " 'rstrip',\n",
       " 'split',\n",
       " 'splitlines',\n",
       " 'startswith',\n",
       " 'strip',\n",
       " 'swapcase',\n",
       " 'title',\n",
       " 'translate',\n",
       " 'upper',\n",
       " 'zfill']"
      ]
     },
     "execution_count": 24,
     "metadata": {},
     "output_type": "execute_result"
    }
   ],
   "source": [
    "dir(name6)"
   ]
  },
  {
   "cell_type": "code",
   "execution_count": 29,
   "id": "21dd5027-0b4f-4fc9-bd1d-9ff3e1e0fd9a",
   "metadata": {},
   "outputs": [
    {
     "data": {
      "text/plain": [
       "'RAPHAEL'"
      ]
     },
     "execution_count": 29,
     "metadata": {},
     "output_type": "execute_result"
    }
   ],
   "source": [
    "name6.upper()"
   ]
  },
  {
   "cell_type": "code",
   "execution_count": 30,
   "id": "0ea85127-2c64-44ba-b3ce-81476304526f",
   "metadata": {},
   "outputs": [
    {
     "data": {
      "text/plain": [
       "'Raphael'"
      ]
     },
     "execution_count": 30,
     "metadata": {},
     "output_type": "execute_result"
    }
   ],
   "source": [
    "name6.title()"
   ]
  },
  {
   "cell_type": "code",
   "execution_count": null,
   "id": "f1eda82d-d022-4213-a956-711dc5ea2887",
   "metadata": {},
   "outputs": [],
   "source": []
  }
 ],
 "metadata": {
  "kernelspec": {
   "display_name": "Python 3 (ipykernel)",
   "language": "python",
   "name": "python3"
  },
  "language_info": {
   "codemirror_mode": {
    "name": "ipython",
    "version": 3
   },
   "file_extension": ".py",
   "mimetype": "text/x-python",
   "name": "python",
   "nbconvert_exporter": "python",
   "pygments_lexer": "ipython3",
   "version": "3.12.7"
  }
 },
 "nbformat": 4,
 "nbformat_minor": 5
}
