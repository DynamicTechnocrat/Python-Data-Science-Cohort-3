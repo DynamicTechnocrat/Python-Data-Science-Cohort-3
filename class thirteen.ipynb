{
 "cells": [
  {
   "cell_type": "code",
   "execution_count": 2,
   "id": "e79dda73-7bc9-4054-a4d3-a3a87d705e56",
   "metadata": {},
   "outputs": [],
   "source": [
    "### for loop (range,enumerate)\n",
    "### while loop "
   ]
  },
  {
   "cell_type": "code",
   "execution_count": 4,
   "id": "3d9d5116-74e0-4dd5-9e64-9d8b028102ce",
   "metadata": {},
   "outputs": [],
   "source": [
    "### for loop"
   ]
  },
  {
   "cell_type": "code",
   "execution_count": 9,
   "id": "f3f5f093-9ccf-4aa2-8658-5922fa4c93ed",
   "metadata": {},
   "outputs": [],
   "source": [
    "name_of_students = [\"raphael\",\"daniel\",\"bashy\",\"deji\"]"
   ]
  },
  {
   "cell_type": "code",
   "execution_count": 48,
   "id": "c774e848-4195-40d6-b6b4-fe274864a8eb",
   "metadata": {},
   "outputs": [
    {
     "data": {
      "text/plain": [
       "'deji'"
      ]
     },
     "execution_count": 48,
     "metadata": {},
     "output_type": "execute_result"
    }
   ],
   "source": [
    "name_of_students[3]"
   ]
  },
  {
   "cell_type": "code",
   "execution_count": 56,
   "id": "94ff561f-da2e-45c3-90be-a54d7f38bb3a",
   "metadata": {},
   "outputs": [
    {
     "name": "stdout",
     "output_type": "stream",
     "text": [
      "raphael <class 'str'> RAPHAEL\n",
      "raphael how are you\n",
      " \n",
      "daniel <class 'str'> DANIEL\n",
      "daniel how are you\n",
      " \n",
      "bashy <class 'str'> BASHY\n",
      "bashy how are you\n",
      " \n",
      "deji <class 'str'> DEJI\n",
      "deji how are you\n",
      " \n"
     ]
    }
   ],
   "source": [
    "for name in name_of_students:\n",
    "    print(name,type(name),name.upper())\n",
    "    print(name,\"how are you\")\n",
    "    print(\" \")\n",
    "    "
   ]
  },
  {
   "cell_type": "code",
   "execution_count": 55,
   "id": "1020c3ae-04d2-49d3-8a03-5019460caab9",
   "metadata": {},
   "outputs": [
    {
     "name": "stdout",
     "output_type": "stream",
     "text": [
      "raphael <class 'str'> RAPHAEL\n",
      "raphael how are you\n",
      " \n"
     ]
    }
   ],
   "source": [
    "name = name_of_students[0]\n",
    "print(name,type(name),name.upper())\n",
    "print(name,\"how are you\")\n",
    "print(\" \")"
   ]
  },
  {
   "cell_type": "code",
   "execution_count": 49,
   "id": "c7310ee8-d349-4bff-ae2c-4f2e716d74a8",
   "metadata": {},
   "outputs": [
    {
     "name": "stdout",
     "output_type": "stream",
     "text": [
      "raphael\n",
      "student\n",
      "daniel\n",
      "student\n",
      "bashy\n",
      "student\n",
      "deji\n",
      "student\n"
     ]
    }
   ],
   "source": [
    "name = name_of_students[0]\n",
    "print(name)\n",
    "print(\"student\")\n",
    "time.sleep(2)\n",
    "\n",
    "name = name_of_students[1]\n",
    "print(name)\n",
    "print(\"student\")\n",
    "time.sleep(2)\n",
    "\n",
    "name = name_of_students[2]\n",
    "print(name)\n",
    "print(\"student\")\n",
    "time.sleep(2)\n",
    "\n",
    "name = name_of_students[3]\n",
    "print(name)\n",
    "print(\"student\")\n",
    "time.sleep(2)"
   ]
  },
  {
   "cell_type": "code",
   "execution_count": 50,
   "id": "5fed80fc-8a6c-4c3c-ba4f-a80b78436f1d",
   "metadata": {},
   "outputs": [
    {
     "data": {
      "text/plain": [
       "'deji'"
      ]
     },
     "execution_count": 50,
     "metadata": {},
     "output_type": "execute_result"
    }
   ],
   "source": [
    "name"
   ]
  },
  {
   "cell_type": "code",
   "execution_count": 42,
   "id": "a7fa90b5-b02d-4fbe-8a2d-a7ac1b629347",
   "metadata": {},
   "outputs": [
    {
     "name": "stdout",
     "output_type": "stream",
     "text": [
      "deji\n",
      "teju\n"
     ]
    }
   ],
   "source": [
    "name = \"deji\"\n",
    "print(name)\n",
    "name = \"teju\"\n",
    "print(name)"
   ]
  },
  {
   "cell_type": "code",
   "execution_count": 43,
   "id": "8faea997-02d3-4c0e-b1ca-0e47f83fb485",
   "metadata": {},
   "outputs": [
    {
     "data": {
      "text/plain": [
       "'teju'"
      ]
     },
     "execution_count": 43,
     "metadata": {},
     "output_type": "execute_result"
    }
   ],
   "source": [
    "name"
   ]
  },
  {
   "cell_type": "code",
   "execution_count": 52,
   "id": "a8e7a5a2-c3ea-4058-8213-37fdef671af2",
   "metadata": {},
   "outputs": [],
   "source": [
    "### add numbers together using a loop \n",
    "### multiplication"
   ]
  },
  {
   "cell_type": "code",
   "execution_count": 66,
   "id": "6fcdf0bc-89ac-416b-8103-27c2d70b1979",
   "metadata": {},
   "outputs": [],
   "source": [
    "### addition\n",
    "numbers = [1,2,3,4,5,6,7,8,9,10]"
   ]
  },
  {
   "cell_type": "code",
   "execution_count": 67,
   "id": "85473b77-1f19-4780-8402-a8159408425d",
   "metadata": {},
   "outputs": [
    {
     "name": "stdout",
     "output_type": "stream",
     "text": [
      "1\n",
      "3\n",
      "6\n",
      "10\n",
      "15\n",
      "21\n",
      "28\n",
      "36\n",
      "45\n",
      "55\n"
     ]
    }
   ],
   "source": [
    "import time\n",
    "\n",
    "total = 0\n",
    "for num in numbers:\n",
    "    total = total + num \n",
    "    print(total) \n",
    "    time.sleep(2)"
   ]
  },
  {
   "cell_type": "code",
   "execution_count": 62,
   "id": "59c05e49-a60a-429b-ae75-40d6e18aea7b",
   "metadata": {},
   "outputs": [
    {
     "data": {
      "text/plain": [
       "6"
      ]
     },
     "execution_count": 62,
     "metadata": {},
     "output_type": "execute_result"
    }
   ],
   "source": [
    "total"
   ]
  },
  {
   "cell_type": "code",
   "execution_count": 59,
   "id": "a53fb344-cf5f-4cd1-85ad-103bbedd3f78",
   "metadata": {},
   "outputs": [
    {
     "name": "stdout",
     "output_type": "stream",
     "text": [
      "1\n",
      "3\n",
      "6\n"
     ]
    }
   ],
   "source": [
    "total = 0\n",
    "\n",
    "num =  numbers[0]\n",
    "\n",
    "total = total + num # 0 + 1 # 1\n",
    "\n",
    "print(total) #1\n",
    "\n",
    "num = numbers[1] # 2\n",
    "\n",
    "total = total + num ## 1 + 2 = 3\n",
    "\n",
    "print(total) #3\n",
    "\n",
    "num = numbers[2] #3\n",
    "\n",
    "total = total + num ## 3 + 3 = 6\n",
    "\n",
    "print(total) # 6\n",
    "\n",
    "\n",
    "\n"
   ]
  },
  {
   "cell_type": "code",
   "execution_count": 60,
   "id": "94cc29bf-d0b8-4553-8600-7dde21162a81",
   "metadata": {},
   "outputs": [
    {
     "data": {
      "text/plain": [
       "6"
      ]
     },
     "execution_count": 60,
     "metadata": {},
     "output_type": "execute_result"
    }
   ],
   "source": [
    "total"
   ]
  },
  {
   "cell_type": "code",
   "execution_count": 84,
   "id": "42932613-5111-4bc9-92a5-246bbef5ee01",
   "metadata": {},
   "outputs": [],
   "source": [
    "numbers = [1,2,3]"
   ]
  },
  {
   "cell_type": "code",
   "execution_count": 86,
   "id": "263f9b90-8039-48ab-860c-8da00905c287",
   "metadata": {},
   "outputs": [
    {
     "name": "stdout",
     "output_type": "stream",
     "text": [
      "1\n",
      "2\n",
      "6\n"
     ]
    }
   ],
   "source": [
    "import time\n",
    "total = 1\n",
    "\n",
    "for num in numbers:\n",
    "    total = total * num\n",
    "    print(total)\n"
   ]
  },
  {
   "cell_type": "code",
   "execution_count": 76,
   "id": "b393ba82-9b31-4e90-a610-ebdf734e6b41",
   "metadata": {},
   "outputs": [],
   "source": [
    "total = 1\n",
    "\n",
    "num = numbers[0]\n",
    "\n",
    "total = total * num #1\n",
    "\n",
    "\n",
    "num = numbers[1]\n",
    "\n",
    "total = total * num #2\n",
    "\n",
    "\n",
    "\n",
    "num = numbers[2]\n",
    "\n",
    "total = total * num ## 4\n",
    "\n"
   ]
  },
  {
   "cell_type": "code",
   "execution_count": 77,
   "id": "cda8dd28-709c-4af8-9b6b-3e4546750319",
   "metadata": {},
   "outputs": [
    {
     "data": {
      "text/plain": [
       "4"
      ]
     },
     "execution_count": 77,
     "metadata": {},
     "output_type": "execute_result"
    }
   ],
   "source": [
    "total"
   ]
  },
  {
   "cell_type": "code",
   "execution_count": null,
   "id": "5619d68d-c71a-4e9d-aa0a-b9a09d9988f9",
   "metadata": {},
   "outputs": [],
   "source": []
  }
 ],
 "metadata": {
  "kernelspec": {
   "display_name": "Python 3 (ipykernel)",
   "language": "python",
   "name": "python3"
  },
  "language_info": {
   "codemirror_mode": {
    "name": "ipython",
    "version": 3
   },
   "file_extension": ".py",
   "mimetype": "text/x-python",
   "name": "python",
   "nbconvert_exporter": "python",
   "pygments_lexer": "ipython3",
   "version": "3.12.7"
  }
 },
 "nbformat": 4,
 "nbformat_minor": 5
}
