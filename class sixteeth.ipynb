{
 "cells": [
  {
   "cell_type": "code",
   "execution_count": 2,
   "id": "dfa5b932-9e92-4035-b1b2-aa4f649bf44d",
   "metadata": {},
   "outputs": [],
   "source": [
    "#### function "
   ]
  },
  {
   "cell_type": "code",
   "execution_count": 3,
   "id": "828f1322-c4f5-4d7f-ac26-e3c66676c9b6",
   "metadata": {},
   "outputs": [
    {
     "name": "stdin",
     "output_type": "stream",
     "text": [
      "what is your name :  raphael\n"
     ]
    },
    {
     "name": "stdout",
     "output_type": "stream",
     "text": [
      "hello raphael\n"
     ]
    }
   ],
   "source": [
    "name = input(\"what is your name : \")\n",
    "\n",
    "\n",
    "print(\"hello\",name)"
   ]
  },
  {
   "cell_type": "code",
   "execution_count": 4,
   "id": "91974adc-349b-415b-b5ee-7866786b09c5",
   "metadata": {},
   "outputs": [
    {
     "name": "stdin",
     "output_type": "stream",
     "text": [
      "what is your name :  daniel\n"
     ]
    },
    {
     "name": "stdout",
     "output_type": "stream",
     "text": [
      "hello daniel\n"
     ]
    }
   ],
   "source": [
    "name = input(\"what is your name : \")\n",
    "\n",
    "\n",
    "print(\"hello\",name)"
   ]
  },
  {
   "cell_type": "code",
   "execution_count": 5,
   "id": "3e327f2c-e282-4ea1-84a2-d133b6963a6f",
   "metadata": {},
   "outputs": [],
   "source": [
    "### function in python\n",
    "### keyword (def)\n",
    "### function name (greet)\n",
    "### optional parameter\n",
    "### body of the function\n",
    "\n"
   ]
  },
  {
   "cell_type": "code",
   "execution_count": 7,
   "id": "4af40f02-b9f4-4713-ab29-785c2809fb96",
   "metadata": {},
   "outputs": [],
   "source": [
    "def greet(nameofperson):\n",
    "    print(\"hello\",nameofperson)"
   ]
  },
  {
   "cell_type": "code",
   "execution_count": 9,
   "id": "bf6f0124-525e-4d41-9a4b-b4cb7f671e23",
   "metadata": {},
   "outputs": [
    {
     "name": "stdout",
     "output_type": "stream",
     "text": [
      "hello raphael\n"
     ]
    }
   ],
   "source": [
    "greet(\"raphael\") ## calling a function"
   ]
  },
  {
   "cell_type": "code",
   "execution_count": 10,
   "id": "88647d7d-1232-45ce-8914-e15a8f9565a7",
   "metadata": {},
   "outputs": [
    {
     "name": "stdout",
     "output_type": "stream",
     "text": [
      "hello daniel\n"
     ]
    }
   ],
   "source": [
    "greet(\"daniel\")"
   ]
  },
  {
   "cell_type": "code",
   "execution_count": 11,
   "id": "c51bf4d4-abb4-406a-beee-b5f654fcd4bd",
   "metadata": {},
   "outputs": [
    {
     "name": "stdout",
     "output_type": "stream",
     "text": [
      "hello bashy\n"
     ]
    }
   ],
   "source": [
    "greet(\"bashy\")"
   ]
  },
  {
   "cell_type": "code",
   "execution_count": 12,
   "id": "481ccb4b-da92-4488-bdc9-fde9dda3f0ee",
   "metadata": {},
   "outputs": [],
   "source": [
    "## we want this function to print out the uppercase of name raphael RAPHAEL"
   ]
  },
  {
   "cell_type": "code",
   "execution_count": 14,
   "id": "2f98f2e3-afa1-4baf-bbd5-91b0f8930bc8",
   "metadata": {},
   "outputs": [],
   "source": [
    "def uppercase(username):\n",
    "    print(username.upper())"
   ]
  },
  {
   "cell_type": "code",
   "execution_count": 15,
   "id": "44f7c12f-7e9b-4069-81ad-468c366d40d7",
   "metadata": {},
   "outputs": [
    {
     "name": "stdout",
     "output_type": "stream",
     "text": [
      "RAPHAEL\n"
     ]
    }
   ],
   "source": [
    "uppercase(\"raphael\")"
   ]
  },
  {
   "cell_type": "code",
   "execution_count": 16,
   "id": "dab57f87-dc76-439d-b6c7-2a0656cfdb5a",
   "metadata": {},
   "outputs": [
    {
     "name": "stdout",
     "output_type": "stream",
     "text": [
      "BASHY\n"
     ]
    }
   ],
   "source": [
    "uppercase(\"bashy\")"
   ]
  },
  {
   "cell_type": "code",
   "execution_count": 17,
   "id": "ef511e19-eac4-45f7-81c9-74a54211fe6e",
   "metadata": {},
   "outputs": [
    {
     "name": "stdout",
     "output_type": "stream",
     "text": [
      "DEJI\n"
     ]
    }
   ],
   "source": [
    "uppercase(\"deji\")"
   ]
  },
  {
   "cell_type": "code",
   "execution_count": 20,
   "id": "a068936d-aa00-4343-8d4e-6c45751d8346",
   "metadata": {},
   "outputs": [
    {
     "data": {
      "text/plain": [
       "3000"
      ]
     },
     "execution_count": 20,
     "metadata": {},
     "output_type": "execute_result"
    }
   ],
   "source": [
    "#### a function that convert dollar to naira\n",
    "\n",
    "x = 2\n",
    "y = 1500 \n",
    "z = x * y\n",
    "z"
   ]
  },
  {
   "cell_type": "code",
   "execution_count": 21,
   "id": "13bad0a6-85f5-4590-8f0b-d5eee9e80e40",
   "metadata": {},
   "outputs": [],
   "source": [
    "def moneyconverter(dollar):\n",
    "    mydollar = dollar\n",
    "    nairaperdollar = 1500\n",
    "    convert = mydollar * nairaperdollar\n",
    "    print(convert)"
   ]
  },
  {
   "cell_type": "code",
   "execution_count": 22,
   "id": "e3309384-36a6-408f-a10b-434e4e53f04e",
   "metadata": {},
   "outputs": [
    {
     "name": "stdout",
     "output_type": "stream",
     "text": [
      "1500\n"
     ]
    }
   ],
   "source": [
    "moneyconverter(1)"
   ]
  },
  {
   "cell_type": "code",
   "execution_count": 23,
   "id": "64320906-c9be-46e6-85de-58bc9b482e5f",
   "metadata": {},
   "outputs": [
    {
     "name": "stdout",
     "output_type": "stream",
     "text": [
      "3000\n"
     ]
    }
   ],
   "source": [
    "moneyconverter(2)"
   ]
  },
  {
   "cell_type": "code",
   "execution_count": 24,
   "id": "382710f8-44c0-4fda-8bb0-2a4d61f4b1df",
   "metadata": {},
   "outputs": [
    {
     "name": "stdout",
     "output_type": "stream",
     "text": [
      "4500\n"
     ]
    }
   ],
   "source": [
    "moneyconverter(3)"
   ]
  },
  {
   "cell_type": "code",
   "execution_count": 25,
   "id": "e1c785ff-8c8b-4fb8-b58d-e5474b536179",
   "metadata": {},
   "outputs": [
    {
     "name": "stdout",
     "output_type": "stream",
     "text": [
      "150000\n"
     ]
    }
   ],
   "source": [
    "moneyconverter(100)"
   ]
  },
  {
   "cell_type": "code",
   "execution_count": 26,
   "id": "049adf52-c8a7-4f47-8af5-51cc477a7a94",
   "metadata": {},
   "outputs": [],
   "source": [
    "### add number together with function"
   ]
  },
  {
   "cell_type": "code",
   "execution_count": 27,
   "id": "f96d662a-6964-413b-b857-8ec93e509a82",
   "metadata": {},
   "outputs": [
    {
     "data": {
      "text/plain": [
       "3"
      ]
     },
     "execution_count": 27,
     "metadata": {},
     "output_type": "execute_result"
    }
   ],
   "source": [
    "x = 1\n",
    "y = 2\n",
    "\n",
    "x + y"
   ]
  },
  {
   "cell_type": "code",
   "execution_count": 28,
   "id": "dfd77305-6f6f-4f80-8f8c-3270c3efa197",
   "metadata": {},
   "outputs": [],
   "source": [
    "def add(x,y):\n",
    "    print(x + y)"
   ]
  },
  {
   "cell_type": "code",
   "execution_count": 29,
   "id": "d52399a1-c3d2-41d7-96fc-116425deb510",
   "metadata": {},
   "outputs": [
    {
     "name": "stdout",
     "output_type": "stream",
     "text": [
      "12\n"
     ]
    }
   ],
   "source": [
    "add(10,2)"
   ]
  },
  {
   "cell_type": "code",
   "execution_count": 30,
   "id": "21e135b7-7cfc-4d97-9faf-3a7932e4c4e2",
   "metadata": {
    "scrolled": true
   },
   "outputs": [
    {
     "name": "stdout",
     "output_type": "stream",
     "text": [
      "33\n"
     ]
    }
   ],
   "source": [
    "add(11,22)"
   ]
  },
  {
   "cell_type": "code",
   "execution_count": 31,
   "id": "8f3fcd40-2b0b-45a3-99ff-0b27f5f7a64e",
   "metadata": {},
   "outputs": [],
   "source": [
    "### multiplication"
   ]
  },
  {
   "cell_type": "code",
   "execution_count": 32,
   "id": "45a9babc-0de8-43e6-8066-c8d5f43e9e20",
   "metadata": {},
   "outputs": [],
   "source": [
    "def multiply(x,y,z):\n",
    "    print(x * y * z)"
   ]
  },
  {
   "cell_type": "code",
   "execution_count": 33,
   "id": "58520570-f4f9-4c71-a9ca-edcb7ada83ff",
   "metadata": {},
   "outputs": [
    {
     "name": "stdout",
     "output_type": "stream",
     "text": [
      "8\n"
     ]
    }
   ],
   "source": [
    "multiply(2,2,2)"
   ]
  },
  {
   "cell_type": "code",
   "execution_count": 34,
   "id": "42ff6fc8-11b0-4735-b50b-5661b1d4caa3",
   "metadata": {},
   "outputs": [
    {
     "name": "stdout",
     "output_type": "stream",
     "text": [
      "64\n"
     ]
    }
   ],
   "source": [
    "multiply(4,4,4)"
   ]
  },
  {
   "cell_type": "code",
   "execution_count": 35,
   "id": "dc17b9c9-295d-48ad-83db-ad1456baa486",
   "metadata": {},
   "outputs": [],
   "source": [
    "### differnece parameter and arguement"
   ]
  },
  {
   "cell_type": "code",
   "execution_count": 36,
   "id": "61c02034-3257-4be1-87f9-ac8e7a4a4e8d",
   "metadata": {},
   "outputs": [],
   "source": [
    "### return and print for function"
   ]
  },
  {
   "cell_type": "code",
   "execution_count": 46,
   "id": "f299753e-2cac-4c78-818b-d0e05296f41b",
   "metadata": {},
   "outputs": [],
   "source": [
    "def greet(name):\n",
    "    return \"hello \" + name"
   ]
  },
  {
   "cell_type": "code",
   "execution_count": 59,
   "id": "ab223e58-3d05-407c-bdff-1a9d4f596f20",
   "metadata": {},
   "outputs": [],
   "source": [
    "x = greet(\"raphael\")"
   ]
  },
  {
   "cell_type": "code",
   "execution_count": 60,
   "id": "3da81e88-ad94-4bb6-8d30-20013ff50051",
   "metadata": {},
   "outputs": [
    {
     "data": {
      "text/plain": [
       "'hello raphael'"
      ]
     },
     "execution_count": 60,
     "metadata": {},
     "output_type": "execute_result"
    }
   ],
   "source": [
    "x"
   ]
  },
  {
   "cell_type": "code",
   "execution_count": 61,
   "id": "e15922a5-3d3d-4582-9524-e5c996b388da",
   "metadata": {},
   "outputs": [
    {
     "data": {
      "text/plain": [
       "'hello raphael how are you '"
      ]
     },
     "execution_count": 61,
     "metadata": {},
     "output_type": "execute_result"
    }
   ],
   "source": [
    "x + \" how are you \""
   ]
  },
  {
   "cell_type": "code",
   "execution_count": null,
   "id": "4cd44881-4f15-4b75-9415-4d47a74f1282",
   "metadata": {},
   "outputs": [],
   "source": [
    "### *args and lambda"
   ]
  }
 ],
 "metadata": {
  "kernelspec": {
   "display_name": "Python 3 (ipykernel)",
   "language": "python",
   "name": "python3"
  },
  "language_info": {
   "codemirror_mode": {
    "name": "ipython",
    "version": 3
   },
   "file_extension": ".py",
   "mimetype": "text/x-python",
   "name": "python",
   "nbconvert_exporter": "python",
   "pygments_lexer": "ipython3",
   "version": "3.12.7"
  }
 },
 "nbformat": 4,
 "nbformat_minor": 5
}
