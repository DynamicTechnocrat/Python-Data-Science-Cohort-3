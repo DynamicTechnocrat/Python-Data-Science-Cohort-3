{
 "cells": [
  {
   "cell_type": "code",
   "execution_count": 1,
   "id": "9abd1dd6-9df1-40f0-830e-b49eec806dbe",
   "metadata": {},
   "outputs": [],
   "source": [
    "## lambda\n",
    "## map\n",
    "## filter\n",
    "## exception"
   ]
  },
  {
   "cell_type": "code",
   "execution_count": 3,
   "id": "a57d05e7-5c95-41c5-b9b6-804b500a1799",
   "metadata": {},
   "outputs": [],
   "source": [
    "def greet(name):\n",
    "    return f\"hello {name}\""
   ]
  },
  {
   "cell_type": "code",
   "execution_count": 4,
   "id": "082dc8eb-1c0d-4e16-9d46-f186ec91126d",
   "metadata": {},
   "outputs": [
    {
     "data": {
      "text/plain": [
       "'hello daniel'"
      ]
     },
     "execution_count": 4,
     "metadata": {},
     "output_type": "execute_result"
    }
   ],
   "source": [
    "greet(\"daniel\")"
   ]
  },
  {
   "cell_type": "code",
   "execution_count": 5,
   "id": "9c5930b7-f7af-4e50-b5e8-25ddc40a6567",
   "metadata": {},
   "outputs": [
    {
     "data": {
      "text/plain": [
       "'hello ayo'"
      ]
     },
     "execution_count": 5,
     "metadata": {},
     "output_type": "execute_result"
    }
   ],
   "source": [
    "greet(\"ayo\")"
   ]
  },
  {
   "cell_type": "code",
   "execution_count": 6,
   "id": "dd006b63-cec7-414e-af46-c0a9fdb8f99b",
   "metadata": {},
   "outputs": [],
   "source": [
    "## lambda "
   ]
  },
  {
   "cell_type": "code",
   "execution_count": 8,
   "id": "cd5977b1-29f9-4975-a4a0-9bdbe0897bb6",
   "metadata": {},
   "outputs": [],
   "source": [
    "igreet = lambda name: f\"hello {name}\""
   ]
  },
  {
   "cell_type": "code",
   "execution_count": 9,
   "id": "b2ef246b-9200-4953-9bbb-82835b9733b2",
   "metadata": {},
   "outputs": [
    {
     "data": {
      "text/plain": [
       "'hello tayo'"
      ]
     },
     "execution_count": 9,
     "metadata": {},
     "output_type": "execute_result"
    }
   ],
   "source": [
    "igreet(\"tayo\")"
   ]
  },
  {
   "cell_type": "code",
   "execution_count": 10,
   "id": "01a72c6f-b328-4dcc-b82c-26a49c831833",
   "metadata": {},
   "outputs": [
    {
     "data": {
      "text/plain": [
       "'hello bashy'"
      ]
     },
     "execution_count": 10,
     "metadata": {},
     "output_type": "execute_result"
    }
   ],
   "source": [
    "igreet(\"bashy\")"
   ]
  },
  {
   "cell_type": "code",
   "execution_count": 11,
   "id": "2afb6fd6-a0c1-4dfb-8654-74f4af2ef407",
   "metadata": {},
   "outputs": [],
   "source": [
    "def add(x,y):\n",
    "    return (x+y)"
   ]
  },
  {
   "cell_type": "code",
   "execution_count": 12,
   "id": "8f39ef80-8371-4611-b66b-bfc633117f98",
   "metadata": {},
   "outputs": [
    {
     "data": {
      "text/plain": [
       "9"
      ]
     },
     "execution_count": 12,
     "metadata": {},
     "output_type": "execute_result"
    }
   ],
   "source": [
    "add(5,4)"
   ]
  },
  {
   "cell_type": "code",
   "execution_count": 14,
   "id": "f3f27dd4-f734-4613-9b65-6209cf2c7c9d",
   "metadata": {},
   "outputs": [],
   "source": [
    "iadd = lambda x,y: x+y"
   ]
  },
  {
   "cell_type": "code",
   "execution_count": 15,
   "id": "e4afafec-7fdf-42a2-bf47-7eb3a75f7594",
   "metadata": {},
   "outputs": [
    {
     "data": {
      "text/plain": [
       "13"
      ]
     },
     "execution_count": 15,
     "metadata": {},
     "output_type": "execute_result"
    }
   ],
   "source": [
    "iadd(6,7)"
   ]
  },
  {
   "cell_type": "code",
   "execution_count": 16,
   "id": "074446e2-f3d5-4c7d-879c-6ac01859bef3",
   "metadata": {},
   "outputs": [],
   "source": [
    "### map"
   ]
  },
  {
   "cell_type": "code",
   "execution_count": 17,
   "id": "b7beaf95-9532-4db2-afe5-c3bca80b6534",
   "metadata": {},
   "outputs": [],
   "source": [
    "x = [1,2,3,4]"
   ]
  },
  {
   "cell_type": "code",
   "execution_count": null,
   "id": "5b189d2a-5635-46fc-84d4-5a0b31df08d5",
   "metadata": {},
   "outputs": [],
   "source": []
  },
  {
   "cell_type": "code",
   "execution_count": 24,
   "id": "9c3f23b5-fe51-4d2d-8f56-28577a53a865",
   "metadata": {},
   "outputs": [],
   "source": [
    "def bonus(y):\n",
    "    return y +2"
   ]
  },
  {
   "cell_type": "code",
   "execution_count": 26,
   "id": "1386c940-d563-4ee4-9b50-a2644828f954",
   "metadata": {},
   "outputs": [
    {
     "data": {
      "text/plain": [
       "[3, 4, 5, 6]"
      ]
     },
     "execution_count": 26,
     "metadata": {},
     "output_type": "execute_result"
    }
   ],
   "source": [
    "list(map(bonus,x))"
   ]
  },
  {
   "cell_type": "code",
   "execution_count": 27,
   "id": "6fc631cc-9e85-4bbb-9439-a6562955d9a7",
   "metadata": {},
   "outputs": [],
   "source": [
    "y = [2,4,6,8]"
   ]
  },
  {
   "cell_type": "code",
   "execution_count": 28,
   "id": "78b56000-32f9-427a-9714-0ea1f28f942f",
   "metadata": {},
   "outputs": [],
   "source": [
    "def square(p):\n",
    "    return p * p"
   ]
  },
  {
   "cell_type": "code",
   "execution_count": 30,
   "id": "ff179c08-f836-4014-9442-50b4fe2fd7aa",
   "metadata": {},
   "outputs": [
    {
     "data": {
      "text/plain": [
       "[4, 16, 36, 64]"
      ]
     },
     "execution_count": 30,
     "metadata": {},
     "output_type": "execute_result"
    }
   ],
   "source": [
    "list(map(square,y))"
   ]
  },
  {
   "cell_type": "code",
   "execution_count": 31,
   "id": "5d18b965-ff89-4ab6-bb36-a6ca363ba6da",
   "metadata": {},
   "outputs": [],
   "source": [
    "### filter"
   ]
  },
  {
   "cell_type": "code",
   "execution_count": 32,
   "id": "96397ae7-3c05-4694-ac5b-bb000886462e",
   "metadata": {},
   "outputs": [],
   "source": [
    "numbers = [2,4,5,6,7,8,9]"
   ]
  },
  {
   "cell_type": "code",
   "execution_count": 45,
   "id": "099189aa-ec34-4faa-a904-f25c318b19e8",
   "metadata": {},
   "outputs": [],
   "source": [
    "def adjust(x):\n",
    "    compute = x % 2 \n",
    "    return compute == 0\n",
    "    "
   ]
  },
  {
   "cell_type": "code",
   "execution_count": 47,
   "id": "39a37864-e41d-4e05-83d2-d1ca4c1bb215",
   "metadata": {},
   "outputs": [
    {
     "data": {
      "text/plain": [
       "[2, 4, 6, 8]"
      ]
     },
     "execution_count": 47,
     "metadata": {},
     "output_type": "execute_result"
    }
   ],
   "source": [
    "list(filter(adjust,numbers))"
   ]
  },
  {
   "cell_type": "code",
   "execution_count": 48,
   "id": "57ef645f-b5d7-4b44-adf1-20970d542374",
   "metadata": {},
   "outputs": [],
   "source": [
    "### exception"
   ]
  },
  {
   "cell_type": "code",
   "execution_count": 49,
   "id": "e95a2c4c-cbaf-44b4-bede-269d0b4df98e",
   "metadata": {},
   "outputs": [],
   "source": [
    "x = 12\n",
    "y = 0"
   ]
  },
  {
   "cell_type": "code",
   "execution_count": 50,
   "id": "33e20474-f002-4eef-8b17-3ccc81eb8fc7",
   "metadata": {},
   "outputs": [
    {
     "ename": "ZeroDivisionError",
     "evalue": "division by zero",
     "output_type": "error",
     "traceback": [
      "\u001b[1;31m---------------------------------------------------------------------------\u001b[0m",
      "\u001b[1;31mZeroDivisionError\u001b[0m                         Traceback (most recent call last)",
      "Cell \u001b[1;32mIn[50], line 1\u001b[0m\n\u001b[1;32m----> 1\u001b[0m x \u001b[38;5;241m/\u001b[39m y\n",
      "\u001b[1;31mZeroDivisionError\u001b[0m: division by zero"
     ]
    }
   ],
   "source": [
    "x / y"
   ]
  },
  {
   "cell_type": "code",
   "execution_count": 57,
   "id": "fc5a576a-a6b7-49c2-a716-b8a1aadd825d",
   "metadata": {},
   "outputs": [
    {
     "name": "stdout",
     "output_type": "stream",
     "text": [
      "you cannot divide by zero\n"
     ]
    }
   ],
   "source": [
    "try:\n",
    "    x = 12\n",
    "    y = 0\n",
    "    x/y\n",
    "except ZeroDivisionError:\n",
    "    print(\"you cannot divide by zero\")"
   ]
  },
  {
   "cell_type": "code",
   "execution_count": 51,
   "id": "e1af61dc-8edd-43d0-bba0-6d38bc98b089",
   "metadata": {},
   "outputs": [
    {
     "ename": "TypeError",
     "evalue": "unsupported operand type(s) for /: 'int' and 'str'",
     "output_type": "error",
     "traceback": [
      "\u001b[1;31m---------------------------------------------------------------------------\u001b[0m",
      "\u001b[1;31mTypeError\u001b[0m                                 Traceback (most recent call last)",
      "Cell \u001b[1;32mIn[51], line 1\u001b[0m\n\u001b[1;32m----> 1\u001b[0m \u001b[38;5;241m15\u001b[39m \u001b[38;5;241m/\u001b[39m \u001b[38;5;124m\"\u001b[39m\u001b[38;5;124mdeji\u001b[39m\u001b[38;5;124m\"\u001b[39m\n",
      "\u001b[1;31mTypeError\u001b[0m: unsupported operand type(s) for /: 'int' and 'str'"
     ]
    }
   ],
   "source": [
    "15 / \"deji\""
   ]
  },
  {
   "cell_type": "code",
   "execution_count": 58,
   "id": "6f182231-f7f5-44c3-94f5-f392a56750fe",
   "metadata": {},
   "outputs": [
    {
     "name": "stdout",
     "output_type": "stream",
     "text": [
      "you cant divide by a string\n"
     ]
    }
   ],
   "source": [
    "try:\n",
    "    15 /\"deji\"\n",
    "\n",
    "except TypeError:\n",
    "    print(\"you cant divide by a string\")"
   ]
  },
  {
   "cell_type": "code",
   "execution_count": 52,
   "id": "1688e419-3b5e-4a90-9759-fd676ffdfe1d",
   "metadata": {},
   "outputs": [
    {
     "ename": "NameError",
     "evalue": "name 'name10' is not defined",
     "output_type": "error",
     "traceback": [
      "\u001b[1;31m---------------------------------------------------------------------------\u001b[0m",
      "\u001b[1;31mNameError\u001b[0m                                 Traceback (most recent call last)",
      "Cell \u001b[1;32mIn[52], line 1\u001b[0m\n\u001b[1;32m----> 1\u001b[0m name10\n",
      "\u001b[1;31mNameError\u001b[0m: name 'name10' is not defined"
     ]
    }
   ],
   "source": [
    "name10"
   ]
  },
  {
   "cell_type": "code",
   "execution_count": 59,
   "id": "f2b36b0f-7c58-4757-8e13-b62017721770",
   "metadata": {},
   "outputs": [
    {
     "name": "stdout",
     "output_type": "stream",
     "text": [
      "you did not define that variable name\n"
     ]
    }
   ],
   "source": [
    "try:\n",
    "    name10\n",
    "\n",
    "except NameError:\n",
    "    print(\"you did not define that variable name\")"
   ]
  },
  {
   "cell_type": "code",
   "execution_count": 66,
   "id": "132d4a50-2b63-4ef7-9fe8-a91843d57214",
   "metadata": {},
   "outputs": [
    {
     "name": "stdin",
     "output_type": "stream",
     "text": [
      "Enter a number :  56\n",
      "Enter second number :  0\n"
     ]
    },
    {
     "name": "stdout",
     "output_type": "stream",
     "text": [
      "invalid number\n",
      "my code run\n"
     ]
    }
   ],
   "source": [
    "try:\n",
    "    x = int(input(\"Enter a number : \"))\n",
    "    y = int(input(\"Enter second number : \"))\n",
    "    x / y\n",
    "except :\n",
    "    print(\"invalid number\")\n",
    "\n",
    "finally:\n",
    "    print(\"my code run\")"
   ]
  },
  {
   "cell_type": "code",
   "execution_count": null,
   "id": "fe1c9dcc-ae38-41f9-b9b3-25ea53ee5ed6",
   "metadata": {},
   "outputs": [],
   "source": []
  }
 ],
 "metadata": {
  "kernelspec": {
   "display_name": "Python 3 (ipykernel)",
   "language": "python",
   "name": "python3"
  },
  "language_info": {
   "codemirror_mode": {
    "name": "ipython",
    "version": 3
   },
   "file_extension": ".py",
   "mimetype": "text/x-python",
   "name": "python",
   "nbconvert_exporter": "python",
   "pygments_lexer": "ipython3",
   "version": "3.12.7"
  }
 },
 "nbformat": 4,
 "nbformat_minor": 5
}
