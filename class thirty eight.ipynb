{
 "cells": [
  {
   "cell_type": "code",
   "execution_count": 38,
   "id": "a574d052-87f7-4bb9-b3be-0a3e10b0ad5d",
   "metadata": {},
   "outputs": [],
   "source": [
    "class Human:\n",
    "    def __init__(self,name,age):\n",
    "        self.myname = name \n",
    "        self.myage = age\n",
    "\n",
    "    def eat(self):\n",
    "        return f\"{self.myname} ate\"\n",
    "\n",
    "    def jump(self):\n",
    "        return f\"{self.myname} jumped\""
   ]
  },
  {
   "cell_type": "code",
   "execution_count": 39,
   "id": "59065eb5-03c3-479b-85f9-7f1900e0a8d1",
   "metadata": {},
   "outputs": [],
   "source": [
    "firstperson = Human(\"raphael\",10)"
   ]
  },
  {
   "cell_type": "code",
   "execution_count": 41,
   "id": "7046b696-ba4d-4867-accf-8a0c812aa793",
   "metadata": {},
   "outputs": [
    {
     "data": {
      "text/plain": [
       "'raphael jumped'"
      ]
     },
     "execution_count": 41,
     "metadata": {},
     "output_type": "execute_result"
    }
   ],
   "source": [
    "firstperson.jump()"
   ]
  },
  {
   "cell_type": "code",
   "execution_count": 37,
   "id": "526a7f9f-d5d9-43b1-aa33-bc3130943d05",
   "metadata": {},
   "outputs": [
    {
     "data": {
      "text/plain": [
       "'raphael ate'"
      ]
     },
     "execution_count": 37,
     "metadata": {},
     "output_type": "execute_result"
    }
   ],
   "source": [
    "firstperson.eat()"
   ]
  },
  {
   "cell_type": "code",
   "execution_count": 29,
   "id": "8c7f1fe8-be00-4ac6-a358-0439dd072600",
   "metadata": {},
   "outputs": [
    {
     "data": {
      "text/plain": [
       "['__class__',\n",
       " '__delattr__',\n",
       " '__dict__',\n",
       " '__dir__',\n",
       " '__doc__',\n",
       " '__eq__',\n",
       " '__format__',\n",
       " '__ge__',\n",
       " '__getattribute__',\n",
       " '__getstate__',\n",
       " '__gt__',\n",
       " '__hash__',\n",
       " '__init__',\n",
       " '__init_subclass__',\n",
       " '__le__',\n",
       " '__lt__',\n",
       " '__module__',\n",
       " '__ne__',\n",
       " '__new__',\n",
       " '__reduce__',\n",
       " '__reduce_ex__',\n",
       " '__repr__',\n",
       " '__setattr__',\n",
       " '__sizeof__',\n",
       " '__str__',\n",
       " '__subclasshook__',\n",
       " '__weakref__',\n",
       " 'eat',\n",
       " 'jump',\n",
       " 'myage',\n",
       " 'myname']"
      ]
     },
     "execution_count": 29,
     "metadata": {},
     "output_type": "execute_result"
    }
   ],
   "source": [
    "dir(firstperson)"
   ]
  },
  {
   "cell_type": "code",
   "execution_count": 30,
   "id": "a546c331-80b7-4834-8976-07bb2e16254d",
   "metadata": {},
   "outputs": [
    {
     "data": {
      "text/plain": [
       "10"
      ]
     },
     "execution_count": 30,
     "metadata": {},
     "output_type": "execute_result"
    }
   ],
   "source": [
    "firstperson.myage"
   ]
  },
  {
   "cell_type": "code",
   "execution_count": 31,
   "id": "bc33a108-66a4-422e-9f73-a2204f325c86",
   "metadata": {},
   "outputs": [
    {
     "data": {
      "text/plain": [
       "'raphael'"
      ]
     },
     "execution_count": 31,
     "metadata": {},
     "output_type": "execute_result"
    }
   ],
   "source": [
    "firstperson.myname"
   ]
  },
  {
   "cell_type": "code",
   "execution_count": 32,
   "id": "45b9b839-5512-4d5c-b62d-f18188983af8",
   "metadata": {},
   "outputs": [
    {
     "data": {
      "text/plain": [
       "'i ate'"
      ]
     },
     "execution_count": 32,
     "metadata": {},
     "output_type": "execute_result"
    }
   ],
   "source": [
    "firstperson.eat()"
   ]
  },
  {
   "cell_type": "code",
   "execution_count": 33,
   "id": "df497684-5c43-4584-b47e-8b2ed8a58ce5",
   "metadata": {},
   "outputs": [
    {
     "data": {
      "text/plain": [
       "'i jumped'"
      ]
     },
     "execution_count": 33,
     "metadata": {},
     "output_type": "execute_result"
    }
   ],
   "source": [
    "firstperson.jump()"
   ]
  },
  {
   "cell_type": "code",
   "execution_count": null,
   "id": "8fbe4f3a-964c-4e3f-bf46-07d9a696200d",
   "metadata": {},
   "outputs": [],
   "source": [
    "#### python basic variable , string \n",
    "## loop\n",
    "### student data analysis\n",
    "### ml for classification problem accuracy precision recall\n",
    "### ml for regression rsquare mse , mape \n",
    "### generative ai using gemini api \n",
    "### basic object oriented programming "
   ]
  },
  {
   "cell_type": "code",
   "execution_count": null,
   "id": "1b788419-50f6-460d-9c38-24b06eceae4e",
   "metadata": {},
   "outputs": [],
   "source": [
    "### uploading code on github , kaggle , if your machine learning is not good (study more) "
   ]
  }
 ],
 "metadata": {
  "kernelspec": {
   "display_name": "Python 3 (ipykernel)",
   "language": "python",
   "name": "python3"
  },
  "language_info": {
   "codemirror_mode": {
    "name": "ipython",
    "version": 3
   },
   "file_extension": ".py",
   "mimetype": "text/x-python",
   "name": "python",
   "nbconvert_exporter": "python",
   "pygments_lexer": "ipython3",
   "version": "3.12.7"
  }
 },
 "nbformat": 4,
 "nbformat_minor": 5
}
