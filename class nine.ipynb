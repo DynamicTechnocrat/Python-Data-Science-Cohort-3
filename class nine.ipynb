{
 "cells": [
  {
   "cell_type": "markdown",
   "id": "da963d0c-d388-475e-befd-9741c92b3065",
   "metadata": {},
   "source": [
    "## Assignment: Using or, not, and elif in Conditional Statements\n",
    "Objective:\n",
    "Create a Python program that uses a conditional statement including the logical operators or and not, and also uses elif.\n",
    "\n",
    "Instructions:\n",
    "\n",
    "Define at least two variables (e.g., age, is_registered, has_permission, etc.).\n",
    "\n",
    "Write an if...elif...else statement that:\n",
    "\n",
    "Uses the or operator.\n",
    "\n",
    "Uses the not operator.\n",
    "\n",
    "Based on the condition, print different messages."
   ]
  },
  {
   "cell_type": "code",
   "execution_count": 1,
   "id": "59549309-ce05-4162-9bbb-9de8af1c2ebc",
   "metadata": {},
   "outputs": [],
   "source": [
    "age = 20\n",
    "\n",
    "is_registered = \"No\""
   ]
  },
  {
   "cell_type": "code",
   "execution_count": 3,
   "id": "564ac672-50c1-4434-8607-513acb84df1e",
   "metadata": {},
   "outputs": [
    {
     "data": {
      "text/plain": [
       "True"
      ]
     },
     "execution_count": 3,
     "metadata": {},
     "output_type": "execute_result"
    }
   ],
   "source": [
    "not is_registered == \"No\""
   ]
  },
  {
   "cell_type": "code",
   "execution_count": 6,
   "id": "656398f4-9cf3-4371-84f0-7e8c53a5c06a",
   "metadata": {},
   "outputs": [
    {
     "data": {
      "text/plain": [
       "True"
      ]
     },
     "execution_count": 6,
     "metadata": {},
     "output_type": "execute_result"
    }
   ],
   "source": [
    "gender = \"female\"\n",
    "\n",
    "not gender == \"male\""
   ]
  },
  {
   "cell_type": "code",
   "execution_count": 17,
   "id": "22fde2b0-8f43-4a0b-bacc-828a1df3f842",
   "metadata": {},
   "outputs": [
    {
     "data": {
      "text/plain": [
       "False"
      ]
     },
     "execution_count": 17,
     "metadata": {},
     "output_type": "execute_result"
    }
   ],
   "source": [
    "name = \"deji\"\n",
    "gender = \"male\"\n",
    "\n",
    "not name == \"deji\"  ## the name not equal to deji"
   ]
  },
  {
   "cell_type": "code",
   "execution_count": 21,
   "id": "2d8d7624-34e0-49ae-a796-9356637663da",
   "metadata": {},
   "outputs": [
    {
     "name": "stdout",
     "output_type": "stream",
     "text": [
      "he is either daniel or male\n"
     ]
    }
   ],
   "source": [
    "if (name == \"daniel\") or (gender == \"male\") :\n",
    "    print(\"he is either daniel or male\")\n",
    "\n",
    "else:\n",
    "    print(\"he is neither\")"
   ]
  },
  {
   "cell_type": "code",
   "execution_count": 25,
   "id": "aeb2721a-67ae-4af6-a5cb-89655ddea19d",
   "metadata": {},
   "outputs": [
    {
     "name": "stdout",
     "output_type": "stream",
     "text": [
      "i know them\n"
     ]
    }
   ],
   "source": [
    "name1 = \"raphael\"\n",
    "name2 = \"daniel\"\n",
    "\n",
    "\n",
    "if (name1 == \"bashy\") or not (name2 == \"deji\"):\n",
    "    print(\"i know them\")\n",
    "\n",
    "else:\n",
    "    print(\" i dont know them\")\n"
   ]
  },
  {
   "cell_type": "code",
   "execution_count": 39,
   "id": "c7f81680-2547-4443-ad87-3ca064860956",
   "metadata": {},
   "outputs": [
    {
     "name": "stdin",
     "output_type": "stream",
     "text": [
      "what is your name :  raphael\n"
     ]
    },
    {
     "name": "stdout",
     "output_type": "stream",
     "text": [
      "i know them\n"
     ]
    }
   ],
   "source": [
    "name1 = input(\"what is your name : \")\n",
    "name2 = \"daniel\"\n",
    "\n",
    "\n",
    "if (name1 == \"raphael\") and not (name2 == \"deji\"):\n",
    "    print(\"i know them\")\n",
    "\n",
    "else:\n",
    "    print(\" i dont know them\")\n"
   ]
  },
  {
   "cell_type": "code",
   "execution_count": null,
   "id": "d7274d8c-9ec5-4951-b968-1882128707bc",
   "metadata": {},
   "outputs": [],
   "source": []
  },
  {
   "cell_type": "code",
   "execution_count": null,
   "id": "9da9929d-f09e-42f2-bb15-255c3a39d699",
   "metadata": {},
   "outputs": [],
   "source": []
  },
  {
   "cell_type": "code",
   "execution_count": 37,
   "id": "605cba5e-1806-420c-82bd-86ad21d98f10",
   "metadata": {},
   "outputs": [],
   "source": [
    "## FORMATTING INPUT , INDEX , SLICING "
   ]
  },
  {
   "cell_type": "code",
   "execution_count": 50,
   "id": "2b723103-3038-4fb5-9374-cfc15947a821",
   "metadata": {},
   "outputs": [
    {
     "name": "stdin",
     "output_type": "stream",
     "text": [
      "what is your name :  daniel\n"
     ]
    },
    {
     "name": "stdout",
     "output_type": "stream",
     "text": [
      "daniel user enter this\n",
      "DANIEL formatted\n"
     ]
    }
   ],
   "source": [
    "name = input(\"what is your name : \")\n",
    "\n",
    "print(name,\"user enter this\")\n",
    "\n",
    "name = name.upper()\n",
    "print(name,\"formatted\")"
   ]
  },
  {
   "cell_type": "code",
   "execution_count": null,
   "id": "5d7d54cd-09c9-45b1-b39a-72286a122f59",
   "metadata": {},
   "outputs": [],
   "source": []
  },
  {
   "cell_type": "code",
   "execution_count": 51,
   "id": "55d2ca89-0882-4739-ad05-576f4ca72554",
   "metadata": {},
   "outputs": [
    {
     "data": {
      "text/plain": [
       "'daniel'"
      ]
     },
     "execution_count": 51,
     "metadata": {},
     "output_type": "execute_result"
    }
   ],
   "source": [
    "firstname = \"daniel\"\n",
    "\n",
    "firstname"
   ]
  },
  {
   "cell_type": "code",
   "execution_count": 53,
   "id": "0e759de0-8a35-431a-992b-556b90a35d92",
   "metadata": {},
   "outputs": [
    {
     "data": {
      "text/plain": [
       "'d'"
      ]
     },
     "execution_count": 53,
     "metadata": {},
     "output_type": "execute_result"
    }
   ],
   "source": [
    "### index\n",
    "\n",
    "firstname[0]"
   ]
  },
  {
   "cell_type": "code",
   "execution_count": 54,
   "id": "985f6dde-8819-4fd9-adea-cfc5f6ff8cc0",
   "metadata": {},
   "outputs": [
    {
     "data": {
      "text/plain": [
       "'a'"
      ]
     },
     "execution_count": 54,
     "metadata": {},
     "output_type": "execute_result"
    }
   ],
   "source": [
    "firstname[1]"
   ]
  },
  {
   "cell_type": "code",
   "execution_count": 55,
   "id": "81097b0d-5fa5-4b3e-b1c3-cfd660cb097f",
   "metadata": {},
   "outputs": [
    {
     "data": {
      "text/plain": [
       "'n'"
      ]
     },
     "execution_count": 55,
     "metadata": {},
     "output_type": "execute_result"
    }
   ],
   "source": [
    "firstname[2]"
   ]
  },
  {
   "cell_type": "code",
   "execution_count": 56,
   "id": "329a0c92-77f6-4425-9924-6ba860530725",
   "metadata": {},
   "outputs": [
    {
     "data": {
      "text/plain": [
       "'l'"
      ]
     },
     "execution_count": 56,
     "metadata": {},
     "output_type": "execute_result"
    }
   ],
   "source": [
    "firstname[-1]"
   ]
  },
  {
   "cell_type": "code",
   "execution_count": 57,
   "id": "491232d9-dfa8-48cb-9767-1c7df905d6ca",
   "metadata": {},
   "outputs": [
    {
     "data": {
      "text/plain": [
       "'e'"
      ]
     },
     "execution_count": 57,
     "metadata": {},
     "output_type": "execute_result"
    }
   ],
   "source": [
    "firstname[-2]"
   ]
  },
  {
   "cell_type": "code",
   "execution_count": 58,
   "id": "30cd39f0-67a0-4997-a05b-4e9843763ad0",
   "metadata": {},
   "outputs": [],
   "source": [
    "### slicing"
   ]
  },
  {
   "cell_type": "code",
   "execution_count": 60,
   "id": "81ea61b1-ff4f-475a-a2c2-147e66cc25f6",
   "metadata": {},
   "outputs": [
    {
     "data": {
      "text/plain": [
       "'dan'"
      ]
     },
     "execution_count": 60,
     "metadata": {},
     "output_type": "execute_result"
    }
   ],
   "source": [
    "firstname[0:3]"
   ]
  },
  {
   "cell_type": "code",
   "execution_count": 61,
   "id": "f2f8fef6-1f20-45e6-be17-bdabf67ba458",
   "metadata": {},
   "outputs": [
    {
     "data": {
      "text/plain": [
       "'ani'"
      ]
     },
     "execution_count": 61,
     "metadata": {},
     "output_type": "execute_result"
    }
   ],
   "source": [
    "firstname[1:4]"
   ]
  },
  {
   "cell_type": "code",
   "execution_count": 62,
   "id": "601979ff-d2f4-4a7d-8e5d-0253cf4809aa",
   "metadata": {},
   "outputs": [
    {
     "data": {
      "text/plain": [
       "'niel'"
      ]
     },
     "execution_count": 62,
     "metadata": {},
     "output_type": "execute_result"
    }
   ],
   "source": [
    "firstname[2:]"
   ]
  },
  {
   "cell_type": "code",
   "execution_count": null,
   "id": "a88ed83c-dc18-42b2-b00f-f75d4b6a17ea",
   "metadata": {},
   "outputs": [],
   "source": [
    "###\n",
    "### data structure\n",
    "\n",
    "list , set , tuples , dictionary "
   ]
  }
 ],
 "metadata": {
  "kernelspec": {
   "display_name": "Python 3 (ipykernel)",
   "language": "python",
   "name": "python3"
  },
  "language_info": {
   "codemirror_mode": {
    "name": "ipython",
    "version": 3
   },
   "file_extension": ".py",
   "mimetype": "text/x-python",
   "name": "python",
   "nbconvert_exporter": "python",
   "pygments_lexer": "ipython3",
   "version": "3.12.7"
  }
 },
 "nbformat": 4,
 "nbformat_minor": 5
}
